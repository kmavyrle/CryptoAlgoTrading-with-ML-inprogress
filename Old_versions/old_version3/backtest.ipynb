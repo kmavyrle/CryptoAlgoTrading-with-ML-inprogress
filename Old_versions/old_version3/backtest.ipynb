{
 "cells": [
  {
   "cell_type": "code",
   "execution_count": 68,
   "metadata": {},
   "outputs": [
    {
     "name": "stdout",
     "output_type": "stream",
     "text": [
      "The autoreload extension is already loaded. To reload it, use:\n",
      "  %reload_ext autoreload\n"
     ]
    }
   ],
   "source": [
    "import os\n",
    "import pandas as pd\n",
    "import matplotlib.pyplot as plt\n",
    "import datetime as dt\n",
    "import numpy as np\n",
    "import yfinance as yf\n",
    "import functions as f\n",
    "\n",
    "\n",
    "%load_ext autoreload\n",
    "%autoreload 2"
   ]
  },
  {
   "cell_type": "markdown",
   "metadata": {},
   "source": [
    "## Data Prepcocessing"
   ]
  },
  {
   "cell_type": "code",
   "execution_count": 69,
   "metadata": {},
   "outputs": [
    {
     "name": "stdout",
     "output_type": "stream",
     "text": [
      "[*********************100%***********************]  1 of 1 completed\n"
     ]
    },
    {
     "data": {
      "text/plain": [
       "Date\n",
       "2019-01-01    3843.520020\n",
       "2019-01-02    3943.409424\n",
       "2019-01-03    3836.741211\n",
       "2019-01-04    3857.717529\n",
       "2019-01-05    3845.194580\n",
       "Name: Adj Close, dtype: float64"
      ]
     },
     "execution_count": 69,
     "metadata": {},
     "output_type": "execute_result"
    }
   ],
   "source": [
    "tickerlist = ['BTC-USD']\n",
    "df = yf.download(tickerlist, period = '1d', start = '2007-01-01',end = pd.Timestamp.today())\n",
    "columns = tickerlist\n",
    "df = df.iloc[:,4]['2019':]\n",
    "df.head()"
   ]
  },
  {
   "cell_type": "code",
   "execution_count": 70,
   "metadata": {},
   "outputs": [],
   "source": [
    "df = pd.DataFrame(df).pct_change().dropna()\n",
    "df.index = df.index.astype(str)\n",
    "df['Adj Close'] = df['Adj Close']\n",
    "df['date'] = df.index"
   ]
  },
  {
   "cell_type": "markdown",
   "metadata": {},
   "source": [
    "## Import backtest results generated from Model.ipynb"
   ]
  },
  {
   "cell_type": "code",
   "execution_count": 71,
   "metadata": {},
   "outputs": [
    {
     "data": {
      "text/html": [
       "<div>\n",
       "<style scoped>\n",
       "    .dataframe tbody tr th:only-of-type {\n",
       "        vertical-align: middle;\n",
       "    }\n",
       "\n",
       "    .dataframe tbody tr th {\n",
       "        vertical-align: top;\n",
       "    }\n",
       "\n",
       "    .dataframe thead th {\n",
       "        text-align: right;\n",
       "    }\n",
       "</style>\n",
       "<table border=\"1\" class=\"dataframe\">\n",
       "  <thead>\n",
       "    <tr style=\"text-align: right;\">\n",
       "      <th></th>\n",
       "      <th>BTC-USD</th>\n",
       "      <th>date</th>\n",
       "    </tr>\n",
       "  </thead>\n",
       "  <tbody>\n",
       "    <tr>\n",
       "      <th>2020-01-31</th>\n",
       "      <td>1</td>\n",
       "      <td>2020-01-31</td>\n",
       "    </tr>\n",
       "    <tr>\n",
       "      <th>2020-02-01</th>\n",
       "      <td>1</td>\n",
       "      <td>2020-02-01</td>\n",
       "    </tr>\n",
       "    <tr>\n",
       "      <th>2020-02-02</th>\n",
       "      <td>1</td>\n",
       "      <td>2020-02-02</td>\n",
       "    </tr>\n",
       "    <tr>\n",
       "      <th>2020-02-03</th>\n",
       "      <td>1</td>\n",
       "      <td>2020-02-03</td>\n",
       "    </tr>\n",
       "    <tr>\n",
       "      <th>2020-02-04</th>\n",
       "      <td>1</td>\n",
       "      <td>2020-02-04</td>\n",
       "    </tr>\n",
       "    <tr>\n",
       "      <th>...</th>\n",
       "      <td>...</td>\n",
       "      <td>...</td>\n",
       "    </tr>\n",
       "    <tr>\n",
       "      <th>2022-04-07</th>\n",
       "      <td>-1</td>\n",
       "      <td>2022-04-07</td>\n",
       "    </tr>\n",
       "    <tr>\n",
       "      <th>2022-04-08</th>\n",
       "      <td>1</td>\n",
       "      <td>2022-04-08</td>\n",
       "    </tr>\n",
       "    <tr>\n",
       "      <th>2022-04-09</th>\n",
       "      <td>1</td>\n",
       "      <td>2022-04-09</td>\n",
       "    </tr>\n",
       "    <tr>\n",
       "      <th>2022-04-10</th>\n",
       "      <td>1</td>\n",
       "      <td>2022-04-10</td>\n",
       "    </tr>\n",
       "    <tr>\n",
       "      <th>2022-04-11</th>\n",
       "      <td>1</td>\n",
       "      <td>2022-04-11</td>\n",
       "    </tr>\n",
       "  </tbody>\n",
       "</table>\n",
       "<p>785 rows × 2 columns</p>\n",
       "</div>"
      ],
      "text/plain": [
       "            BTC-USD        date\n",
       "2020-01-31        1  2020-01-31\n",
       "2020-02-01        1  2020-02-01\n",
       "2020-02-02        1  2020-02-02\n",
       "2020-02-03        1  2020-02-03\n",
       "2020-02-04        1  2020-02-04\n",
       "...             ...         ...\n",
       "2022-04-07       -1  2022-04-07\n",
       "2022-04-08        1  2022-04-08\n",
       "2022-04-09        1  2022-04-09\n",
       "2022-04-10        1  2022-04-10\n",
       "2022-04-11        1  2022-04-11\n",
       "\n",
       "[785 rows x 2 columns]"
      ]
     },
     "execution_count": 71,
     "metadata": {},
     "output_type": "execute_result"
    }
   ],
   "source": [
    "bt = pd.read_csv('final_btc_backtest_monitored.csv',index_col = 0)\n",
    "bt['ensemble'] = bt.sum(axis =1)\n",
    "bt['ensemble'] = list(map(f.major_vote,bt['ensemble']))\n",
    "bt = bt[['ensemble']]\n",
    "bt.columns = ['BTC-USD']\n",
    "bt['BTC-USD'] = [1 if x == 1 else -1 for x in bt['BTC-USD']]\n",
    "bt.index = bt.index.astype(str)\n",
    "bt_returns = bt[['BTC-USD']]\n",
    "bt_returns['date'] = bt_returns.index\n",
    "bt_returns"
   ]
  },
  {
   "cell_type": "markdown",
   "metadata": {},
   "source": [
    "## The 'BTC-USD' Column indicates whether we the model predicts if btc is going up or down:\n",
    "1. -1 => BTC going down => Short\n",
    "2. 1 => BTC going up => Long\n",
    "3. Transform the returns by multiplying the returns column by 1 or -1 to get te returns of the model\n",
    "4. Perfrom df.cumprod() function to get the compounded returns"
   ]
  },
  {
   "cell_type": "code",
   "execution_count": 72,
   "metadata": {},
   "outputs": [
    {
     "data": {
      "text/html": [
       "<div>\n",
       "<style scoped>\n",
       "    .dataframe tbody tr th:only-of-type {\n",
       "        vertical-align: middle;\n",
       "    }\n",
       "\n",
       "    .dataframe tbody tr th {\n",
       "        vertical-align: top;\n",
       "    }\n",
       "\n",
       "    .dataframe thead th {\n",
       "        text-align: right;\n",
       "    }\n",
       "</style>\n",
       "<table border=\"1\" class=\"dataframe\">\n",
       "  <thead>\n",
       "    <tr style=\"text-align: right;\">\n",
       "      <th></th>\n",
       "      <th>BTC-USD</th>\n",
       "      <th>date</th>\n",
       "    </tr>\n",
       "  </thead>\n",
       "  <tbody>\n",
       "    <tr>\n",
       "      <th>31/1/2020</th>\n",
       "      <td>1</td>\n",
       "      <td>2020-01-31</td>\n",
       "    </tr>\n",
       "    <tr>\n",
       "      <th>1/2/2020</th>\n",
       "      <td>1</td>\n",
       "      <td>2020-01-02</td>\n",
       "    </tr>\n",
       "    <tr>\n",
       "      <th>2/2/2020</th>\n",
       "      <td>1</td>\n",
       "      <td>2020-02-02</td>\n",
       "    </tr>\n",
       "    <tr>\n",
       "      <th>3/2/2020</th>\n",
       "      <td>1</td>\n",
       "      <td>2020-03-02</td>\n",
       "    </tr>\n",
       "    <tr>\n",
       "      <th>4/2/2020</th>\n",
       "      <td>1</td>\n",
       "      <td>2020-04-02</td>\n",
       "    </tr>\n",
       "    <tr>\n",
       "      <th>...</th>\n",
       "      <td>...</td>\n",
       "      <td>...</td>\n",
       "    </tr>\n",
       "    <tr>\n",
       "      <th>7/4/2022</th>\n",
       "      <td>-1</td>\n",
       "      <td>2022-07-04</td>\n",
       "    </tr>\n",
       "    <tr>\n",
       "      <th>8/4/2022</th>\n",
       "      <td>1</td>\n",
       "      <td>2022-08-04</td>\n",
       "    </tr>\n",
       "    <tr>\n",
       "      <th>9/4/2022</th>\n",
       "      <td>1</td>\n",
       "      <td>2022-09-04</td>\n",
       "    </tr>\n",
       "    <tr>\n",
       "      <th>10/4/2022</th>\n",
       "      <td>1</td>\n",
       "      <td>2022-10-04</td>\n",
       "    </tr>\n",
       "    <tr>\n",
       "      <th>11/4/2022</th>\n",
       "      <td>1</td>\n",
       "      <td>2022-11-04</td>\n",
       "    </tr>\n",
       "  </tbody>\n",
       "</table>\n",
       "<p>785 rows × 2 columns</p>\n",
       "</div>"
      ],
      "text/plain": [
       "           BTC-USD        date\n",
       "31/1/2020        1  2020-01-31\n",
       "1/2/2020         1  2020-01-02\n",
       "2/2/2020         1  2020-02-02\n",
       "3/2/2020         1  2020-03-02\n",
       "4/2/2020         1  2020-04-02\n",
       "...            ...         ...\n",
       "7/4/2022        -1  2022-07-04\n",
       "8/4/2022         1  2022-08-04\n",
       "9/4/2022         1  2022-09-04\n",
       "10/4/2022        1  2022-10-04\n",
       "11/4/2022        1  2022-11-04\n",
       "\n",
       "[785 rows x 2 columns]"
      ]
     },
     "execution_count": 72,
     "metadata": {},
     "output_type": "execute_result"
    }
   ],
   "source": [
    "\n",
    "bt_returns = pd.read_csv('final_backtest_output.csv', index_col = 0)\n",
    "bt_returns['date'] = pd.to_datetime(bt_returns.date.values).strftime('%Y-%m-%d')\n",
    "bt_returns"
   ]
  },
  {
   "cell_type": "code",
   "execution_count": 73,
   "metadata": {},
   "outputs": [],
   "source": [
    "df = df.merge(bt_returns, on = 'date', how = 'right')"
   ]
  },
  {
   "cell_type": "code",
   "execution_count": 74,
   "metadata": {},
   "outputs": [],
   "source": [
    "df.set_index('date',inplace = True)"
   ]
  },
  {
   "cell_type": "code",
   "execution_count": 75,
   "metadata": {},
   "outputs": [
    {
     "data": {
      "text/html": [
       "<div>\n",
       "<style scoped>\n",
       "    .dataframe tbody tr th:only-of-type {\n",
       "        vertical-align: middle;\n",
       "    }\n",
       "\n",
       "    .dataframe tbody tr th {\n",
       "        vertical-align: top;\n",
       "    }\n",
       "\n",
       "    .dataframe thead th {\n",
       "        text-align: right;\n",
       "    }\n",
       "</style>\n",
       "<table border=\"1\" class=\"dataframe\">\n",
       "  <thead>\n",
       "    <tr style=\"text-align: right;\">\n",
       "      <th></th>\n",
       "      <th>Adj Close</th>\n",
       "      <th>BTC-USD</th>\n",
       "    </tr>\n",
       "    <tr>\n",
       "      <th>date</th>\n",
       "      <th></th>\n",
       "      <th></th>\n",
       "    </tr>\n",
       "  </thead>\n",
       "  <tbody>\n",
       "    <tr>\n",
       "      <th>2020-01-31</th>\n",
       "      <td>-0.016665</td>\n",
       "      <td>1</td>\n",
       "    </tr>\n",
       "    <tr>\n",
       "      <th>2020-01-02</th>\n",
       "      <td>-0.029819</td>\n",
       "      <td>1</td>\n",
       "    </tr>\n",
       "    <tr>\n",
       "      <th>2020-02-02</th>\n",
       "      <td>-0.005165</td>\n",
       "      <td>1</td>\n",
       "    </tr>\n",
       "    <tr>\n",
       "      <th>2020-03-02</th>\n",
       "      <td>0.035879</td>\n",
       "      <td>1</td>\n",
       "    </tr>\n",
       "    <tr>\n",
       "      <th>2020-04-02</th>\n",
       "      <td>0.028281</td>\n",
       "      <td>1</td>\n",
       "    </tr>\n",
       "  </tbody>\n",
       "</table>\n",
       "</div>"
      ],
      "text/plain": [
       "            Adj Close  BTC-USD\n",
       "date                          \n",
       "2020-01-31  -0.016665        1\n",
       "2020-01-02  -0.029819        1\n",
       "2020-02-02  -0.005165        1\n",
       "2020-03-02   0.035879        1\n",
       "2020-04-02   0.028281        1"
      ]
     },
     "execution_count": 75,
     "metadata": {},
     "output_type": "execute_result"
    }
   ],
   "source": [
    "df.head()"
   ]
  },
  {
   "cell_type": "code",
   "execution_count": 76,
   "metadata": {},
   "outputs": [
    {
     "data": {
      "text/html": [
       "<div>\n",
       "<style scoped>\n",
       "    .dataframe tbody tr th:only-of-type {\n",
       "        vertical-align: middle;\n",
       "    }\n",
       "\n",
       "    .dataframe tbody tr th {\n",
       "        vertical-align: top;\n",
       "    }\n",
       "\n",
       "    .dataframe thead th {\n",
       "        text-align: right;\n",
       "    }\n",
       "</style>\n",
       "<table border=\"1\" class=\"dataframe\">\n",
       "  <thead>\n",
       "    <tr style=\"text-align: right;\">\n",
       "      <th></th>\n",
       "      <th>Passive Hold Strategy</th>\n",
       "      <th>NLP Trading Strategy</th>\n",
       "    </tr>\n",
       "    <tr>\n",
       "      <th>date</th>\n",
       "      <th></th>\n",
       "      <th></th>\n",
       "    </tr>\n",
       "  </thead>\n",
       "  <tbody>\n",
       "    <tr>\n",
       "      <th>2020-01-31</th>\n",
       "      <td>-0.016665</td>\n",
       "      <td>-0.016665</td>\n",
       "    </tr>\n",
       "    <tr>\n",
       "      <th>2020-01-02</th>\n",
       "      <td>-0.029819</td>\n",
       "      <td>-0.029819</td>\n",
       "    </tr>\n",
       "    <tr>\n",
       "      <th>2020-02-02</th>\n",
       "      <td>-0.005165</td>\n",
       "      <td>-0.005165</td>\n",
       "    </tr>\n",
       "    <tr>\n",
       "      <th>2020-03-02</th>\n",
       "      <td>0.035879</td>\n",
       "      <td>0.035879</td>\n",
       "    </tr>\n",
       "    <tr>\n",
       "      <th>2020-04-02</th>\n",
       "      <td>0.028281</td>\n",
       "      <td>0.028281</td>\n",
       "    </tr>\n",
       "  </tbody>\n",
       "</table>\n",
       "</div>"
      ],
      "text/plain": [
       "            Passive Hold Strategy  NLP Trading Strategy\n",
       "date                                                   \n",
       "2020-01-31              -0.016665             -0.016665\n",
       "2020-01-02              -0.029819             -0.029819\n",
       "2020-02-02              -0.005165             -0.005165\n",
       "2020-03-02               0.035879              0.035879\n",
       "2020-04-02               0.028281              0.028281"
      ]
     },
     "execution_count": 76,
     "metadata": {},
     "output_type": "execute_result"
    }
   ],
   "source": [
    "df['Passive Hold Strategy'] = df['Adj Close']\n",
    "df['NLP Trading Strategy'] = df['BTC-USD'] * df['Adj Close']\n",
    "df = df[['Passive Hold Strategy','NLP Trading Strategy']]\n",
    "df.head()"
   ]
  },
  {
   "cell_type": "code",
   "execution_count": null,
   "metadata": {},
   "outputs": [],
   "source": []
  },
  {
   "cell_type": "code",
   "execution_count": 77,
   "metadata": {},
   "outputs": [
    {
     "data": {
      "text/html": [
       "<div>\n",
       "<style scoped>\n",
       "    .dataframe tbody tr th:only-of-type {\n",
       "        vertical-align: middle;\n",
       "    }\n",
       "\n",
       "    .dataframe tbody tr th {\n",
       "        vertical-align: top;\n",
       "    }\n",
       "\n",
       "    .dataframe thead th {\n",
       "        text-align: right;\n",
       "    }\n",
       "</style>\n",
       "<table border=\"1\" class=\"dataframe\">\n",
       "  <thead>\n",
       "    <tr style=\"text-align: right;\">\n",
       "      <th></th>\n",
       "      <th>Passive Hold Strategy</th>\n",
       "      <th>NLP Trading Strategy</th>\n",
       "    </tr>\n",
       "    <tr>\n",
       "      <th>date</th>\n",
       "      <th></th>\n",
       "      <th></th>\n",
       "    </tr>\n",
       "  </thead>\n",
       "  <tbody>\n",
       "    <tr>\n",
       "      <th>2020-01-31</th>\n",
       "      <td>98.333537</td>\n",
       "      <td>98.333537</td>\n",
       "    </tr>\n",
       "    <tr>\n",
       "      <th>2020-01-02</th>\n",
       "      <td>95.401300</td>\n",
       "      <td>95.401300</td>\n",
       "    </tr>\n",
       "    <tr>\n",
       "      <th>2020-02-02</th>\n",
       "      <td>94.908598</td>\n",
       "      <td>94.908598</td>\n",
       "    </tr>\n",
       "    <tr>\n",
       "      <th>2020-03-02</th>\n",
       "      <td>98.313862</td>\n",
       "      <td>98.313862</td>\n",
       "    </tr>\n",
       "    <tr>\n",
       "      <th>2020-04-02</th>\n",
       "      <td>101.094305</td>\n",
       "      <td>101.094305</td>\n",
       "    </tr>\n",
       "  </tbody>\n",
       "</table>\n",
       "</div>"
      ],
      "text/plain": [
       "            Passive Hold Strategy  NLP Trading Strategy\n",
       "date                                                   \n",
       "2020-01-31              98.333537             98.333537\n",
       "2020-01-02              95.401300             95.401300\n",
       "2020-02-02              94.908598             94.908598\n",
       "2020-03-02              98.313862             98.313862\n",
       "2020-04-02             101.094305            101.094305"
      ]
     },
     "execution_count": 77,
     "metadata": {},
     "output_type": "execute_result"
    }
   ],
   "source": [
    "returns = 100*((1+df).cumprod())\n",
    "returns.head()"
   ]
  },
  {
   "cell_type": "markdown",
   "metadata": {},
   "source": [
    "## Backtest results from start of 2021 to now"
   ]
  },
  {
   "cell_type": "code",
   "execution_count": 78,
   "metadata": {},
   "outputs": [
    {
     "data": {
      "text/plain": [
       "Text(0, 0.5, 'Compounded Returns (%)')"
      ]
     },
     "execution_count": 78,
     "metadata": {},
     "output_type": "execute_result"
    },
    {
     "data": {
      "image/png": "[encoded data removed]",
      "text/plain": [
       "<Figure size 864x576 with 1 Axes>"
      ]
     },
     "metadata": {
      "needs_background": "light"
     },
     "output_type": "display_data"
    }
   ],
   "source": [
    "returns.plot(figsize = (12,8), title = 'Bitcoin Active vs Passive Strategy Performance')\n",
    "plt.ylabel('Compounded Returns (%)')"
   ]
  },
  {
   "cell_type": "code",
   "execution_count": null,
   "metadata": {},
   "outputs": [],
   "source": []
  }
 ],
 "metadata": {
  "interpreter": {
   "hash": "b3ba2566441a7c06988d0923437866b63cedc61552a5af99d1f4fb67d367b25f"
  },
  "kernelspec": {
   "display_name": "Python 3.8.8 ('base')",
   "language": "python",
   "name": "python3"
  },
  "language_info": {
   "codemirror_mode": {
    "name": "ipython",
    "version": 3
   },
   "file_extension": ".py",
   "mimetype": "text/x-python",
   "name": "python",
   "nbconvert_exporter": "python",
   "pygments_lexer": "ipython3",
   "version": "3.8.8"
  },
  "orig_nbformat": 4
 },
 "nbformat": 4,
 "nbformat_minor": 2
}
