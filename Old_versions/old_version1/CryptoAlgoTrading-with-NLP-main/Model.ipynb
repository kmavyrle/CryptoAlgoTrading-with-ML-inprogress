{
 "cells": [
  {
   "cell_type": "code",
   "execution_count": 1,
   "metadata": {},
   "outputs": [
    {
     "name": "stderr",
     "output_type": "stream",
     "text": [
      "[nltk_data] Downloading package stopwords to C:\\Users\\Kwan Yui\n",
      "[nltk_data]     Yang\\AppData\\Roaming\\nltk_data...\n",
      "[nltk_data]   Package stopwords is already up-to-date!\n",
      "[nltk_data] Downloading package wordnet to C:\\Users\\Kwan Yui\n",
      "[nltk_data]     Yang\\AppData\\Roaming\\nltk_data...\n",
      "[nltk_data]   Package wordnet is already up-to-date!\n"
     ]
    }
   ],
   "source": [
    "import os\n",
    "import pandas as pd\n",
    "import matplotlib.pyplot as plt\n",
    "import datetime as dt\n",
    "import requests\n",
    "import numpy as np\n",
    "import time\n",
    "import yfinance as yf\n",
    "import functions as f\n",
    "\n",
    "\n",
    "%load_ext autoreload\n",
    "%autoreload 2"
   ]
  },
  {
   "cell_type": "markdown",
   "metadata": {},
   "source": [
    "## Natural Language Processing and ML models"
   ]
  },
  {
   "cell_type": "code",
   "execution_count": 2,
   "metadata": {},
   "outputs": [
    {
     "name": "stderr",
     "output_type": "stream",
     "text": [
      "[nltk_data] Downloading package punkt to C:\\Users\\Kwan Yui\n",
      "[nltk_data]     Yang\\AppData\\Roaming\\nltk_data...\n",
      "[nltk_data]   Package punkt is already up-to-date!\n",
      "[nltk_data] Downloading package stopwords to C:\\Users\\Kwan Yui\n",
      "[nltk_data]     Yang\\AppData\\Roaming\\nltk_data...\n",
      "[nltk_data]   Package stopwords is already up-to-date!\n",
      "[nltk_data] Downloading package wordnet to C:\\Users\\Kwan Yui\n",
      "[nltk_data]     Yang\\AppData\\Roaming\\nltk_data...\n",
      "[nltk_data]   Package wordnet is already up-to-date!\n"
     ]
    }
   ],
   "source": [
    "import nltk\n",
    "from sklearn.preprocessing import LabelEncoder #Convert text into numerical form\n",
    "from sklearn.model_selection import train_test_split\n",
    "from sklearn.feature_extraction.text import CountVectorizer\n",
    "from nltk.tokenize import sent_tokenize, word_tokenize #import the sentence and word tokenizer\n",
    "\n",
    "#Punkt Sentence Tokenizer. This tokenizer divides a text into a list of sentences, by using an unsupervised algorithm \n",
    "#to build a model for abbreviation words, collocations, and words that start sentences.\n",
    "##Download the punkit\n",
    "nltk.download('punkt') \n",
    "\n",
    "#NLTK stopwords library\n",
    "nltk.download('stopwords')\n",
    "from nltk.corpus import stopwords\n",
    "\n",
    "\n",
    "#We will use porter stemming method\n",
    "# There is also other types of stemming such as lancaster stemming\n",
    "from nltk.stem.porter import PorterStemmer \n",
    "port = PorterStemmer()\n",
    "\n",
    "#Word lemmatisation\n",
    "from nltk.stem.wordnet import WordNetLemmatizer\n",
    "nltk.download('wordnet')#Download wordnet\n",
    "wnet = WordNetLemmatizer()\n"
   ]
  },
  {
   "cell_type": "markdown",
   "metadata": {},
   "source": [
    "# Convert from date to unix and unix to date"
   ]
  },
  {
   "cell_type": "code",
   "execution_count": 3,
   "metadata": {},
   "outputs": [],
   "source": [
    "def convert_to_unix(date):\n",
    "  unixd = dt.datetime.strptime(date,\"%Y-%m-%d\")\n",
    "  return time.mktime(unixd.timetuple())\n",
    "\n",
    "  \n",
    "def convert_to_date(timestamp):\n",
    "  return str(dt.datetime.fromtimestamp(int(timestamp)).date())"
   ]
  },
  {
   "cell_type": "code",
   "execution_count": 4,
   "metadata": {},
   "outputs": [
    {
     "name": "stdout",
     "output_type": "stream",
     "text": [
      "1582128000.0\n"
     ]
    }
   ],
   "source": [
    "print(f.convert_to_unix('2020-02-20'))"
   ]
  },
  {
   "cell_type": "markdown",
   "metadata": {},
   "source": [
    "# Use pushshift api to retrieve reddit data"
   ]
  },
  {
   "cell_type": "code",
   "execution_count": 5,
   "metadata": {},
   "outputs": [],
   "source": [
    "\n",
    "def get_data(query,\n",
    "            subreddit,\n",
    "            before,\n",
    "            after,\n",
    "            fields,\n",
    "            size,\n",
    "            sort_type):\n",
    "    url = f\"https://api.pushshift.io/reddit/search/submission/?q={query}&before={before}&after={after}&fields={fields}&size={size}&sort_type={sort_type}\"\n",
    "    request = requests.get(url)\n",
    "    json_response = request.json()\n",
    "    return json_response['data']\n",
    "\n",
    "def multiple_data_call(lookback_period:int,\n",
    "                **kwargs):\n",
    "        df = pd.DataFrame(columns = ['date','reddit_title'])\n",
    "        for i in range(1,lookback_period+1):\n",
    "                try:\n",
    "                        after = str(i+1)+'d'\n",
    "                        before = str(i)+'d'\n",
    "                        response=get_data(query,subreddit,before,after,fields,size,sort_type)\n",
    "                        titles = []\n",
    "                        date = []         \n",
    "                        for line in response:\n",
    "                                date.append(convert_to_date(line['created_utc']))\n",
    "                                titles.append(line['title'])\n",
    "                        temp = pd.DataFrame(np.column_stack([date,titles]),columns = ['date','reddit_title'])\n",
    "                        df = pd.concat([df,temp])\n",
    "                except:\n",
    "                        print(f\"Error encountered for {convert_to_date(line['created_utc'])}\")\n",
    "                        continue\n",
    "        df.index = list(range(len(df)))\n",
    "        return df\n",
    "                \n"
   ]
  },
  {
   "cell_type": "code",
   "execution_count": 6,
   "metadata": {},
   "outputs": [
    {
     "name": "stdout",
     "output_type": "stream",
     "text": [
      "[*********************100%***********************]  7 of 7 completed\n"
     ]
    },
    {
     "data": {
      "text/plain": [
       "<AxesSubplot:title={'center':'Cryptocurrency prices'}, xlabel='Date'>"
      ]
     },
     "execution_count": 6,
     "metadata": {},
     "output_type": "execute_result"
    },
    {
     "data": {
      "image/png": "[encoded data removed]",
      "text/plain": [
       "<Figure size 864x432 with 1 Axes>"
      ]
     },
     "metadata": {
      "needs_background": "light"
     },
     "output_type": "display_data"
    }
   ],
   "source": [
    "tickerlist = ['BTC-USD','ETH-USD','SOL-USD','XRP-USD','ADA-USD','DOGE-USD','SHIB-USD']\n",
    "df = yf.download(tickerlist, period = '1d', start = '2007-01-01',end = pd.Timestamp.today())\n",
    "columns = tickerlist\n",
    "df = df.iloc[:,:7]['2007':]\n",
    "df.plot(figsize = (12,6),title = 'Cryptocurrency prices')"
   ]
  },
  {
   "cell_type": "markdown",
   "metadata": {},
   "source": [
    "# Calculate rolling 7-day return "
   ]
  },
  {
   "cell_type": "code",
   "execution_count": 7,
   "metadata": {},
   "outputs": [],
   "source": [
    "pct_change = pd.DataFrame(df.pct_change(periods = 7).fillna(method = 'bfill'))\n",
    "pct_change.columns = columns"
   ]
  },
  {
   "cell_type": "code",
   "execution_count": 8,
   "metadata": {},
   "outputs": [
    {
     "data": {
      "text/html": [
       "<div>\n",
       "<style scoped>\n",
       "    .dataframe tbody tr th:only-of-type {\n",
       "        vertical-align: middle;\n",
       "    }\n",
       "\n",
       "    .dataframe tbody tr th {\n",
       "        vertical-align: top;\n",
       "    }\n",
       "\n",
       "    .dataframe thead th {\n",
       "        text-align: right;\n",
       "    }\n",
       "</style>\n",
       "<table border=\"1\" class=\"dataframe\">\n",
       "  <thead>\n",
       "    <tr style=\"text-align: right;\">\n",
       "      <th></th>\n",
       "      <th>BTC-USD</th>\n",
       "      <th>ETH-USD</th>\n",
       "      <th>SOL-USD</th>\n",
       "      <th>XRP-USD</th>\n",
       "      <th>ADA-USD</th>\n",
       "      <th>DOGE-USD</th>\n",
       "      <th>SHIB-USD</th>\n",
       "      <th>date</th>\n",
       "    </tr>\n",
       "    <tr>\n",
       "      <th>index</th>\n",
       "      <th></th>\n",
       "      <th></th>\n",
       "      <th></th>\n",
       "      <th></th>\n",
       "      <th></th>\n",
       "      <th></th>\n",
       "      <th></th>\n",
       "      <th></th>\n",
       "    </tr>\n",
       "  </thead>\n",
       "  <tbody>\n",
       "    <tr>\n",
       "      <th>0</th>\n",
       "      <td>-0.139550</td>\n",
       "      <td>-0.074626</td>\n",
       "      <td>-0.017668</td>\n",
       "      <td>0.031289</td>\n",
       "      <td>inf</td>\n",
       "      <td>-0.305268</td>\n",
       "      <td>0.044228</td>\n",
       "      <td>2014-09-24</td>\n",
       "    </tr>\n",
       "    <tr>\n",
       "      <th>1</th>\n",
       "      <td>-0.139550</td>\n",
       "      <td>-0.030313</td>\n",
       "      <td>-0.017668</td>\n",
       "      <td>0.031289</td>\n",
       "      <td>inf</td>\n",
       "      <td>-0.305268</td>\n",
       "      <td>0.044228</td>\n",
       "      <td>2014-09-25</td>\n",
       "    </tr>\n",
       "    <tr>\n",
       "      <th>2</th>\n",
       "      <td>-0.139550</td>\n",
       "      <td>0.024390</td>\n",
       "      <td>-0.017668</td>\n",
       "      <td>0.031289</td>\n",
       "      <td>inf</td>\n",
       "      <td>-0.305268</td>\n",
       "      <td>0.044228</td>\n",
       "      <td>2014-09-26</td>\n",
       "    </tr>\n",
       "    <tr>\n",
       "      <th>3</th>\n",
       "      <td>-0.139550</td>\n",
       "      <td>-0.022949</td>\n",
       "      <td>-0.017668</td>\n",
       "      <td>0.031289</td>\n",
       "      <td>inf</td>\n",
       "      <td>-0.305268</td>\n",
       "      <td>0.044228</td>\n",
       "      <td>2014-09-27</td>\n",
       "    </tr>\n",
       "    <tr>\n",
       "      <th>4</th>\n",
       "      <td>-0.139550</td>\n",
       "      <td>-0.054260</td>\n",
       "      <td>-0.017668</td>\n",
       "      <td>0.031289</td>\n",
       "      <td>inf</td>\n",
       "      <td>-0.305268</td>\n",
       "      <td>0.044228</td>\n",
       "      <td>2014-09-28</td>\n",
       "    </tr>\n",
       "    <tr>\n",
       "      <th>...</th>\n",
       "      <td>...</td>\n",
       "      <td>...</td>\n",
       "      <td>...</td>\n",
       "      <td>...</td>\n",
       "      <td>...</td>\n",
       "      <td>...</td>\n",
       "      <td>...</td>\n",
       "      <td>...</td>\n",
       "    </tr>\n",
       "    <tr>\n",
       "      <th>2753</th>\n",
       "      <td>-0.119355</td>\n",
       "      <td>-0.086297</td>\n",
       "      <td>0.008732</td>\n",
       "      <td>-0.074641</td>\n",
       "      <td>-0.076923</td>\n",
       "      <td>-0.183217</td>\n",
       "      <td>-0.089018</td>\n",
       "      <td>2022-04-08</td>\n",
       "    </tr>\n",
       "    <tr>\n",
       "      <th>2754</th>\n",
       "      <td>-0.096013</td>\n",
       "      <td>-0.067296</td>\n",
       "      <td>0.038801</td>\n",
       "      <td>-0.053161</td>\n",
       "      <td>-0.038462</td>\n",
       "      <td>-0.145433</td>\n",
       "      <td>-0.074352</td>\n",
       "      <td>2022-04-09</td>\n",
       "    </tr>\n",
       "    <tr>\n",
       "      <th>2755</th>\n",
       "      <td>-0.130745</td>\n",
       "      <td>-0.091401</td>\n",
       "      <td>0.021044</td>\n",
       "      <td>-0.088272</td>\n",
       "      <td>-0.074074</td>\n",
       "      <td>-0.183022</td>\n",
       "      <td>-0.102421</td>\n",
       "      <td>2022-04-10</td>\n",
       "    </tr>\n",
       "    <tr>\n",
       "      <th>2756</th>\n",
       "      <td>-0.241145</td>\n",
       "      <td>-0.152303</td>\n",
       "      <td>-0.093794</td>\n",
       "      <td>-0.153409</td>\n",
       "      <td>-0.153846</td>\n",
       "      <td>-0.249776</td>\n",
       "      <td>-0.159840</td>\n",
       "      <td>2022-04-11</td>\n",
       "    </tr>\n",
       "    <tr>\n",
       "      <th>2757</th>\n",
       "      <td>-0.186495</td>\n",
       "      <td>-0.118643</td>\n",
       "      <td>-0.194954</td>\n",
       "      <td>-0.114803</td>\n",
       "      <td>-0.156591</td>\n",
       "      <td>-0.190253</td>\n",
       "      <td>-0.137920</td>\n",
       "      <td>2022-04-12</td>\n",
       "    </tr>\n",
       "  </tbody>\n",
       "</table>\n",
       "<p>2758 rows × 8 columns</p>\n",
       "</div>"
      ],
      "text/plain": [
       "        BTC-USD   ETH-USD   SOL-USD   XRP-USD   ADA-USD  DOGE-USD  SHIB-USD  \\\n",
       "index                                                                         \n",
       "0     -0.139550 -0.074626 -0.017668  0.031289       inf -0.305268  0.044228   \n",
       "1     -0.139550 -0.030313 -0.017668  0.031289       inf -0.305268  0.044228   \n",
       "2     -0.139550  0.024390 -0.017668  0.031289       inf -0.305268  0.044228   \n",
       "3     -0.139550 -0.022949 -0.017668  0.031289       inf -0.305268  0.044228   \n",
       "4     -0.139550 -0.054260 -0.017668  0.031289       inf -0.305268  0.044228   \n",
       "...         ...       ...       ...       ...       ...       ...       ...   \n",
       "2753  -0.119355 -0.086297  0.008732 -0.074641 -0.076923 -0.183217 -0.089018   \n",
       "2754  -0.096013 -0.067296  0.038801 -0.053161 -0.038462 -0.145433 -0.074352   \n",
       "2755  -0.130745 -0.091401  0.021044 -0.088272 -0.074074 -0.183022 -0.102421   \n",
       "2756  -0.241145 -0.152303 -0.093794 -0.153409 -0.153846 -0.249776 -0.159840   \n",
       "2757  -0.186495 -0.118643 -0.194954 -0.114803 -0.156591 -0.190253 -0.137920   \n",
       "\n",
       "             date  \n",
       "index              \n",
       "0      2014-09-24  \n",
       "1      2014-09-25  \n",
       "2      2014-09-26  \n",
       "3      2014-09-27  \n",
       "4      2014-09-28  \n",
       "...           ...  \n",
       "2753   2022-04-08  \n",
       "2754   2022-04-09  \n",
       "2755   2022-04-10  \n",
       "2756   2022-04-11  \n",
       "2757   2022-04-12  \n",
       "\n",
       "[2758 rows x 8 columns]"
      ]
     },
     "execution_count": 8,
     "metadata": {},
     "output_type": "execute_result"
    }
   ],
   "source": [
    "pct_change = pd.DataFrame(df.pct_change(periods = 7).fillna(method = 'bfill'))\n",
    "pct_change.columns = columns\n",
    "pct_change['date'] = pct_change.index.astype(str)\n",
    "pct_change['index'] = range(len(pct_change))\n",
    "pct_change.set_index('index',drop = True,inplace = True)\n",
    "pct_change = pct_change.shift(-7).dropna()\n",
    "pct_change"
   ]
  },
  {
   "cell_type": "code",
   "execution_count": 9,
   "metadata": {},
   "outputs": [],
   "source": [
    "crypto_dict = {\n",
    "    'BTC-USD':'bitcoin',\n",
    "    'ETH-USD': 'ethereum',\n",
    "    'DOGE-USD':'dogecoin',\n",
    "    'ADA-USD':'cardano',\n",
    "    'SOL-USD':'solana',\n",
    "    'SHIB-USD':'SHIBArmy',\n",
    "    'XRP-USD':'ripple'\n",
    "}\n"
   ]
  },
  {
   "cell_type": "code",
   "execution_count": 110,
   "metadata": {},
   "outputs": [
    {
     "name": "stdout",
     "output_type": "stream",
     "text": [
      "Error encountered for 2022-03-19\n",
      "Error encountered for 2022-03-17\n",
      "Error encountered for 2022-03-06\n",
      "Error encountered for 2022-03-04\n",
      "Error encountered for 2022-03-04\n",
      "Error encountered for 2022-02-25\n",
      "Error encountered for 2022-02-14\n",
      "Error encountered for 2022-02-02\n",
      "Error encountered for 2022-01-31\n",
      "Error encountered for 2022-01-25\n",
      "Error encountered for 2022-01-25\n",
      "Error encountered for 2022-01-22\n",
      "Error encountered for 2022-01-22\n",
      "Error encountered for 2022-01-15\n",
      "Error encountered for 2022-01-10\n",
      "Error encountered for 2022-01-10\n",
      "Error encountered for 2022-01-07\n",
      "Error encountered for 2022-01-04\n",
      "Error encountered for 2021-12-28\n",
      "Error encountered for 2021-12-26\n",
      "Error encountered for 2021-12-22\n",
      "Error encountered for 2021-12-19\n",
      "Error encountered for 2021-12-19\n",
      "Error encountered for 2021-12-12\n",
      "Error encountered for 2021-12-09\n",
      "Error encountered for 2021-12-09\n",
      "Error encountered for 2021-11-25\n",
      "Error encountered for 2021-11-25\n",
      "Error encountered for 2021-11-20\n",
      "Error encountered for 2021-11-14\n",
      "Error encountered for 2021-11-12\n",
      "Error encountered for 2021-11-12\n",
      "Error encountered for 2021-11-12\n",
      "Error encountered for 2021-11-03\n",
      "Error encountered for 2021-10-29\n",
      "Error encountered for 2021-10-29\n",
      "Error encountered for 2021-10-26\n",
      "Error encountered for 2021-10-26\n",
      "Error encountered for 2021-10-23\n",
      "Error encountered for 2021-10-12\n",
      "Error encountered for 2021-10-12\n",
      "Error encountered for 2021-10-02\n",
      "Error encountered for 2021-09-23\n",
      "Error encountered for 2021-09-18\n",
      "Error encountered for 2021-09-18\n",
      "Error encountered for 2021-09-15\n",
      "Error encountered for 2021-09-15\n",
      "Error encountered for 2021-09-10\n",
      "Error encountered for 2021-09-08\n",
      "Error encountered for 2021-09-06\n",
      "Error encountered for 2021-09-06\n",
      "Error encountered for 2021-09-01\n",
      "Error encountered for 2021-09-01\n",
      "Error encountered for 2021-08-28\n",
      "Error encountered for 2021-08-28\n",
      "Error encountered for 2021-08-28\n",
      "Error encountered for 2021-08-24\n",
      "Error encountered for 2021-08-20\n",
      "Error encountered for 2021-08-18\n",
      "Error encountered for 2021-08-13\n",
      "Error encountered for 2021-08-13\n",
      "Error encountered for 2021-08-13\n",
      "Error encountered for 2021-08-13\n",
      "Error encountered for 2021-08-13\n",
      "Error encountered for 2021-08-13\n",
      "Error encountered for 2021-08-13\n",
      "Error encountered for 2021-08-05\n",
      "Error encountered for 2021-07-31\n",
      "Error encountered for 2021-07-29\n",
      "Error encountered for 2021-07-29\n",
      "Error encountered for 2021-07-26\n",
      "Error encountered for 2021-07-21\n",
      "Error encountered for 2021-07-18\n",
      "Error encountered for 2021-07-13\n",
      "Error encountered for 2021-07-10\n",
      "Error encountered for 2021-07-07\n",
      "Error encountered for 2021-07-01\n",
      "Error encountered for 2021-06-29\n",
      "Error encountered for 2021-06-22\n",
      "Error encountered for 2021-06-19\n",
      "Error encountered for 2021-06-14\n",
      "Error encountered for 2021-06-07\n",
      "Error encountered for 2021-06-07\n",
      "Error encountered for 2021-06-07\n",
      "Error encountered for 2021-05-31\n",
      "Error encountered for 2021-05-27\n",
      "Error encountered for 2021-05-27\n",
      "Error encountered for 2021-05-27\n",
      "Error encountered for 2021-05-22\n",
      "Error encountered for 2021-05-03\n",
      "Error encountered for 2021-05-03\n",
      "Error encountered for 2021-04-14\n",
      "Error encountered for 2021-04-14\n",
      "Error encountered for 2021-04-14\n",
      "Error encountered for 2021-04-14\n",
      "Error encountered for 2021-04-14\n",
      "Error encountered for 2021-03-31\n",
      "Error encountered for 2021-03-29\n",
      "Error encountered for 2021-03-29\n",
      "Error encountered for 2021-03-15\n",
      "Error encountered for 2021-03-15\n",
      "Error encountered for 2021-03-12\n",
      "Error encountered for 2021-03-12\n",
      "Error encountered for 2021-03-12\n",
      "Error encountered for 2021-03-08\n",
      "Error encountered for 2021-03-08\n",
      "Error encountered for 2021-03-04\n",
      "Error encountered for 2021-03-04\n",
      "Error encountered for 2021-03-04\n",
      "Error encountered for 2021-02-22\n",
      "Error encountered for 2021-02-14\n",
      "Error encountered for 2021-02-14\n",
      "Error encountered for 2021-02-11\n",
      "Error encountered for 2021-02-08\n",
      "Error encountered for 2021-01-28\n",
      "Error encountered for 2021-01-28\n",
      "Error encountered for 2021-01-28\n",
      "Error encountered for 2021-01-24\n",
      "Error encountered for 2021-01-24\n",
      "Error encountered for 2021-01-21\n",
      "Error encountered for 2021-01-15\n",
      "Error encountered for 2021-01-15\n",
      "Error encountered for 2021-01-12\n",
      "Error encountered for 2021-01-12\n",
      "Error encountered for 2021-01-12\n",
      "Error encountered for 2021-01-07\n",
      "Error encountered for 2021-01-01\n",
      "Error encountered for 2020-12-30\n",
      "Error encountered for 2020-12-25\n",
      "Error encountered for 2020-12-23\n",
      "Error encountered for 2020-12-15\n",
      "Error encountered for 2020-12-09\n",
      "Error encountered for 2020-12-09\n",
      "Error encountered for 2020-12-09\n",
      "Error encountered for 2020-12-05\n",
      "Error encountered for 2020-12-05\n",
      "Error encountered for 2020-12-02\n",
      "Error encountered for 2020-11-29\n",
      "Error encountered for 2020-11-25\n",
      "Error encountered for 2020-11-25\n",
      "Error encountered for 2020-11-25\n",
      "Error encountered for 2020-11-21\n",
      "Error encountered for 2020-11-13\n",
      "Error encountered for 2020-11-05\n",
      "Error encountered for 2020-11-03\n",
      "Error encountered for 2020-11-01\n",
      "Error encountered for 2020-10-28\n",
      "Error encountered for 2020-10-26\n",
      "Error encountered for 2020-10-26\n",
      "Error encountered for 2020-10-26\n",
      "Error encountered for 2020-10-26\n",
      "Error encountered for 2020-10-19\n",
      "Error encountered for 2020-10-16\n",
      "Error encountered for 2020-10-14\n",
      "Error encountered for 2020-10-14\n",
      "Error encountered for 2020-10-14\n",
      "Error encountered for 2020-10-10\n",
      "Error encountered for 2020-10-10\n",
      "Error encountered for 2020-10-10\n",
      "Error encountered for 2020-10-06\n",
      "Error encountered for 2020-10-06\n",
      "Error encountered for 2020-10-01\n",
      "Error encountered for 2020-09-29\n",
      "Error encountered for 2020-09-29\n",
      "Error encountered for 2020-09-29\n",
      "Error encountered for 2020-09-29\n",
      "Error encountered for 2020-09-24\n",
      "Error encountered for 2020-09-24\n",
      "Error encountered for 2020-09-24\n",
      "Error encountered for 2020-09-20\n",
      "Error encountered for 2020-09-20\n",
      "Error encountered for 2020-09-14\n",
      "Error encountered for 2020-09-12\n",
      "Error encountered for 2020-09-10\n",
      "Error encountered for 2020-09-10\n",
      "Error encountered for 2020-09-05\n",
      "Error encountered for 2020-09-05\n",
      "Error encountered for 2020-09-02\n",
      "Error encountered for 2020-09-02\n",
      "Error encountered for 2020-09-02\n",
      "Error encountered for 2020-08-29\n",
      "Error encountered for 2020-08-29\n",
      "Error encountered for 2020-08-26\n",
      "Error encountered for 2020-08-26\n",
      "Error encountered for 2020-08-23\n",
      "Error encountered for 2020-08-23\n",
      "Error encountered for 2020-08-23\n",
      "Error encountered for 2020-08-17\n",
      "Error encountered for 2020-08-17\n",
      "Error encountered for 2020-08-13\n",
      "Error encountered for 2020-08-13\n",
      "Error encountered for 2020-08-07\n",
      "Error encountered for 2020-08-07\n",
      "Error encountered for 2020-08-03\n",
      "Error encountered for 2020-08-03\n",
      "Error encountered for 2020-08-03\n",
      "Error encountered for 2020-07-29\n",
      "Error encountered for 2020-07-29\n",
      "Error encountered for 2020-07-25\n",
      "Error encountered for 2020-07-25\n",
      "Error encountered for 2020-07-22\n",
      "Error encountered for 2020-07-22\n",
      "Error encountered for 2020-07-19\n",
      "Error encountered for 2020-07-13\n",
      "Error encountered for 2020-07-13\n",
      "Error encountered for 2020-07-06\n",
      "Error encountered for 2020-07-06\n",
      "Error encountered for 2020-07-03\n",
      "Error encountered for 2020-07-03\n",
      "Error encountered for 2020-07-03\n",
      "Error encountered for 2020-06-29\n",
      "Error encountered for 2020-06-27\n",
      "Error encountered for 2020-06-27\n",
      "Error encountered for 2020-06-20\n",
      "Error encountered for 2020-06-20\n",
      "Error encountered for 2020-06-17\n",
      "Error encountered for 2020-06-15\n",
      "Error encountered for 2020-06-05\n",
      "Error encountered for 2020-06-02\n",
      "Error encountered for 2020-05-31\n",
      "Error encountered for 2020-05-31\n",
      "Error encountered for 2020-05-28\n",
      "Error encountered for 2020-05-28\n",
      "Error encountered for 2020-05-28\n",
      "Error encountered for 2020-05-20\n",
      "Error encountered for 2020-05-17\n",
      "Error encountered for 2020-05-12\n",
      "Error encountered for 2020-05-12\n",
      "Error encountered for 2020-05-12\n",
      "Error encountered for 2020-05-12\n",
      "Error encountered for 2020-05-12\n",
      "Error encountered for 2020-05-12\n",
      "Error encountered for 2020-05-04\n",
      "Error encountered for 2020-05-04\n",
      "Error encountered for 2020-05-01\n",
      "Error encountered for 2020-05-01\n",
      "Error encountered for 2020-04-28\n",
      "Error encountered for 2020-04-21\n",
      "Error encountered for 2020-04-19\n",
      "Error encountered for 2020-04-19\n",
      "Error encountered for 2020-04-14\n",
      "Error encountered for 2020-04-12\n",
      "Error encountered for 2020-04-12\n",
      "Error encountered for 2020-04-07\n",
      "Scrapping complete for BTC-USD... \n",
      "Scrapping complete for ETH-USD... \n",
      "Scrapping complete for SOL-USD... \n",
      "Scrapping complete for XRP-USD... \n",
      "Scrapping complete for ADA-USD... \n",
      "Scrapping complete for DOGE-USD... \n",
      "Scrapping complete for SHIB-USD... \n"
     ]
    }
   ],
   "source": [
    "\n",
    "model_dict = {}\n",
    "\n",
    "for coin in tickerlist:\n",
    "    query = coin\n",
    "    subreddit=crypto_dict[coin] #Define Your subreddit\n",
    "    size = 100\n",
    "    after=\"2d\"\n",
    "    before = \"1d\"\n",
    "    fields = \"title,created_utc\"\n",
    "    sort_type = \"created_utc\" #score, num_comments, default=created_utc\n",
    "\n",
    "    data = multiple_data_call(lookback_period=1000,\n",
    "                query = query,\n",
    "                subreddit=subreddit,\n",
    "                fields=fields,\n",
    "                sort_type=sort_type,\n",
    "                size = size)\n",
    "    model_dict[subreddit] = data\n",
    "    print(f'Scrapping complete for {coin}... ')\n",
    "    data.to_csv(f\"{subreddit}_dataset.csv\")\n"
   ]
  },
  {
   "cell_type": "code",
   "execution_count": 12,
   "metadata": {},
   "outputs": [],
   "source": [
    "for coin in model_dict:\n",
    "    model_dict[coin].to_csv(f\"{coin}_dataset.csv\")"
   ]
  },
  {
   "cell_type": "code",
   "execution_count": 28,
   "metadata": {},
   "outputs": [],
   "source": [
    "datasets = {}\n",
    "for key in crypto_dict:\n",
    "    df = pd.read_csv(crypto_dict[key]+'_dataset.csv', index_col = 0)\n",
    "    df.columns = ['date','reddit_title']\n",
    "    df = pd.DataFrame(df.groupby(['date'])['reddit_title'].apply(lambda x:','.join(x)))\n",
    "    merged_df = df.merge(pct_change[['date',key]], on='date',how = 'left')\n",
    "    merged_df['class'] = [0 if x<0 else 1 for x in merged_df[key]]\n",
    "    merged_df = merged_df.dropna()\n",
    "    merged_df = merged_df[merged_df[key]!=float('inf')]\n",
    "    datasets[key] = merged_df"
   ]
  },
  {
   "cell_type": "markdown",
   "metadata": {},
   "source": [
    "# Natural Language Processing with NLTK"
   ]
  },
  {
   "cell_type": "code",
   "execution_count": 11,
   "metadata": {},
   "outputs": [],
   "source": [
    "\n",
    "\n",
    "# Data Preparation\n",
    "def prepare_data(data: pd.Series)-> list:\n",
    "    # 1. Convert to lower case\n",
    "    print('Converting to lower case......')\n",
    "    casefolded_data = data.str.strip().str.lower()\n",
    "\n",
    "    #2 Tokenize data\n",
    "    print('Tokenizing data......')\n",
    "    sent_tokenized_data = list(map(sent_tokenize,casefolded_data))\n",
    "\n",
    "    #3 Remove stopwords from data\n",
    "    print('Removing stopwords......')\n",
    "    def remove_stopwords(sentence_list:list):\n",
    "        wordlist = [word for word in sentence_list if word not in stopwords.words('english')]\n",
    "        return wordlist\n",
    "    stopwords_cleaned = list(map(remove_stopwords,sent_tokenized_data))\n",
    "\n",
    "    #4 Stem words\n",
    "    print('Stemming words......')\n",
    "    port = PorterStemmer()\n",
    "    def stem_words(wordlist:list):\n",
    "        stemmed_w_list = [port.stem(word) for word in wordlist]\n",
    "        return stemmed_w_list\n",
    "    stemmed_data = list(map(stem_words,stopwords_cleaned))\n",
    "\n",
    "    #5 wnet = WordNetLemmatizer()\n",
    "    print('Lemmatizing words......')\n",
    "    def lem_words(wordlist:list):\n",
    "        lemmed_w_list = [wnet.lemmatize(word) for word in wordlist]\n",
    "        return lemmed_w_list\n",
    "    processed_data = list(map(lem_words,stemmed_data))\n",
    "    \n",
    "\n",
    "    return processed_data\n",
    "    \n",
    "    \n",
    "    \n"
   ]
  },
  {
   "cell_type": "code",
   "execution_count": 12,
   "metadata": {},
   "outputs": [],
   "source": [
    "#Convert to lower case\n",
    "def to_lower(df_column: pd.Series)->pd.Series:\n",
    "    casefolded_data = df_column.str.strip().str.lower()\n",
    "    return casefolded_data\n",
    "\n",
    "\n",
    "def remove_stopwords(sentence_list:list):\n",
    "    wordlist = [word for word in sentence_list if word not in stopwords.words('english')]\n",
    "    return wordlist\n",
    "# data['reddit_title'] = list(map(remove_stopwords,data['reddit_title']))\n",
    "\n",
    "def stem_words(wordlist:list):\n",
    "    stemmed_w_list = [port.stem(word) for word in wordlist]\n",
    "    return stemmed_w_list\n",
    "\n",
    "# data['reddit_title'] = list(map(stem_words,data['reddit_title']))\n",
    "\n",
    "def lem_words(wordlist:list):\n",
    "    lemmed_w_list = [wnet.lemmatize(word) for word in wordlist]\n",
    "    return lemmed_w_list\n",
    "\n",
    "# data['reddit_title'] = list(map(lem_words,data['reddit_title']))\n",
    "\n",
    "def to_string(wlist:list):\n",
    "    strng = ' '.join([str(item) for item in wlist])\n",
    "    return strng\n",
    "#for i in merged_data.index:\n",
    "#   data.loc[i,'reddit_title'] = to_string(data.loc[i,'reddit_title'])\n",
    "\n"
   ]
  },
  {
   "cell_type": "markdown",
   "metadata": {},
   "source": [
    "### Clean the data using the prepare_data function\n",
    "1. Create empty dictionaries to store the cleaned datasets "
   ]
  },
  {
   "cell_type": "code",
   "execution_count": 14,
   "metadata": {},
   "outputs": [
    {
     "name": "stdout",
     "output_type": "stream",
     "text": [
      "Converting to lower case......\n",
      "Tokenizing data......\n",
      "Removing stopwords......\n",
      "Stemming words......\n",
      "Lemmatizing words......\n"
     ]
    }
   ],
   "source": [
    "cleaned_datasets = {}\n",
    "backtest_set = {}\n",
    "\n",
    "for key in datasets:\n",
    "    if key == 'BTC-USD':\n",
    "        df = datasets[key]\n",
    "        df['reddit_title'] = f.prepare_data(df['reddit_title'])\n",
    "        for i in df.index:\n",
    "            df.loc[i,'reddit_title'] = to_string(df.loc[i,'reddit_title'])\n",
    "        \n",
    "        cleaned_datasets[key] = df"
   ]
  },
  {
   "cell_type": "markdown",
   "metadata": {},
   "source": [
    "#### Take a look at a sample of the data"
   ]
  },
  {
   "cell_type": "code",
   "execution_count": 30,
   "metadata": {},
   "outputs": [
    {
     "data": {
      "text/html": [
       "<div>\n",
       "<style scoped>\n",
       "    .dataframe tbody tr th:only-of-type {\n",
       "        vertical-align: middle;\n",
       "    }\n",
       "\n",
       "    .dataframe tbody tr th {\n",
       "        vertical-align: top;\n",
       "    }\n",
       "\n",
       "    .dataframe thead th {\n",
       "        text-align: right;\n",
       "    }\n",
       "</style>\n",
       "<table border=\"1\" class=\"dataframe\">\n",
       "  <thead>\n",
       "    <tr style=\"text-align: right;\">\n",
       "      <th></th>\n",
       "      <th>date</th>\n",
       "      <th>reddit_title</th>\n",
       "      <th>BTC-USD</th>\n",
       "      <th>class</th>\n",
       "    </tr>\n",
       "  </thead>\n",
       "  <tbody>\n",
       "    <tr>\n",
       "      <th>0</th>\n",
       "      <td>2019-07-13</td>\n",
       "      <td>btc peer-to-peer trading rises amid ban on usd...</td>\n",
       "      <td>-0.136613</td>\n",
       "      <td>0</td>\n",
       "    </tr>\n",
       "    <tr>\n",
       "      <th>1</th>\n",
       "      <td>2019-07-14</td>\n",
       "      <td>minedblock,[store] m9 crimson web fn, bayonet ...</td>\n",
       "      <td>-0.256803</td>\n",
       "      <td>0</td>\n",
       "    </tr>\n",
       "    <tr>\n",
       "      <th>2</th>\n",
       "      <td>2019-07-15</td>\n",
       "      <td>bitcoin hiking towards 4050 dollar,bitcoin opp...</td>\n",
       "      <td>-0.260189</td>\n",
       "      <td>0</td>\n",
       "    </tr>\n",
       "    <tr>\n",
       "      <th>3</th>\n",
       "      <td>2019-07-16</td>\n",
       "      <td>how the bitcoin price was changing,[h] *specia...</td>\n",
       "      <td>-0.332607</td>\n",
       "      <td>0</td>\n",
       "    </tr>\n",
       "    <tr>\n",
       "      <th>4</th>\n",
       "      <td>2019-07-17</td>\n",
       "      <td>get $50 usd unlocked instantly after making yo...</td>\n",
       "      <td>-0.232152</td>\n",
       "      <td>0</td>\n",
       "    </tr>\n",
       "    <tr>\n",
       "      <th>...</th>\n",
       "      <td>...</td>\n",
       "      <td>...</td>\n",
       "      <td>...</td>\n",
       "      <td>...</td>\n",
       "    </tr>\n",
       "    <tr>\n",
       "      <th>877</th>\n",
       "      <td>2022-04-04</td>\n",
       "      <td>most trending cryptos today so far,coinbase re...</td>\n",
       "      <td>0.036542</td>\n",
       "      <td>1</td>\n",
       "    </tr>\n",
       "    <tr>\n",
       "      <th>878</th>\n",
       "      <td>2022-04-05</td>\n",
       "      <td>most trending cryptos today so far,most trendi...</td>\n",
       "      <td>-0.017052</td>\n",
       "      <td>0</td>\n",
       "    </tr>\n",
       "    <tr>\n",
       "      <th>879</th>\n",
       "      <td>2022-04-06</td>\n",
       "      <td>most trending cryptos today so far,stiri crypt...</td>\n",
       "      <td>-0.115605</td>\n",
       "      <td>0</td>\n",
       "    </tr>\n",
       "    <tr>\n",
       "      <th>880</th>\n",
       "      <td>2022-04-07</td>\n",
       "      <td>most trending cryptos today so far,receive 10 ...</td>\n",
       "      <td>-0.043751</td>\n",
       "      <td>0</td>\n",
       "    </tr>\n",
       "    <tr>\n",
       "      <th>881</th>\n",
       "      <td>2022-04-08</td>\n",
       "      <td>most trending cryptos today so far,[h]🔥steam c...</td>\n",
       "      <td>-0.119355</td>\n",
       "      <td>0</td>\n",
       "    </tr>\n",
       "  </tbody>\n",
       "</table>\n",
       "<p>882 rows × 4 columns</p>\n",
       "</div>"
      ],
      "text/plain": [
       "           date                                       reddit_title   BTC-USD  \\\n",
       "0    2019-07-13  btc peer-to-peer trading rises amid ban on usd... -0.136613   \n",
       "1    2019-07-14  minedblock,[store] m9 crimson web fn, bayonet ... -0.256803   \n",
       "2    2019-07-15  bitcoin hiking towards 4050 dollar,bitcoin opp... -0.260189   \n",
       "3    2019-07-16  how the bitcoin price was changing,[h] *specia... -0.332607   \n",
       "4    2019-07-17  get $50 usd unlocked instantly after making yo... -0.232152   \n",
       "..          ...                                                ...       ...   \n",
       "877  2022-04-04  most trending cryptos today so far,coinbase re...  0.036542   \n",
       "878  2022-04-05  most trending cryptos today so far,most trendi... -0.017052   \n",
       "879  2022-04-06  most trending cryptos today so far,stiri crypt... -0.115605   \n",
       "880  2022-04-07  most trending cryptos today so far,receive 10 ... -0.043751   \n",
       "881  2022-04-08  most trending cryptos today so far,[h]🔥steam c... -0.119355   \n",
       "\n",
       "     class  \n",
       "0        0  \n",
       "1        0  \n",
       "2        0  \n",
       "3        0  \n",
       "4        0  \n",
       "..     ...  \n",
       "877      1  \n",
       "878      0  \n",
       "879      0  \n",
       "880      0  \n",
       "881      0  \n",
       "\n",
       "[882 rows x 4 columns]"
      ]
     },
     "execution_count": 30,
     "metadata": {},
     "output_type": "execute_result"
    }
   ],
   "source": [
    "df = cleaned_datasets['BTC-USD']\n",
    "df"
   ]
  },
  {
   "cell_type": "markdown",
   "metadata": {},
   "source": [
    "# Model Testing"
   ]
  },
  {
   "cell_type": "code",
   "execution_count": 70,
   "metadata": {},
   "outputs": [],
   "source": [
    "df.index = df.date\n",
    "X = df['reddit_title']\n",
    "Y = df['class']\n",
    "x_train, x_test, y_train, y_test = train_test_split(X,Y, test_size=0.2, random_state=32)\n",
    "\n",
    "# Vectorize text reviews to numbers\n",
    "vec = CountVectorizer(stop_words='english')\n",
    "x_train = vec.fit_transform(x_train).toarray()\n",
    "x_test = vec.transform(x_test).toarray()\n",
    "\n"
   ]
  },
  {
   "cell_type": "code",
   "execution_count": 46,
   "metadata": {},
   "outputs": [
    {
     "data": {
      "text/plain": [
       "0.6949152542372882"
      ]
     },
     "execution_count": 46,
     "metadata": {},
     "output_type": "execute_result"
    }
   ],
   "source": [
    "## Log Reg\n",
    "from sklearn.linear_model import LogisticRegression\n",
    "logisticRegr = LogisticRegression(max_iter = 2000)\n",
    "model = logisticRegr.fit(x_train,y_train)\n",
    "model.score(x_test,y_test)"
   ]
  },
  {
   "cell_type": "code",
   "execution_count": 56,
   "metadata": {},
   "outputs": [
    {
     "data": {
      "text/plain": [
       "0.6779661016949152"
      ]
     },
     "execution_count": 56,
     "metadata": {},
     "output_type": "execute_result"
    }
   ],
   "source": [
    "##SVM\n",
    "from sklearn import svm\n",
    "model = svm.SVC()\n",
    "model.fit(x_train,y_train)\n",
    "model.score(x_test,y_test)"
   ]
  },
  {
   "cell_type": "code",
   "execution_count": 71,
   "metadata": {},
   "outputs": [
    {
     "data": {
      "text/plain": [
       "0.615819209039548"
      ]
     },
     "execution_count": 71,
     "metadata": {},
     "output_type": "execute_result"
    }
   ],
   "source": [
    "#Naive Bayes\n",
    "from sklearn.naive_bayes import MultinomialNB\n",
    "clf = MultinomialNB()\n",
    "clf.fit(x_train, y_train)\n",
    "clf.score(x_test,y_test)"
   ]
  },
  {
   "cell_type": "code",
   "execution_count": 16,
   "metadata": {},
   "outputs": [],
   "source": [
    "import datetime as dt\n",
    "def rolling_backtest(scrapped_data, start_dt, end_dt):\n",
    "    '''\n",
    "    This is the rolling backtest function. For this, we train the model iteratively.\n",
    "    1. We have a start date from which we want to train the model\n",
    "    2. days = 90, means that we use 90 days as a starting point. I.e for the first day, we have already trained the model for 90 days\n",
    "    3. As more days pass, we fit in more data into the model to fine tune predictions\n",
    "    4. Store the predictions in a dictionary\n",
    "    5. The training model used is a SUPPORT VECTOR MACHINE\n",
    "    '''\n",
    "    scrapped_data.index = scrapped_data['date']\n",
    "    df = scrapped_data.loc[start_dt:end_dt]\n",
    "    days = 90\n",
    "    predictions = {}\n",
    "    for date in df.index:\n",
    "        try:\n",
    "            start = dt.datetime.strptime(start_dt,'%Y-%m-%d')\n",
    "            end = (start+dt.timedelta(days = days)).strftime('%Y-%m-%d')\n",
    "            predict_date = (start+dt.timedelta(days = days)).strftime('%Y-%m-%d')\n",
    "            start = start.strftime('%Y-%m-%d')\n",
    "            days+=1\n",
    "\n",
    "            subset = df.loc[start:predict_date]\n",
    "            x_train = subset.loc[start:end]['reddit_title']\n",
    "            x_test = subset.loc[predict_date][['reddit_title']]\n",
    "            y_train = subset.loc[start:end]['class']\n",
    "            y_test = subset.loc[predict_date][['class']]\n",
    "\n",
    "            vec = CountVectorizer(stop_words='english')\n",
    "            x_train = vec.fit_transform(x_train).toarray()\n",
    "            x_test = vec.transform(x_test).toarray()\n",
    "\n",
    "            ## Fit support vector machine\n",
    "            model = svm.SVC()\n",
    "            model.fit(x_train,y_train)\n",
    "            predictions[predict_date] = model.predict(x_test)[0]\n",
    "        except:\n",
    "            continue\n",
    "\n",
    "    return predictions\n",
    "\n",
    "        \n",
    "        \n",
    "\n"
   ]
  },
  {
   "cell_type": "markdown",
   "metadata": {},
   "source": [
    "## Store backtest results in a dictionary"
   ]
  },
  {
   "cell_type": "code",
   "execution_count": null,
   "metadata": {},
   "outputs": [],
   "source": [
    "backtest_results = {}\n",
    "for crypto in crypto_dict:\n",
    "    df = cleaned_datasets[crypto]\n",
    "    predictions = rolling_backtest(scrapped_data = df,\n",
    "                    start_dt = '2019-08-01',\n",
    "                    end_dt = '2022-04-01')\n",
    "    backtest_result = pd.DataFrame(predictions.values(), index = predictions.keys())\n",
    "    backtest_result.columns = [crypto]\n",
    "    backtest_results[crypto] = backtest_result"
   ]
  },
  {
   "cell_type": "code",
   "execution_count": 96,
   "metadata": {},
   "outputs": [],
   "source": [
    "predictions = rolling_backtest(scrapped_data = cleaned_datasets['XRP-USD'],\n",
    "                start_dt = '2019-08-01',\n",
    "                end_dt = '2022-04-01')\n",
    "backtest_result = pd.DataFrame(predictions.values(), index = predictions.keys())\n",
    "backtest_result.columns = ['XRP-USD']\n",
    "backtest_results['XRP-USD'] = backtest_result"
   ]
  },
  {
   "cell_type": "code",
   "execution_count": 97,
   "metadata": {},
   "outputs": [],
   "source": [
    "data = backtest_results['BTC-USD']\n",
    "for crypto in backtest_results:\n",
    "    if crypto != 'BTC-USD':\n",
    "        data = data.join(backtest_results[crypto])"
   ]
  },
  {
   "cell_type": "markdown",
   "metadata": {},
   "source": [
    "# Save the data in a csv dataset => Look at Trading Strategy Jupyter Notebook for testing the results of our model's predictions"
   ]
  },
  {
   "cell_type": "code",
   "execution_count": 101,
   "metadata": {},
   "outputs": [],
   "source": [
    "data = data.fillna(0)\n",
    "data.to_csv('backtest_results.csv')"
   ]
  },
  {
   "cell_type": "markdown",
   "metadata": {},
   "source": [
    "## Some crytocurrencies have NA values due to lack of data. For this we will thus be focusing on Bitcoin for testing out our strategy"
   ]
  },
  {
   "cell_type": "code",
   "execution_count": 27,
   "metadata": {},
   "outputs": [
    {
     "data": {
      "text/html": [
       "<div>\n",
       "<style scoped>\n",
       "    .dataframe tbody tr th:only-of-type {\n",
       "        vertical-align: middle;\n",
       "    }\n",
       "\n",
       "    .dataframe tbody tr th {\n",
       "        vertical-align: top;\n",
       "    }\n",
       "\n",
       "    .dataframe thead th {\n",
       "        text-align: right;\n",
       "    }\n",
       "</style>\n",
       "<table border=\"1\" class=\"dataframe\">\n",
       "  <thead>\n",
       "    <tr style=\"text-align: right;\">\n",
       "      <th></th>\n",
       "      <th>Unnamed: 0</th>\n",
       "      <th>BTC-USD</th>\n",
       "      <th>ETH-USD</th>\n",
       "      <th>DOGE-USD</th>\n",
       "      <th>ADA-USD</th>\n",
       "      <th>SOL-USD</th>\n",
       "      <th>SHIB-USD</th>\n",
       "      <th>XRP-USD</th>\n",
       "    </tr>\n",
       "  </thead>\n",
       "  <tbody>\n",
       "    <tr>\n",
       "      <th>0</th>\n",
       "      <td>2020-12-13</td>\n",
       "      <td>0</td>\n",
       "      <td>0.0</td>\n",
       "      <td>0.0</td>\n",
       "      <td>0.0</td>\n",
       "      <td>0.0</td>\n",
       "      <td>0.0</td>\n",
       "      <td>1.0</td>\n",
       "    </tr>\n",
       "    <tr>\n",
       "      <th>1</th>\n",
       "      <td>2020-12-14</td>\n",
       "      <td>1</td>\n",
       "      <td>1.0</td>\n",
       "      <td>0.0</td>\n",
       "      <td>0.0</td>\n",
       "      <td>0.0</td>\n",
       "      <td>0.0</td>\n",
       "      <td>1.0</td>\n",
       "    </tr>\n",
       "    <tr>\n",
       "      <th>2</th>\n",
       "      <td>2020-12-15</td>\n",
       "      <td>1</td>\n",
       "      <td>1.0</td>\n",
       "      <td>0.0</td>\n",
       "      <td>0.0</td>\n",
       "      <td>0.0</td>\n",
       "      <td>0.0</td>\n",
       "      <td>1.0</td>\n",
       "    </tr>\n",
       "    <tr>\n",
       "      <th>3</th>\n",
       "      <td>2020-12-16</td>\n",
       "      <td>1</td>\n",
       "      <td>1.0</td>\n",
       "      <td>0.0</td>\n",
       "      <td>0.0</td>\n",
       "      <td>0.0</td>\n",
       "      <td>0.0</td>\n",
       "      <td>1.0</td>\n",
       "    </tr>\n",
       "    <tr>\n",
       "      <th>4</th>\n",
       "      <td>2020-12-17</td>\n",
       "      <td>1</td>\n",
       "      <td>1.0</td>\n",
       "      <td>0.0</td>\n",
       "      <td>0.0</td>\n",
       "      <td>0.0</td>\n",
       "      <td>0.0</td>\n",
       "      <td>1.0</td>\n",
       "    </tr>\n",
       "    <tr>\n",
       "      <th>...</th>\n",
       "      <td>...</td>\n",
       "      <td>...</td>\n",
       "      <td>...</td>\n",
       "      <td>...</td>\n",
       "      <td>...</td>\n",
       "      <td>...</td>\n",
       "      <td>...</td>\n",
       "      <td>...</td>\n",
       "    </tr>\n",
       "    <tr>\n",
       "      <th>405</th>\n",
       "      <td>2022-03-28</td>\n",
       "      <td>1</td>\n",
       "      <td>1.0</td>\n",
       "      <td>0.0</td>\n",
       "      <td>0.0</td>\n",
       "      <td>0.0</td>\n",
       "      <td>0.0</td>\n",
       "      <td>1.0</td>\n",
       "    </tr>\n",
       "    <tr>\n",
       "      <th>406</th>\n",
       "      <td>2022-03-29</td>\n",
       "      <td>1</td>\n",
       "      <td>1.0</td>\n",
       "      <td>1.0</td>\n",
       "      <td>0.0</td>\n",
       "      <td>0.0</td>\n",
       "      <td>0.0</td>\n",
       "      <td>1.0</td>\n",
       "    </tr>\n",
       "    <tr>\n",
       "      <th>407</th>\n",
       "      <td>2022-03-30</td>\n",
       "      <td>0</td>\n",
       "      <td>1.0</td>\n",
       "      <td>0.0</td>\n",
       "      <td>0.0</td>\n",
       "      <td>1.0</td>\n",
       "      <td>0.0</td>\n",
       "      <td>1.0</td>\n",
       "    </tr>\n",
       "    <tr>\n",
       "      <th>408</th>\n",
       "      <td>2022-03-31</td>\n",
       "      <td>1</td>\n",
       "      <td>1.0</td>\n",
       "      <td>0.0</td>\n",
       "      <td>0.0</td>\n",
       "      <td>0.0</td>\n",
       "      <td>0.0</td>\n",
       "      <td>1.0</td>\n",
       "    </tr>\n",
       "    <tr>\n",
       "      <th>409</th>\n",
       "      <td>2022-04-01</td>\n",
       "      <td>1</td>\n",
       "      <td>1.0</td>\n",
       "      <td>0.0</td>\n",
       "      <td>0.0</td>\n",
       "      <td>0.0</td>\n",
       "      <td>0.0</td>\n",
       "      <td>1.0</td>\n",
       "    </tr>\n",
       "  </tbody>\n",
       "</table>\n",
       "<p>410 rows × 8 columns</p>\n",
       "</div>"
      ],
      "text/plain": [
       "     Unnamed: 0  BTC-USD  ETH-USD  DOGE-USD  ADA-USD  SOL-USD  SHIB-USD  \\\n",
       "0    2020-12-13        0      0.0       0.0      0.0      0.0       0.0   \n",
       "1    2020-12-14        1      1.0       0.0      0.0      0.0       0.0   \n",
       "2    2020-12-15        1      1.0       0.0      0.0      0.0       0.0   \n",
       "3    2020-12-16        1      1.0       0.0      0.0      0.0       0.0   \n",
       "4    2020-12-17        1      1.0       0.0      0.0      0.0       0.0   \n",
       "..          ...      ...      ...       ...      ...      ...       ...   \n",
       "405  2022-03-28        1      1.0       0.0      0.0      0.0       0.0   \n",
       "406  2022-03-29        1      1.0       1.0      0.0      0.0       0.0   \n",
       "407  2022-03-30        0      1.0       0.0      0.0      1.0       0.0   \n",
       "408  2022-03-31        1      1.0       0.0      0.0      0.0       0.0   \n",
       "409  2022-04-01        1      1.0       0.0      0.0      0.0       0.0   \n",
       "\n",
       "     XRP-USD  \n",
       "0        1.0  \n",
       "1        1.0  \n",
       "2        1.0  \n",
       "3        1.0  \n",
       "4        1.0  \n",
       "..       ...  \n",
       "405      1.0  \n",
       "406      1.0  \n",
       "407      1.0  \n",
       "408      1.0  \n",
       "409      1.0  \n",
       "\n",
       "[410 rows x 8 columns]"
      ]
     },
     "execution_count": 27,
     "metadata": {},
     "output_type": "execute_result"
    }
   ],
   "source": [
    "data = pd.read_csv('backtest_results.csv')\n",
    "data"
   ]
  },
  {
   "cell_type": "markdown",
   "metadata": {},
   "source": [
    "## Testing Naive Bayes Algorithm"
   ]
  },
  {
   "cell_type": "code",
   "execution_count": 120,
   "metadata": {},
   "outputs": [
    {
     "data": {
      "text/plain": [
       "MultinomialNB()"
      ]
     },
     "execution_count": 120,
     "metadata": {},
     "output_type": "execute_result"
    }
   ],
   "source": [
    "from sklearn.naive_bayes import MultinomialNB\n",
    "model = MultinomialNB()\n",
    "model.fit(x_train, y_train)"
   ]
  },
  {
   "cell_type": "code",
   "execution_count": 172,
   "metadata": {},
   "outputs": [
    {
     "data": {
      "text/plain": [
       "date\n",
       "2020-01-01    calvin ayre: 2020 is bitcoins year of enterpri...\n",
       "2020-01-02    bitcoin price analysis: btc/usd another triang...\n",
       "Name: reddit_title, dtype: object"
      ]
     },
     "execution_count": 172,
     "metadata": {},
     "output_type": "execute_result"
    }
   ],
   "source": [
    "df.loc['2020-01-01':'2020-01-02']['reddit_title']"
   ]
  },
  {
   "cell_type": "code",
   "execution_count": 177,
   "metadata": {},
   "outputs": [
    {
     "data": {
      "text/plain": [
       "array([[0, 2, 0, ..., 0, 0, 0],\n",
       "       [0, 8, 0, ..., 0, 0, 0],\n",
       "       [0, 3, 0, ..., 0, 0, 0],\n",
       "       ...,\n",
       "       [0, 5, 0, ..., 0, 0, 0],\n",
       "       [0, 2, 0, ..., 0, 0, 0],\n",
       "       [0, 2, 0, ..., 0, 0, 0]], dtype=int64)"
      ]
     },
     "execution_count": 177,
     "metadata": {},
     "output_type": "execute_result"
    }
   ],
   "source": [
    "x_test"
   ]
  },
  {
   "cell_type": "code",
   "execution_count": null,
   "metadata": {},
   "outputs": [],
   "source": [
    "\n",
    "model.predict(x_test)"
   ]
  },
  {
   "cell_type": "markdown",
   "metadata": {},
   "source": [
    "# Support Vector Machine Model"
   ]
  },
  {
   "cell_type": "code",
   "execution_count": null,
   "metadata": {},
   "outputs": [],
   "source": [
    "from sklearn import svm\n",
    "model = svm.SVC()\n",
    "model.fit(x_train,y_train)"
   ]
  },
  {
   "cell_type": "code",
   "execution_count": null,
   "metadata": {},
   "outputs": [],
   "source": [
    "trained_models = {}\n",
    "trained_models['btc'] = model"
   ]
  },
  {
   "cell_type": "code",
   "execution_count": 123,
   "metadata": {},
   "outputs": [
    {
     "data": {
      "text/plain": [
       "0.6779661016949152"
      ]
     },
     "execution_count": 123,
     "metadata": {},
     "output_type": "execute_result"
    }
   ],
   "source": [
    "model.score(x_test, y_test)"
   ]
  },
  {
   "cell_type": "code",
   "execution_count": 140,
   "metadata": {},
   "outputs": [
    {
     "data": {
      "text/plain": [
       "array([0, 1, 1, 1, 1, 0, 1, 1, 0, 1, 1, 0, 1, 0, 0, 0, 0, 1, 1, 1, 1, 1,\n",
       "       0, 0, 0, 1, 0, 1, 0, 0, 0, 1, 0, 0, 1, 0, 1, 0, 0, 1, 1, 1, 1, 0,\n",
       "       1, 0, 1, 1, 0, 1, 1, 0, 1, 1, 0, 0, 1, 1, 0, 1, 1, 1, 1, 1, 1, 1,\n",
       "       1, 1, 0, 1, 1, 0, 1, 1, 1, 1, 1, 1, 0, 1, 1, 1, 1, 1, 1, 0, 0, 1,\n",
       "       1, 1, 1, 1, 1, 1, 1, 1, 0, 1, 0, 1, 0, 0, 1, 0, 0, 0, 1, 1, 0, 0,\n",
       "       1, 1, 1, 1, 0, 1, 0, 0, 1, 1, 1, 1, 0, 1, 1, 1, 0, 0, 0, 1, 0, 1,\n",
       "       1, 0, 1, 0, 1, 0, 1, 1, 0, 0, 0, 1, 1, 0, 0, 1, 1, 1, 1, 0, 1, 1,\n",
       "       1, 1, 1, 1, 1, 1, 1, 1, 1, 1, 0, 0, 1, 1, 0, 1, 0, 1, 0, 1, 1, 0,\n",
       "       1], dtype=int64)"
      ]
     },
     "execution_count": 140,
     "metadata": {},
     "output_type": "execute_result"
    }
   ],
   "source": [
    "y_pred = model.predict(x_test)"
   ]
  },
  {
   "cell_type": "code",
   "execution_count": null,
   "metadata": {},
   "outputs": [],
   "source": []
  },
  {
   "cell_type": "code",
   "execution_count": null,
   "metadata": {},
   "outputs": [],
   "source": []
  },
  {
   "cell_type": "code",
   "execution_count": null,
   "metadata": {},
   "outputs": [],
   "source": []
  },
  {
   "cell_type": "code",
   "execution_count": null,
   "metadata": {},
   "outputs": [],
   "source": []
  },
  {
   "cell_type": "code",
   "execution_count": null,
   "metadata": {},
   "outputs": [],
   "source": []
  },
  {
   "cell_type": "markdown",
   "metadata": {},
   "source": [
    "# Workings (Ignore Below)"
   ]
  },
  {
   "cell_type": "code",
   "execution_count": null,
   "metadata": {},
   "outputs": [],
   "source": [
    "df.index = df.date\n",
    "X = df['reddit_title']\n",
    "Y = df['class']\n",
    "x_train, x_test, y_train, y_test = train_test_split(X,Y, test_size=0.2, random_state=42)\n",
    "\n",
    "# Vectorize text reviews to numbers\n",
    "vec = CountVectorizer(stop_words='english')\n",
    "x_train = vec.fit_transform(x_train).toarray()\n",
    "x_test = vec.transform(x_test).toarray()\n",
    "xx_test = df['reddit_title'][['2020-01-01']]\n",
    "# Vectorize text reviews to numbers\n",
    "vec = CountVectorizer(stop_words='english')\n",
    "x_train = vec.fit_transform(x_train).toarray()\n",
    "xx_test = vec.transform(xx_test).toarray()"
   ]
  },
  {
   "cell_type": "code",
   "execution_count": null,
   "metadata": {},
   "outputs": [
    {
     "name": "stdout",
     "output_type": "stream",
     "text": [
      "Error encountered for 2021-08-28\n",
      "Error encountered for 2021-01-06\n",
      "Error encountered for 2020-04-12\n"
     ]
    }
   ],
   "source": [
    "query = \"solana\"\n",
    "subreddit=\"solana\" #Define Your Query\n",
    "fields = \"title,created_utc\"\n",
    "size = 100\n",
    "sort_type = \"score\" #score, num_comments, default=created_utc\n",
    "data = multiple_data_call(lookback_period=1000,\n",
    "            query = query,\n",
    "            subreddit=subreddit,\n",
    "            fields=fields,\n",
    "            sort_type=sort_type,\n",
    "            size = size)\n",
    "\n"
   ]
  },
  {
   "cell_type": "code",
   "execution_count": null,
   "metadata": {},
   "outputs": [
    {
     "name": "stdout",
     "output_type": "stream",
     "text": [
      "[*********************100%***********************]  1 of 1 completed\n",
      "SOLUSD price\n"
     ]
    },
    {
     "data": {
      "image/png": "[encoded data removed]",
      "text/plain": [
       "<Figure size 864x432 with 1 Axes>"
      ]
     },
     "metadata": {
      "needs_background": "light"
     },
     "output_type": "display_data"
    }
   ],
   "source": [
    "tickerlist = ['SOL-USD']\n",
    "df = yf.download(tickerlist, period = '1d', start = '2007-01-01',end = pd.Timestamp.today())\n",
    "columns = df.columns\n",
    "df = df.iloc[:,2]['2007':]\n",
    "df.plot(figsize = (12,6),title = 'BTCUSD')\n",
    "print('SOLUSD price')"
   ]
  },
  {
   "cell_type": "code",
   "execution_count": null,
   "metadata": {},
   "outputs": [
    {
     "name": "stdout",
     "output_type": "stream",
     "text": [
      "Converting to lower case......\n",
      "Tokenizing data......\n",
      "Removing stopwords......\n",
      "Stemming words......\n",
      "Lemmatizing words......\n"
     ]
    },
    {
     "data": {
      "text/html": [
       "<div>\n",
       "<style scoped>\n",
       "    .dataframe tbody tr th:only-of-type {\n",
       "        vertical-align: middle;\n",
       "    }\n",
       "\n",
       "    .dataframe tbody tr th {\n",
       "        vertical-align: top;\n",
       "    }\n",
       "\n",
       "    .dataframe thead th {\n",
       "        text-align: right;\n",
       "    }\n",
       "</style>\n",
       "<table border=\"1\" class=\"dataframe\">\n",
       "  <thead>\n",
       "    <tr style=\"text-align: right;\">\n",
       "      <th></th>\n",
       "      <th>date</th>\n",
       "      <th>reddit_title</th>\n",
       "      <th>pcnt_change</th>\n",
       "      <th>class</th>\n",
       "    </tr>\n",
       "  </thead>\n",
       "  <tbody>\n",
       "    <tr>\n",
       "      <th>0</th>\n",
       "      <td>2019-07-27</td>\n",
       "      <td>the seven innovations of solana,welcome to /r/...</td>\n",
       "      <td>0.116026</td>\n",
       "      <td>1</td>\n",
       "    </tr>\n",
       "    <tr>\n",
       "      <th>1</th>\n",
       "      <td>2019-07-30</td>\n",
       "      <td>solana poses itself as a \"decentralized libra\"...</td>\n",
       "      <td>0.196390</td>\n",
       "      <td>1</td>\n",
       "    </tr>\n",
       "    <tr>\n",
       "      <th>2</th>\n",
       "      <td>2019-07-31</td>\n",
       "      <td>multicoin leads $20 million round for speed-fo...</td>\n",
       "      <td>0.191247</td>\n",
       "      <td>1</td>\n",
       "    </tr>\n",
       "    <tr>\n",
       "      <th>3</th>\n",
       "      <td>2019-08-02</td>\n",
       "      <td>when will the solana mainnet launch?</td>\n",
       "      <td>0.129084</td>\n",
       "      <td>1</td>\n",
       "    </tr>\n",
       "    <tr>\n",
       "      <th>4</th>\n",
       "      <td>2019-08-06</td>\n",
       "      <td>figment's first look at solana and stak</td>\n",
       "      <td>-0.040777</td>\n",
       "      <td>0</td>\n",
       "    </tr>\n",
       "    <tr>\n",
       "      <th>...</th>\n",
       "      <td>...</td>\n",
       "      <td>...</td>\n",
       "      <td>...</td>\n",
       "      <td>...</td>\n",
       "    </tr>\n",
       "    <tr>\n",
       "      <th>610</th>\n",
       "      <td>2022-03-18</td>\n",
       "      <td>fantastic twitter spaces with solana project f...</td>\n",
       "      <td>0.084459</td>\n",
       "      <td>1</td>\n",
       "    </tr>\n",
       "    <tr>\n",
       "      <th>611</th>\n",
       "      <td>2022-03-19</td>\n",
       "      <td>based on solana, p2e esports company monkeylea...</td>\n",
       "      <td>0.061621</td>\n",
       "      <td>1</td>\n",
       "    </tr>\n",
       "    <tr>\n",
       "      <th>612</th>\n",
       "      <td>2022-03-20</td>\n",
       "      <td>security factors,if solana doubled tomorrow......</td>\n",
       "      <td>0.083711</td>\n",
       "      <td>1</td>\n",
       "    </tr>\n",
       "    <tr>\n",
       "      <th>613</th>\n",
       "      <td>2022-03-21</td>\n",
       "      <td>i definitely miss solana at $200.,\"why doesn't...</td>\n",
       "      <td>0.148081</td>\n",
       "      <td>1</td>\n",
       "    </tr>\n",
       "    <tr>\n",
       "      <th>614</th>\n",
       "      <td>2022-03-22</td>\n",
       "      <td>solana programs part 1: understanding spl toke...</td>\n",
       "      <td>0.151398</td>\n",
       "      <td>1</td>\n",
       "    </tr>\n",
       "  </tbody>\n",
       "</table>\n",
       "<p>615 rows × 4 columns</p>\n",
       "</div>"
      ],
      "text/plain": [
       "           date                                       reddit_title  \\\n",
       "0    2019-07-27  the seven innovations of solana,welcome to /r/...   \n",
       "1    2019-07-30  solana poses itself as a \"decentralized libra\"...   \n",
       "2    2019-07-31  multicoin leads $20 million round for speed-fo...   \n",
       "3    2019-08-02               when will the solana mainnet launch?   \n",
       "4    2019-08-06            figment's first look at solana and stak   \n",
       "..          ...                                                ...   \n",
       "610  2022-03-18  fantastic twitter spaces with solana project f...   \n",
       "611  2022-03-19  based on solana, p2e esports company monkeylea...   \n",
       "612  2022-03-20  security factors,if solana doubled tomorrow......   \n",
       "613  2022-03-21  i definitely miss solana at $200.,\"why doesn't...   \n",
       "614  2022-03-22  solana programs part 1: understanding spl toke...   \n",
       "\n",
       "     pcnt_change  class  \n",
       "0       0.116026      1  \n",
       "1       0.196390      1  \n",
       "2       0.191247      1  \n",
       "3       0.129084      1  \n",
       "4      -0.040777      0  \n",
       "..           ...    ...  \n",
       "610     0.084459      1  \n",
       "611     0.061621      1  \n",
       "612     0.083711      1  \n",
       "613     0.148081      1  \n",
       "614     0.151398      1  \n",
       "\n",
       "[615 rows x 4 columns]"
      ]
     },
     "execution_count": 47,
     "metadata": {},
     "output_type": "execute_result"
    }
   ],
   "source": [
    "cleanedata1 = pd.DataFrame(data.groupby(['date'])['reddit_title'].apply(lambda x:','.join(x)))\n",
    "merged_data = cleanedata1.merge(pct_change, on='date',how = 'left')\n",
    "merged_data['class'] = [0 if x<0 else 1 for x in merged_data.pcnt_change]\n",
    "merged_data = merged_data.dropna()\n",
    "merged_data.to_csv('solana_dataset_merged.csv')\n",
    "merged_data['reddit_title'] = prepare_data(merged_data['reddit_title'])\n",
    "for i in merged_data.index:\n",
    "    merged_data.loc[i,'reddit_title'] = to_string(merged_data.loc[i,'reddit_title'])\n",
    "merged_data"
   ]
  },
  {
   "cell_type": "markdown",
   "metadata": {},
   "source": [
    "## Training the Solana NLP Model"
   ]
  },
  {
   "cell_type": "code",
   "execution_count": null,
   "metadata": {},
   "outputs": [
    {
     "data": {
      "text/plain": [
       "0.6341463414634146"
      ]
     },
     "execution_count": 49,
     "metadata": {},
     "output_type": "execute_result"
    }
   ],
   "source": [
    "X = merged_data['reddit_title']\n",
    "Y = merged_data['class']\n",
    "x_train, x_test, y_train, y_test = train_test_split(X,Y, test_size=0.2, random_state=42)\n",
    "# Vectorize text reviews to numbers\n",
    "vec = CountVectorizer(stop_words='english')\n",
    "x_train = vec.fit_transform(x_train).toarray()\n",
    "x_test = vec.transform(x_test).toarray()\n",
    "\n",
    "sol_model = MultinomialNB()\n",
    "sol_model.fit(x_train, y_train)\n",
    "sol_model.score(x_test, y_test)"
   ]
  },
  {
   "cell_type": "code",
   "execution_count": null,
   "metadata": {},
   "outputs": [
    {
     "data": {
      "text/plain": [
       "7897"
      ]
     },
     "execution_count": 51,
     "metadata": {},
     "output_type": "execute_result"
    }
   ],
   "source": [
    "len(x_train[1])"
   ]
  },
  {
   "cell_type": "markdown",
   "metadata": {},
   "source": [
    "# Natural Language Processing with Pyspark (Failed)"
   ]
  },
  {
   "cell_type": "code",
   "execution_count": 77,
   "metadata": {},
   "outputs": [
    {
     "data": {
      "text/html": [
       "<div>\n",
       "<style scoped>\n",
       "    .dataframe tbody tr th:only-of-type {\n",
       "        vertical-align: middle;\n",
       "    }\n",
       "\n",
       "    .dataframe tbody tr th {\n",
       "        vertical-align: top;\n",
       "    }\n",
       "\n",
       "    .dataframe thead th {\n",
       "        text-align: right;\n",
       "    }\n",
       "</style>\n",
       "<table border=\"1\" class=\"dataframe\">\n",
       "  <thead>\n",
       "    <tr style=\"text-align: right;\">\n",
       "      <th></th>\n",
       "      <th>Text</th>\n",
       "      <th>Reviews</th>\n",
       "    </tr>\n",
       "  </thead>\n",
       "  <tbody>\n",
       "    <tr>\n",
       "      <th>0</th>\n",
       "      <td>I liked the movie</td>\n",
       "      <td>positive</td>\n",
       "    </tr>\n",
       "    <tr>\n",
       "      <th>1</th>\n",
       "      <td>It’s a good movie. Nice story</td>\n",
       "      <td>positive</td>\n",
       "    </tr>\n",
       "    <tr>\n",
       "      <th>2</th>\n",
       "      <td>Hero’s acting is bad but heroine looks good.  ...</td>\n",
       "      <td>positive</td>\n",
       "    </tr>\n",
       "    <tr>\n",
       "      <th>3</th>\n",
       "      <td>Nice songs. But sadly boring ending.</td>\n",
       "      <td>negative</td>\n",
       "    </tr>\n",
       "    <tr>\n",
       "      <th>4</th>\n",
       "      <td>sad movie, boring movie</td>\n",
       "      <td>negative</td>\n",
       "    </tr>\n",
       "  </tbody>\n",
       "</table>\n",
       "</div>"
      ],
      "text/plain": [
       "                                                Text   Reviews\n",
       "0                                  I liked the movie  positive\n",
       "1                      It’s a good movie. Nice story  positive\n",
       "2  Hero’s acting is bad but heroine looks good.  ...  positive\n",
       "3               Nice songs. But sadly boring ending.  negative\n",
       "4                            sad movie, boring movie  negative"
      ]
     },
     "execution_count": 77,
     "metadata": {},
     "output_type": "execute_result"
    }
   ],
   "source": [
    "import pandas as pd\n",
    "import re\n",
    "import nltk\n",
    "from nltk.corpus import stopwords\n",
    "from nltk.stem.porter import PorterStemmer\n",
    "from sklearn.feature_extraction.text import CountVectorizer\n",
    " \n",
    "dataset = [[\"I liked the movie\", \"positive\"],\n",
    "           [\"It’s a good movie. Nice story\", \"positive\"],\n",
    "           [\"Hero’s acting is bad but heroine looks good.\\\n",
    "            Overall nice movie\", \"positive\"],\n",
    "            [\"Nice songs. But sadly boring ending.\", \"negative\"],\n",
    "            [\"sad movie, boring movie\", \"negative\"]]\n",
    "             \n",
    "dataset = pd.DataFrame(dataset)\n",
    "dataset.columns = [\"Text\", \"Reviews\"]\n",
    " \n",
    "dataset"
   ]
  },
  {
   "cell_type": "code",
   "execution_count": 75,
   "metadata": {},
   "outputs": [],
   "source": [
    "\n",
    "nltk.download('stopwords')\n",
    " \n",
    "corpus = []\n",
    " \n",
    "for i in range(0, 5):\n",
    "    text = re.sub('[^a-zA-Z]', '', dataset['Text'][i])\n",
    "    text = text.lower()\n",
    "    text = text.split()\n",
    "    ps = PorterStemmer()\n",
    "    text = ''.join(text)\n",
    "    corpus.append(text)\n",
    " \n",
    "# creating bag of words model\n",
    "cv = CountVectorizer(max_features = 1500)\n",
    " \n",
    "X = cv.fit_transform(corpus).toarray()\n",
    "y = dataset.iloc[:, 1].values\n",
    "# splitting the data set into training set and test set\n",
    "\n",
    " \n",
    "X_train, X_test, y_train, y_test = train_test_split(\n",
    "           X, y, test_size = 0.25, random_state = 0)"
   ]
  },
  {
   "cell_type": "code",
   "execution_count": 76,
   "metadata": {},
   "outputs": [
    {
     "data": {
      "text/plain": [
       "array([[0, 0, 1, 0, 0],\n",
       "       [0, 0, 0, 1, 0],\n",
       "       [0, 0, 0, 0, 1]], dtype=int64)"
      ]
     },
     "execution_count": 76,
     "metadata": {},
     "output_type": "execute_result"
    }
   ],
   "source": [
    "X_train"
   ]
  },
  {
   "cell_type": "code",
   "execution_count": null,
   "metadata": {},
   "outputs": [],
   "source": []
  },
  {
   "cell_type": "code",
   "execution_count": null,
   "metadata": {},
   "outputs": [
    {
     "ename": "Exception",
     "evalue": "Unable to find py4j in C:\\Program Files\\Spark\\spark-3.2.1-bin-hadoop3.2\\python, your SPARK_HOME may not be configured correctly",
     "output_type": "error",
     "traceback": [
      "\u001b[1;31m---------------------------------------------------------------------------\u001b[0m",
      "\u001b[1;31mIndexError\u001b[0m                                Traceback (most recent call last)",
      "\u001b[1;32mC:\\ProgramData\\Anaconda3\\lib\\site-packages\\findspark.py\u001b[0m in \u001b[0;36minit\u001b[1;34m(spark_home, python_path, edit_rc, edit_profile)\u001b[0m\n\u001b[0;32m    158\u001b[0m         \u001b[1;32mtry\u001b[0m\u001b[1;33m:\u001b[0m\u001b[1;33m\u001b[0m\u001b[1;33m\u001b[0m\u001b[0m\n\u001b[1;32m--> 159\u001b[1;33m             \u001b[0mpy4j\u001b[0m \u001b[1;33m=\u001b[0m \u001b[0mglob\u001b[0m\u001b[1;33m(\u001b[0m\u001b[0mos\u001b[0m\u001b[1;33m.\u001b[0m\u001b[0mpath\u001b[0m\u001b[1;33m.\u001b[0m\u001b[0mjoin\u001b[0m\u001b[1;33m(\u001b[0m\u001b[0mspark_python\u001b[0m\u001b[1;33m,\u001b[0m \u001b[1;34m\"lib\"\u001b[0m\u001b[1;33m,\u001b[0m \u001b[1;34m\"py4j-*.zip\"\u001b[0m\u001b[1;33m)\u001b[0m\u001b[1;33m)\u001b[0m\u001b[1;33m[\u001b[0m\u001b[1;36m0\u001b[0m\u001b[1;33m]\u001b[0m\u001b[1;33m\u001b[0m\u001b[1;33m\u001b[0m\u001b[0m\n\u001b[0m\u001b[0;32m    160\u001b[0m         \u001b[1;32mexcept\u001b[0m \u001b[0mIndexError\u001b[0m\u001b[1;33m:\u001b[0m\u001b[1;33m\u001b[0m\u001b[1;33m\u001b[0m\u001b[0m\n",
      "\u001b[1;31mIndexError\u001b[0m: list index out of range",
      "\nDuring handling of the above exception, another exception occurred:\n",
      "\u001b[1;31mException\u001b[0m                                 Traceback (most recent call last)",
      "\u001b[1;32m<ipython-input-26-98c43b67bd4f>\u001b[0m in \u001b[0;36m<module>\u001b[1;34m\u001b[0m\n\u001b[0;32m      4\u001b[0m \u001b[1;33m\u001b[0m\u001b[0m\n\u001b[0;32m      5\u001b[0m \u001b[1;32mimport\u001b[0m \u001b[0mfindspark\u001b[0m\u001b[1;33m\u001b[0m\u001b[1;33m\u001b[0m\u001b[0m\n\u001b[1;32m----> 6\u001b[1;33m \u001b[0mfindspark\u001b[0m\u001b[1;33m.\u001b[0m\u001b[0minit\u001b[0m\u001b[1;33m(\u001b[0m\u001b[1;33m)\u001b[0m\u001b[1;33m\u001b[0m\u001b[1;33m\u001b[0m\u001b[0m\n\u001b[0m\u001b[0;32m      7\u001b[0m \u001b[1;32mimport\u001b[0m \u001b[0mpyspark\u001b[0m\u001b[1;33m\u001b[0m\u001b[1;33m\u001b[0m\u001b[0m\n\u001b[0;32m      8\u001b[0m \u001b[1;32mfrom\u001b[0m \u001b[0mpyspark\u001b[0m\u001b[1;33m.\u001b[0m\u001b[0msql\u001b[0m \u001b[1;32mimport\u001b[0m \u001b[0mSparkSession\u001b[0m\u001b[1;33m\u001b[0m\u001b[1;33m\u001b[0m\u001b[0m\n",
      "\u001b[1;32mC:\\ProgramData\\Anaconda3\\lib\\site-packages\\findspark.py\u001b[0m in \u001b[0;36minit\u001b[1;34m(spark_home, python_path, edit_rc, edit_profile)\u001b[0m\n\u001b[0;32m    159\u001b[0m             \u001b[0mpy4j\u001b[0m \u001b[1;33m=\u001b[0m \u001b[0mglob\u001b[0m\u001b[1;33m(\u001b[0m\u001b[0mos\u001b[0m\u001b[1;33m.\u001b[0m\u001b[0mpath\u001b[0m\u001b[1;33m.\u001b[0m\u001b[0mjoin\u001b[0m\u001b[1;33m(\u001b[0m\u001b[0mspark_python\u001b[0m\u001b[1;33m,\u001b[0m \u001b[1;34m\"lib\"\u001b[0m\u001b[1;33m,\u001b[0m \u001b[1;34m\"py4j-*.zip\"\u001b[0m\u001b[1;33m)\u001b[0m\u001b[1;33m)\u001b[0m\u001b[1;33m[\u001b[0m\u001b[1;36m0\u001b[0m\u001b[1;33m]\u001b[0m\u001b[1;33m\u001b[0m\u001b[1;33m\u001b[0m\u001b[0m\n\u001b[0;32m    160\u001b[0m         \u001b[1;32mexcept\u001b[0m \u001b[0mIndexError\u001b[0m\u001b[1;33m:\u001b[0m\u001b[1;33m\u001b[0m\u001b[1;33m\u001b[0m\u001b[0m\n\u001b[1;32m--> 161\u001b[1;33m             raise Exception(\n\u001b[0m\u001b[0;32m    162\u001b[0m                 \"Unable to find py4j in {}, your SPARK_HOME may not be configured correctly\".format(\n\u001b[0;32m    163\u001b[0m                     \u001b[0mspark_python\u001b[0m\u001b[1;33m\u001b[0m\u001b[1;33m\u001b[0m\u001b[0m\n",
      "\u001b[1;31mException\u001b[0m: Unable to find py4j in C:\\Program Files\\Spark\\spark-3.2.1-bin-hadoop3.2\\python, your SPARK_HOME may not be configured correctly"
     ]
    }
   ],
   "source": [
    "# PySpark applications start with initializing SparkSession which is the entry point of PySpark as below\n",
    "import os\n",
    "os.environ[\"JAVA_HOME\"] = \"C:/Progra~1/Java/jdk1.8.0_321\"\n",
    "\n",
    "import findspark\n",
    "findspark.init()\n",
    "import pyspark\n",
    "from pyspark.sql import SparkSession\n",
    "\n",
    "spark = SparkSession.builder.getOrCreate()\n"
   ]
  },
  {
   "cell_type": "code",
   "execution_count": null,
   "metadata": {},
   "outputs": [
    {
     "data": {
      "text/html": [
       "<div>\n",
       "<style scoped>\n",
       "    .dataframe tbody tr th:only-of-type {\n",
       "        vertical-align: middle;\n",
       "    }\n",
       "\n",
       "    .dataframe tbody tr th {\n",
       "        vertical-align: top;\n",
       "    }\n",
       "\n",
       "    .dataframe thead th {\n",
       "        text-align: right;\n",
       "    }\n",
       "</style>\n",
       "<table border=\"1\" class=\"dataframe\">\n",
       "  <thead>\n",
       "    <tr style=\"text-align: right;\">\n",
       "      <th></th>\n",
       "      <th>label</th>\n",
       "      <th>reddit_title</th>\n",
       "    </tr>\n",
       "  </thead>\n",
       "  <tbody>\n",
       "    <tr>\n",
       "      <th>0</th>\n",
       "      <td>1</td>\n",
       "      <td>Bitcoin to the moon,looing to spend a lot of m...</td>\n",
       "    </tr>\n",
       "    <tr>\n",
       "      <th>1</th>\n",
       "      <td>1</td>\n",
       "      <td>Happy Women's Day to all the ladies who hodl b...</td>\n",
       "    </tr>\n",
       "    <tr>\n",
       "      <th>2</th>\n",
       "      <td>1</td>\n",
       "      <td>The Case for $70k Bitcoin by April,Loans that ...</td>\n",
       "    </tr>\n",
       "    <tr>\n",
       "      <th>3</th>\n",
       "      <td>1</td>\n",
       "      <td>Sovereign Wealth Funds Are Ready to Buy Bitcoi...</td>\n",
       "    </tr>\n",
       "    <tr>\n",
       "      <th>4</th>\n",
       "      <td>1</td>\n",
       "      <td>Keiser Report: Jonathan Chester CEO of Bitwage...</td>\n",
       "    </tr>\n",
       "    <tr>\n",
       "      <th>...</th>\n",
       "      <td>...</td>\n",
       "      <td>...</td>\n",
       "    </tr>\n",
       "    <tr>\n",
       "      <th>363</th>\n",
       "      <td>1</td>\n",
       "      <td>My Biggest Regret (story and advice from a sil...</td>\n",
       "    </tr>\n",
       "    <tr>\n",
       "      <th>364</th>\n",
       "      <td>1</td>\n",
       "      <td>March 19, 2013: Bitcoin and me (Hal Finney),Mo...</td>\n",
       "    </tr>\n",
       "    <tr>\n",
       "      <th>365</th>\n",
       "      <td>1</td>\n",
       "      <td>Apple co-founder explaining #Bitcoin not crypt...</td>\n",
       "    </tr>\n",
       "    <tr>\n",
       "      <th>366</th>\n",
       "      <td>1</td>\n",
       "      <td>A Progressive View of Bitcoin with Margot Paez...</td>\n",
       "    </tr>\n",
       "    <tr>\n",
       "      <th>367</th>\n",
       "      <td>1</td>\n",
       "      <td>I have found a new and easy way to make some b...</td>\n",
       "    </tr>\n",
       "  </tbody>\n",
       "</table>\n",
       "<p>368 rows × 2 columns</p>\n",
       "</div>"
      ],
      "text/plain": [
       "     label                                       reddit_title\n",
       "0        1  Bitcoin to the moon,looing to spend a lot of m...\n",
       "1        1  Happy Women's Day to all the ladies who hodl b...\n",
       "2        1  The Case for $70k Bitcoin by April,Loans that ...\n",
       "3        1  Sovereign Wealth Funds Are Ready to Buy Bitcoi...\n",
       "4        1  Keiser Report: Jonathan Chester CEO of Bitwage...\n",
       "..     ...                                                ...\n",
       "363      1  My Biggest Regret (story and advice from a sil...\n",
       "364      1  March 19, 2013: Bitcoin and me (Hal Finney),Mo...\n",
       "365      1  Apple co-founder explaining #Bitcoin not crypt...\n",
       "366      1  A Progressive View of Bitcoin with Margot Paez...\n",
       "367      1  I have found a new and easy way to make some b...\n",
       "\n",
       "[368 rows x 2 columns]"
      ]
     },
     "execution_count": 12,
     "metadata": {},
     "output_type": "execute_result"
    }
   ],
   "source": [
    "proc_data = merged_data[['class','reddit_title']]\n",
    "proc_data.columns = ['label','reddit_title']\n",
    "proc_data"
   ]
  },
  {
   "cell_type": "code",
   "execution_count": null,
   "metadata": {},
   "outputs": [
    {
     "name": "stdout",
     "output_type": "stream",
     "text": [
      "+-----+--------------------+\n",
      "|label|        reddit_title|\n",
      "+-----+--------------------+\n",
      "|    1|Bitcoin to the mo...|\n",
      "|    1|Happy Women's Day...|\n",
      "|    1|The Case for $70k...|\n",
      "|    1|Sovereign Wealth ...|\n",
      "|    1|Keiser Report: Jo...|\n",
      "|    1|Website that i ca...|\n",
      "|    1|When Will All Of ...|\n",
      "|    1|QUESTION about in...|\n",
      "|    1|Bitcoin as piggy ...|\n",
      "|    1|BTC,Not sending B...|\n",
      "+-----+--------------------+\n",
      "only showing top 10 rows\n",
      "\n"
     ]
    }
   ],
   "source": [
    "df = spark.createDataFrame(proc_data)\n",
    "df.show(10)"
   ]
  },
  {
   "cell_type": "code",
   "execution_count": null,
   "metadata": {},
   "outputs": [],
   "source": [
    "#Tokenizer\n",
    "from pyspark.ml.feature import Tokenizer, RegexTokenizer,StopWordsRemover,CountVectorizer,VectorAssembler\n",
    "from pyspark.sql.functions import col,udf\n",
    "from pyspark.sql.types import IntegerType\n",
    "from pyspark.ml.classification import NaiveBayes\n"
   ]
  },
  {
   "cell_type": "code",
   "execution_count": null,
   "metadata": {},
   "outputs": [],
   "source": [
    "stages = []\n",
    "\n",
    "regexTok = RegexTokenizer(inputCol='reddit_title',outputCol = 'tokenized_titles',pattern = \"\\\\W\")\n",
    "stages+=[regexTok]\n",
    "\n",
    "remover = StopWordsRemover(inputCol = 'tokenized_titles',outputCol = 'tokremd_titles')\n",
    "stages +=[remover]\n",
    "\n",
    "cv = CountVectorizer(inputCol='tokremd_titles',outputCol = 'data_features')\n",
    "stages+=[cv]\n",
    "\n",
    "vecAssembler = VectorAssembler(inputCols=['data_features'],outputCol=\"features\")\n",
    "stages+=[vecAssembler]"
   ]
  },
  {
   "cell_type": "code",
   "execution_count": null,
   "metadata": {},
   "outputs": [],
   "source": [
    "from pyspark.ml import Pipeline\n",
    "pipeline = Pipeline(stages=stages)\n",
    "data = pipeline.fit(df).transform(df)"
   ]
  },
  {
   "cell_type": "code",
   "execution_count": null,
   "metadata": {},
   "outputs": [
    {
     "name": "stdout",
     "output_type": "stream",
     "text": [
      "+-----+--------------------+--------------------+--------------------+--------------------+--------------------+\n",
      "|label|        reddit_title|    tokenized_titles|      tokremd_titles|       data_features|            features|\n",
      "+-----+--------------------+--------------------+--------------------+--------------------+--------------------+\n",
      "|    1|Bitcoin to the mo...|[bitcoin, to, the...|[bitcoin, moon, l...|(6114,[0,12,18,25...|(6114,[0,12,18,25...|\n",
      "|    1|Happy Women's Day...|[happy, women, s,...|[happy, women, da...|(6114,[0,1,2,7,9,...|(6114,[0,1,2,7,9,...|\n",
      "+-----+--------------------+--------------------+--------------------+--------------------+--------------------+\n",
      "only showing top 2 rows\n",
      "\n"
     ]
    }
   ],
   "source": [
    "data.show(2)"
   ]
  },
  {
   "cell_type": "code",
   "execution_count": null,
   "metadata": {},
   "outputs": [
    {
     "data": {
      "text/html": [
       "<div>\n",
       "<style scoped>\n",
       "    .dataframe tbody tr th:only-of-type {\n",
       "        vertical-align: middle;\n",
       "    }\n",
       "\n",
       "    .dataframe tbody tr th {\n",
       "        vertical-align: top;\n",
       "    }\n",
       "\n",
       "    .dataframe thead th {\n",
       "        text-align: right;\n",
       "    }\n",
       "</style>\n",
       "<table border=\"1\" class=\"dataframe\">\n",
       "  <thead>\n",
       "    <tr style=\"text-align: right;\">\n",
       "      <th></th>\n",
       "      <th>label</th>\n",
       "      <th>features</th>\n",
       "    </tr>\n",
       "  </thead>\n",
       "  <tbody>\n",
       "    <tr>\n",
       "      <th>0</th>\n",
       "      <td>1</td>\n",
       "      <td>(7.0, 0.0, 0.0, 0.0, 0.0, 0.0, 0.0, 0.0, 0.0, ...</td>\n",
       "    </tr>\n",
       "    <tr>\n",
       "      <th>1</th>\n",
       "      <td>1</td>\n",
       "      <td>(8.0, 1.0, 1.0, 0.0, 0.0, 0.0, 0.0, 1.0, 0.0, ...</td>\n",
       "    </tr>\n",
       "    <tr>\n",
       "      <th>2</th>\n",
       "      <td>1</td>\n",
       "      <td>(10.0, 1.0, 0.0, 0.0, 0.0, 0.0, 0.0, 4.0, 0.0,...</td>\n",
       "    </tr>\n",
       "    <tr>\n",
       "      <th>3</th>\n",
       "      <td>1</td>\n",
       "      <td>(12.0, 0.0, 2.0, 1.0, 1.0, 0.0, 0.0, 1.0, 0.0,...</td>\n",
       "    </tr>\n",
       "    <tr>\n",
       "      <th>4</th>\n",
       "      <td>1</td>\n",
       "      <td>(6.0, 0.0, 2.0, 0.0, 0.0, 0.0, 0.0, 1.0, 0.0, ...</td>\n",
       "    </tr>\n",
       "    <tr>\n",
       "      <th>...</th>\n",
       "      <td>...</td>\n",
       "      <td>...</td>\n",
       "    </tr>\n",
       "    <tr>\n",
       "      <th>363</th>\n",
       "      <td>1</td>\n",
       "      <td>(9.0, 0.0, 0.0, 0.0, 0.0, 0.0, 0.0, 0.0, 1.0, ...</td>\n",
       "    </tr>\n",
       "    <tr>\n",
       "      <th>364</th>\n",
       "      <td>1</td>\n",
       "      <td>(9.0, 0.0, 0.0, 0.0, 2.0, 0.0, 0.0, 1.0, 0.0, ...</td>\n",
       "    </tr>\n",
       "    <tr>\n",
       "      <th>365</th>\n",
       "      <td>1</td>\n",
       "      <td>(7.0, 2.0, 1.0, 0.0, 1.0, 0.0, 0.0, 0.0, 1.0, ...</td>\n",
       "    </tr>\n",
       "    <tr>\n",
       "      <th>366</th>\n",
       "      <td>1</td>\n",
       "      <td>(9.0, 1.0, 0.0, 0.0, 0.0, 0.0, 0.0, 0.0, 0.0, ...</td>\n",
       "    </tr>\n",
       "    <tr>\n",
       "      <th>367</th>\n",
       "      <td>1</td>\n",
       "      <td>(12.0, 2.0, 0.0, 0.0, 0.0, 0.0, 2.0, 0.0, 0.0,...</td>\n",
       "    </tr>\n",
       "  </tbody>\n",
       "</table>\n",
       "<p>368 rows × 2 columns</p>\n",
       "</div>"
      ],
      "text/plain": [
       "     label                                           features\n",
       "0        1  (7.0, 0.0, 0.0, 0.0, 0.0, 0.0, 0.0, 0.0, 0.0, ...\n",
       "1        1  (8.0, 1.0, 1.0, 0.0, 0.0, 0.0, 0.0, 1.0, 0.0, ...\n",
       "2        1  (10.0, 1.0, 0.0, 0.0, 0.0, 0.0, 0.0, 4.0, 0.0,...\n",
       "3        1  (12.0, 0.0, 2.0, 1.0, 1.0, 0.0, 0.0, 1.0, 0.0,...\n",
       "4        1  (6.0, 0.0, 2.0, 0.0, 0.0, 0.0, 0.0, 1.0, 0.0, ...\n",
       "..     ...                                                ...\n",
       "363      1  (9.0, 0.0, 0.0, 0.0, 0.0, 0.0, 0.0, 0.0, 1.0, ...\n",
       "364      1  (9.0, 0.0, 0.0, 0.0, 2.0, 0.0, 0.0, 1.0, 0.0, ...\n",
       "365      1  (7.0, 2.0, 1.0, 0.0, 1.0, 0.0, 0.0, 0.0, 1.0, ...\n",
       "366      1  (9.0, 1.0, 0.0, 0.0, 0.0, 0.0, 0.0, 0.0, 0.0, ...\n",
       "367      1  (12.0, 2.0, 0.0, 0.0, 0.0, 0.0, 2.0, 0.0, 0.0,...\n",
       "\n",
       "[368 rows x 2 columns]"
      ]
     },
     "execution_count": 25,
     "metadata": {},
     "output_type": "execute_result"
    }
   ],
   "source": [
    "dfnew = data.toPandas()\n",
    "dfnew = dfnew[['label','features']]\n",
    "dfnew"
   ]
  },
  {
   "cell_type": "code",
   "execution_count": null,
   "metadata": {},
   "outputs": [],
   "source": [
    "X = dfnew[['features']]\n",
    "Y = dfnew['label']"
   ]
  },
  {
   "cell_type": "code",
   "execution_count": null,
   "metadata": {},
   "outputs": [],
   "source": [
    "#Split data into train and test\n",
    "x_train,x_test, y_train,y_test = train_test_split(X,Y,test_size = 0.20, random_state = 42)"
   ]
  },
  {
   "cell_type": "code",
   "execution_count": null,
   "metadata": {},
   "outputs": [],
   "source": [
    "## Posterior Probability\n",
    "### Going to need likelihood and prior probability\n",
    "\n",
    "#For prior probability\n",
    "def prior_probability(y_train, label):\n",
    "    #label refers to x and 0 values\n",
    "    m = y.shape[0]\n",
    "    s= np.sum(y_train == label)\n",
    "    return m/s\n",
    "\n",
    "def cond_probability(x_train,y_train, feature_col, feature_val, label):\n",
    "    \n",
    "    x_filtered = x_train[y_train == label]\n",
    "    num = np.sum(x_filtered[:,feature_col]==feature_val)\n",
    "    \n",
    "    denom = x_filtered.shape[0]\n",
    "    return float(num/denom)\n",
    "\n",
    "def predict(x_train,y_train,x_test):\n",
    "    classes = np.unique(y_train)\n",
    "    n_features = x_train.shape[1]\n",
    "    \n",
    "    posterior_prob = []\n",
    "    for label in classes:\n",
    "        likelihood = 1.0 #initialise a mf value\n",
    "        for fea in range(n_features):\n",
    "            #go through each feature column\n",
    "            cond = cond_probability(x_train,y_train,fea, x_test[fea],label)\n",
    "            likelihood = likelihood*cond\n",
    "            \n",
    "        prior = prior_probability(y_train,label) #find prior probabiity by calling the prior prob function\n",
    "        post = likelihood * prior\n",
    "        \n",
    "        posterior_prob.append(post)\n",
    "        \n",
    "        pred = np.argmax(posterior_prob)\n",
    "        \n",
    "        return pred\n",
    "    \n",
    "def accuracy(x_train,y_train,x_test,y_test):\n",
    "    pred = []\n",
    "    for i in range(x_test.shape[0]):\n",
    "        p = predict(x_train,y_train,x_test[i])\n",
    "        pred.append(p)\n",
    "    y_pred = np.array(pred)\n",
    "    acc= np.sum(y_pred==y_test)/y_test.shape[0] #Compare predicted value with value we alr know accurate prediction/actual\n",
    "    \n",
    "    return acc"
   ]
  },
  {
   "cell_type": "code",
   "execution_count": null,
   "metadata": {},
   "outputs": [
    {
     "ename": "KeyError",
     "evalue": "0",
     "output_type": "error",
     "traceback": [
      "\u001b[1;31m---------------------------------------------------------------------------\u001b[0m",
      "\u001b[1;31mKeyError\u001b[0m                                  Traceback (most recent call last)",
      "\u001b[1;32mC:\\ProgramData\\Anaconda3\\lib\\site-packages\\pandas\\core\\indexes\\base.py\u001b[0m in \u001b[0;36mget_loc\u001b[1;34m(self, key, method, tolerance)\u001b[0m\n\u001b[0;32m   3079\u001b[0m             \u001b[1;32mtry\u001b[0m\u001b[1;33m:\u001b[0m\u001b[1;33m\u001b[0m\u001b[1;33m\u001b[0m\u001b[0m\n\u001b[1;32m-> 3080\u001b[1;33m                 \u001b[1;32mreturn\u001b[0m \u001b[0mself\u001b[0m\u001b[1;33m.\u001b[0m\u001b[0m_engine\u001b[0m\u001b[1;33m.\u001b[0m\u001b[0mget_loc\u001b[0m\u001b[1;33m(\u001b[0m\u001b[0mcasted_key\u001b[0m\u001b[1;33m)\u001b[0m\u001b[1;33m\u001b[0m\u001b[1;33m\u001b[0m\u001b[0m\n\u001b[0m\u001b[0;32m   3081\u001b[0m             \u001b[1;32mexcept\u001b[0m \u001b[0mKeyError\u001b[0m \u001b[1;32mas\u001b[0m \u001b[0merr\u001b[0m\u001b[1;33m:\u001b[0m\u001b[1;33m\u001b[0m\u001b[1;33m\u001b[0m\u001b[0m\n",
      "\u001b[1;32mpandas\\_libs\\index.pyx\u001b[0m in \u001b[0;36mpandas._libs.index.IndexEngine.get_loc\u001b[1;34m()\u001b[0m\n",
      "\u001b[1;32mpandas\\_libs\\index.pyx\u001b[0m in \u001b[0;36mpandas._libs.index.IndexEngine.get_loc\u001b[1;34m()\u001b[0m\n",
      "\u001b[1;32mpandas\\_libs\\hashtable_class_helper.pxi\u001b[0m in \u001b[0;36mpandas._libs.hashtable.PyObjectHashTable.get_item\u001b[1;34m()\u001b[0m\n",
      "\u001b[1;32mpandas\\_libs\\hashtable_class_helper.pxi\u001b[0m in \u001b[0;36mpandas._libs.hashtable.PyObjectHashTable.get_item\u001b[1;34m()\u001b[0m\n",
      "\u001b[1;31mKeyError\u001b[0m: 0",
      "\nThe above exception was the direct cause of the following exception:\n",
      "\u001b[1;31mKeyError\u001b[0m                                  Traceback (most recent call last)",
      "\u001b[1;32m<ipython-input-31-2fae1887a741>\u001b[0m in \u001b[0;36m<module>\u001b[1;34m\u001b[0m\n\u001b[1;32m----> 1\u001b[1;33m \u001b[0macc\u001b[0m \u001b[1;33m=\u001b[0m \u001b[0maccuracy\u001b[0m\u001b[1;33m(\u001b[0m\u001b[0mx_train\u001b[0m\u001b[1;33m,\u001b[0m\u001b[0my_train\u001b[0m\u001b[1;33m,\u001b[0m\u001b[0mx_test\u001b[0m\u001b[1;33m,\u001b[0m\u001b[0my_test\u001b[0m\u001b[1;33m)\u001b[0m\u001b[1;33m\u001b[0m\u001b[1;33m\u001b[0m\u001b[0m\n\u001b[0m",
      "\u001b[1;32m<ipython-input-30-ee3487e110c2>\u001b[0m in \u001b[0;36maccuracy\u001b[1;34m(x_train, y_train, x_test, y_test)\u001b[0m\n\u001b[0;32m     41\u001b[0m     \u001b[0mpred\u001b[0m \u001b[1;33m=\u001b[0m \u001b[1;33m[\u001b[0m\u001b[1;33m]\u001b[0m\u001b[1;33m\u001b[0m\u001b[1;33m\u001b[0m\u001b[0m\n\u001b[0;32m     42\u001b[0m     \u001b[1;32mfor\u001b[0m \u001b[0mi\u001b[0m \u001b[1;32min\u001b[0m \u001b[0mrange\u001b[0m\u001b[1;33m(\u001b[0m\u001b[0mx_test\u001b[0m\u001b[1;33m.\u001b[0m\u001b[0mshape\u001b[0m\u001b[1;33m[\u001b[0m\u001b[1;36m0\u001b[0m\u001b[1;33m]\u001b[0m\u001b[1;33m)\u001b[0m\u001b[1;33m:\u001b[0m\u001b[1;33m\u001b[0m\u001b[1;33m\u001b[0m\u001b[0m\n\u001b[1;32m---> 43\u001b[1;33m         \u001b[0mp\u001b[0m \u001b[1;33m=\u001b[0m \u001b[0mpredict\u001b[0m\u001b[1;33m(\u001b[0m\u001b[0mx_train\u001b[0m\u001b[1;33m,\u001b[0m\u001b[0my_train\u001b[0m\u001b[1;33m,\u001b[0m\u001b[0mx_test\u001b[0m\u001b[1;33m[\u001b[0m\u001b[0mi\u001b[0m\u001b[1;33m]\u001b[0m\u001b[1;33m)\u001b[0m\u001b[1;33m\u001b[0m\u001b[1;33m\u001b[0m\u001b[0m\n\u001b[0m\u001b[0;32m     44\u001b[0m         \u001b[0mpred\u001b[0m\u001b[1;33m.\u001b[0m\u001b[0mappend\u001b[0m\u001b[1;33m(\u001b[0m\u001b[0mp\u001b[0m\u001b[1;33m)\u001b[0m\u001b[1;33m\u001b[0m\u001b[1;33m\u001b[0m\u001b[0m\n\u001b[0;32m     45\u001b[0m     \u001b[0my_pred\u001b[0m \u001b[1;33m=\u001b[0m \u001b[0mnp\u001b[0m\u001b[1;33m.\u001b[0m\u001b[0marray\u001b[0m\u001b[1;33m(\u001b[0m\u001b[0mpred\u001b[0m\u001b[1;33m)\u001b[0m\u001b[1;33m\u001b[0m\u001b[1;33m\u001b[0m\u001b[0m\n",
      "\u001b[1;32mC:\\ProgramData\\Anaconda3\\lib\\site-packages\\pandas\\core\\frame.py\u001b[0m in \u001b[0;36m__getitem__\u001b[1;34m(self, key)\u001b[0m\n\u001b[0;32m   3022\u001b[0m             \u001b[1;32mif\u001b[0m \u001b[0mself\u001b[0m\u001b[1;33m.\u001b[0m\u001b[0mcolumns\u001b[0m\u001b[1;33m.\u001b[0m\u001b[0mnlevels\u001b[0m \u001b[1;33m>\u001b[0m \u001b[1;36m1\u001b[0m\u001b[1;33m:\u001b[0m\u001b[1;33m\u001b[0m\u001b[1;33m\u001b[0m\u001b[0m\n\u001b[0;32m   3023\u001b[0m                 \u001b[1;32mreturn\u001b[0m \u001b[0mself\u001b[0m\u001b[1;33m.\u001b[0m\u001b[0m_getitem_multilevel\u001b[0m\u001b[1;33m(\u001b[0m\u001b[0mkey\u001b[0m\u001b[1;33m)\u001b[0m\u001b[1;33m\u001b[0m\u001b[1;33m\u001b[0m\u001b[0m\n\u001b[1;32m-> 3024\u001b[1;33m             \u001b[0mindexer\u001b[0m \u001b[1;33m=\u001b[0m \u001b[0mself\u001b[0m\u001b[1;33m.\u001b[0m\u001b[0mcolumns\u001b[0m\u001b[1;33m.\u001b[0m\u001b[0mget_loc\u001b[0m\u001b[1;33m(\u001b[0m\u001b[0mkey\u001b[0m\u001b[1;33m)\u001b[0m\u001b[1;33m\u001b[0m\u001b[1;33m\u001b[0m\u001b[0m\n\u001b[0m\u001b[0;32m   3025\u001b[0m             \u001b[1;32mif\u001b[0m \u001b[0mis_integer\u001b[0m\u001b[1;33m(\u001b[0m\u001b[0mindexer\u001b[0m\u001b[1;33m)\u001b[0m\u001b[1;33m:\u001b[0m\u001b[1;33m\u001b[0m\u001b[1;33m\u001b[0m\u001b[0m\n\u001b[0;32m   3026\u001b[0m                 \u001b[0mindexer\u001b[0m \u001b[1;33m=\u001b[0m \u001b[1;33m[\u001b[0m\u001b[0mindexer\u001b[0m\u001b[1;33m]\u001b[0m\u001b[1;33m\u001b[0m\u001b[1;33m\u001b[0m\u001b[0m\n",
      "\u001b[1;32mC:\\ProgramData\\Anaconda3\\lib\\site-packages\\pandas\\core\\indexes\\base.py\u001b[0m in \u001b[0;36mget_loc\u001b[1;34m(self, key, method, tolerance)\u001b[0m\n\u001b[0;32m   3080\u001b[0m                 \u001b[1;32mreturn\u001b[0m \u001b[0mself\u001b[0m\u001b[1;33m.\u001b[0m\u001b[0m_engine\u001b[0m\u001b[1;33m.\u001b[0m\u001b[0mget_loc\u001b[0m\u001b[1;33m(\u001b[0m\u001b[0mcasted_key\u001b[0m\u001b[1;33m)\u001b[0m\u001b[1;33m\u001b[0m\u001b[1;33m\u001b[0m\u001b[0m\n\u001b[0;32m   3081\u001b[0m             \u001b[1;32mexcept\u001b[0m \u001b[0mKeyError\u001b[0m \u001b[1;32mas\u001b[0m \u001b[0merr\u001b[0m\u001b[1;33m:\u001b[0m\u001b[1;33m\u001b[0m\u001b[1;33m\u001b[0m\u001b[0m\n\u001b[1;32m-> 3082\u001b[1;33m                 \u001b[1;32mraise\u001b[0m \u001b[0mKeyError\u001b[0m\u001b[1;33m(\u001b[0m\u001b[0mkey\u001b[0m\u001b[1;33m)\u001b[0m \u001b[1;32mfrom\u001b[0m \u001b[0merr\u001b[0m\u001b[1;33m\u001b[0m\u001b[1;33m\u001b[0m\u001b[0m\n\u001b[0m\u001b[0;32m   3083\u001b[0m \u001b[1;33m\u001b[0m\u001b[0m\n\u001b[0;32m   3084\u001b[0m         \u001b[1;32mif\u001b[0m \u001b[0mtolerance\u001b[0m \u001b[1;32mis\u001b[0m \u001b[1;32mnot\u001b[0m \u001b[1;32mNone\u001b[0m\u001b[1;33m:\u001b[0m\u001b[1;33m\u001b[0m\u001b[1;33m\u001b[0m\u001b[0m\n",
      "\u001b[1;31mKeyError\u001b[0m: 0"
     ]
    }
   ],
   "source": [
    "acc = accuracy(x_train,y_train,x_test,y_test)"
   ]
  },
  {
   "cell_type": "code",
   "execution_count": null,
   "metadata": {},
   "outputs": [],
   "source": []
  },
  {
   "cell_type": "code",
   "execution_count": null,
   "metadata": {},
   "outputs": [],
   "source": []
  },
  {
   "cell_type": "code",
   "execution_count": null,
   "metadata": {},
   "outputs": [],
   "source": []
  },
  {
   "cell_type": "code",
   "execution_count": null,
   "metadata": {},
   "outputs": [],
   "source": []
  },
  {
   "cell_type": "code",
   "execution_count": null,
   "metadata": {},
   "outputs": [],
   "source": []
  },
  {
   "cell_type": "code",
   "execution_count": null,
   "metadata": {},
   "outputs": [
    {
     "name": "stdout",
     "output_type": "stream",
     "text": [
      "+-----+----------+--------------------+\n",
      "|label|prediction|         probability|\n",
      "+-----+----------+--------------------+\n",
      "|    0|       1.0|[0.05284979934518...|\n",
      "|    0|       0.0|[0.92050844526483...|\n",
      "|    0|       1.0|[0.00195356909158...|\n",
      "|    1|       1.0|[0.02105633070022...|\n",
      "|    1|       1.0|[0.39960354989059...|\n",
      "|    1|       0.0|[0.99974417517645...|\n",
      "|    1|       0.0|[0.95143222605546...|\n",
      "|    1|       1.0|[0.04209346228278...|\n",
      "|    1|       0.0|[0.66674946084089...|\n",
      "|    1|       1.0|[1.65364046508820...|\n",
      "|    1|       0.0|[0.59930542439513...|\n",
      "|    1|       1.0|[0.45687719690929...|\n",
      "|    1|       1.0|[0.46675487186268...|\n",
      "|    0|       1.0|[0.03369314453907...|\n",
      "|    0|       0.0|[0.99969332327233...|\n",
      "|    0|       1.0|[0.32405154502906...|\n",
      "|    0|       0.0|[0.96418574325924...|\n",
      "|    0|       1.0|[0.00110827150997...|\n",
      "|    0|       1.0|[0.48200266705006...|\n",
      "|    0|       0.0|[0.50337907757583...|\n",
      "+-----+----------+--------------------+\n",
      "only showing top 20 rows\n",
      "\n"
     ]
    }
   ],
   "source": [
    "train, test = data.randomSplit([0.7, 0.3], seed = 2)\n",
    "from pyspark.ml.classification import NaiveBayes\n",
    "# Initialise the model\n",
    "nb = NaiveBayes(smoothing=1.0, modelType=\"multinomial\")\n",
    "# Fit the model\n",
    "model = nb.fit(train)\n",
    "# Make predictions on test data\n",
    "predictions = model.transform(test)\n",
    "predictions.select(\"label\", \"prediction\", \"probability\").show()"
   ]
  },
  {
   "cell_type": "code",
   "execution_count": null,
   "metadata": {},
   "outputs": [
    {
     "name": "stdout",
     "output_type": "stream",
     "text": [
      "+-----+----------+--------------------+\n",
      "|label|prediction|        reddit_title|\n",
      "+-----+----------+--------------------+\n",
      "|    0|       1.0|Bitcoin/Crypto Po...|\n",
      "|    0|       0.0|How it feels to H...|\n",
      "|    0|       1.0|Will a lot change...|\n",
      "|    1|       1.0|Apple is investin...|\n",
      "|    1|       1.0|Bitcoin to the mo...|\n",
      "|    1|       0.0|Is Bitcoin the on...|\n",
      "|    1|       0.0|Microsoft ION's D...|\n",
      "|    1|       1.0|New to Bitcoin --...|\n",
      "|    1|       0.0|Possible Unpopula...|\n",
      "|    1|       1.0|Seed Phrase?,You ...|\n",
      "|    1|       0.0|There wont be ano...|\n",
      "|    1|       1.0|Website that i ca...|\n",
      "|    1|       1.0|Why is the crypto...|\n",
      "|    0|       1.0|Bitcoin 1 million...|\n",
      "|    0|       0.0|Bitcoin BUY Signa...|\n",
      "|    0|       1.0|Bitcoin,Elon Musk...|\n",
      "|    0|       0.0|Do I have to pay ...|\n",
      "|    0|       1.0|EV start-up Fiske...|\n",
      "|    0|       1.0|How To Protect Yo...|\n",
      "|    0|       0.0|How can i access ...|\n",
      "+-----+----------+--------------------+\n",
      "only showing top 20 rows\n",
      "\n"
     ]
    }
   ],
   "source": [
    "predictions.select(\"label\",\"prediction\",\"reddit_title\").show(20)"
   ]
  },
  {
   "cell_type": "code",
   "execution_count": null,
   "metadata": {},
   "outputs": [
    {
     "name": "stdout",
     "output_type": "stream",
     "text": [
      "+-----+----------+--------------------+\n",
      "|label|prediction|        reddit_title|\n",
      "+-----+----------+--------------------+\n",
      "|    0|       1.0|Bitcoin/Crypto Po...|\n",
      "|    0|       0.0|How it feels to H...|\n",
      "|    0|       1.0|Will a lot change...|\n",
      "|    1|       1.0|Apple is investin...|\n",
      "|    1|       1.0|Bitcoin to the mo...|\n",
      "|    1|       0.0|Is Bitcoin the on...|\n",
      "|    1|       0.0|Microsoft ION's D...|\n",
      "|    1|       1.0|New to Bitcoin --...|\n",
      "|    1|       0.0|Possible Unpopula...|\n",
      "|    1|       1.0|Seed Phrase?,You ...|\n",
      "|    1|       0.0|There wont be ano...|\n",
      "|    1|       1.0|Website that i ca...|\n",
      "|    1|       1.0|Why is the crypto...|\n",
      "|    0|       1.0|Bitcoin 1 million...|\n",
      "|    0|       0.0|Bitcoin BUY Signa...|\n",
      "|    0|       1.0|Bitcoin,Elon Musk...|\n",
      "|    0|       0.0|Do I have to pay ...|\n",
      "|    0|       1.0|EV start-up Fiske...|\n",
      "|    0|       1.0|How To Protect Yo...|\n",
      "|    0|       0.0|How can i access ...|\n",
      "+-----+----------+--------------------+\n",
      "only showing top 20 rows\n",
      "\n",
      "None\n"
     ]
    }
   ],
   "source": [
    "print(predictions.select(\"label\",\"prediction\",\"reddit_title\").show(20))"
   ]
  },
  {
   "cell_type": "markdown",
   "metadata": {},
   "source": [
    "# Testing Model Accuracy"
   ]
  },
  {
   "cell_type": "code",
   "execution_count": null,
   "metadata": {},
   "outputs": [
    {
     "name": "stdout",
     "output_type": "stream",
     "text": [
      "Model Accuracy:  54.754901960784316 %\n"
     ]
    }
   ],
   "source": [
    "from pyspark.ml.evaluation import BinaryClassificationEvaluator\n",
    "evaluator = BinaryClassificationEvaluator(rawPredictionCol=\"prediction\")\n",
    "accuracy = evaluator.evaluate(predictions)\n",
    "print (\"Model Accuracy: \", accuracy*100,\"%\")"
   ]
  },
  {
   "cell_type": "code",
   "execution_count": null,
   "metadata": {},
   "outputs": [],
   "source": []
  },
  {
   "cell_type": "code",
   "execution_count": null,
   "metadata": {},
   "outputs": [],
   "source": []
  },
  {
   "cell_type": "code",
   "execution_count": null,
   "metadata": {},
   "outputs": [],
   "source": []
  },
  {
   "cell_type": "markdown",
   "metadata": {},
   "source": [
    "# Workings"
   ]
  },
  {
   "cell_type": "code",
   "execution_count": null,
   "metadata": {},
   "outputs": [
    {
     "ename": "NameError",
     "evalue": "name 'toked' is not defined",
     "output_type": "error",
     "traceback": [
      "\u001b[1;31m---------------------------------------------------------------------------\u001b[0m",
      "\u001b[1;31mNameError\u001b[0m                                 Traceback (most recent call last)",
      "\u001b[1;32m<ipython-input-22-a3dde5da1d3c>\u001b[0m in \u001b[0;36m<module>\u001b[1;34m\u001b[0m\n\u001b[1;32m----> 1\u001b[1;33m \u001b[0mtoked\u001b[0m\u001b[1;33m.\u001b[0m\u001b[0mshow\u001b[0m\u001b[1;33m(\u001b[0m\u001b[1;36m2\u001b[0m\u001b[1;33m)\u001b[0m\u001b[1;33m\u001b[0m\u001b[1;33m\u001b[0m\u001b[0m\n\u001b[0m",
      "\u001b[1;31mNameError\u001b[0m: name 'toked' is not defined"
     ]
    }
   ],
   "source": [
    "toked.show(2)"
   ]
  },
  {
   "cell_type": "markdown",
   "metadata": {},
   "source": [
    "# Remove stopwords\n"
   ]
  },
  {
   "cell_type": "code",
   "execution_count": null,
   "metadata": {},
   "outputs": [],
   "source": [
    "remover = StopWordsRemover(inputCol = 'tokenized_titles',outputCol = 'tokremd_titles')\n",
    "raw_words = remover.transform(toked)"
   ]
  },
  {
   "cell_type": "code",
   "execution_count": null,
   "metadata": {},
   "outputs": [
    {
     "name": "stdout",
     "output_type": "stream",
     "text": [
      "+----------+--------------------+-------------------+-----+--------------------+--------------------+\n",
      "|      date|        reddit_title|        pcnt_change|class|    tokenized_titles|      tokremd_titles|\n",
      "+----------+--------------------+-------------------+-----+--------------------+--------------------+\n",
      "|2021-03-07|Bought some bitco...|0.13128700703731044|    1|[bought, some, bi...|[bought, bitcoin....|\n",
      "|2021-03-08|Bitcoin to the mo...| 0.0973279798958635|    1|[bitcoin, to, the...|[bitcoin, moon,lo...|\n",
      "|2021-03-09|Happy Women's Day...|0.10063740510797503|    1|[happy, women's, ...|[happy, women's, ...|\n",
      "+----------+--------------------+-------------------+-----+--------------------+--------------------+\n",
      "only showing top 3 rows\n",
      "\n"
     ]
    }
   ],
   "source": [
    "raw_words.show(3)"
   ]
  },
  {
   "cell_type": "code",
   "execution_count": null,
   "metadata": {},
   "outputs": [],
   "source": [
    "cv= CountVectorizer(inputCol='tokremd_titles',outputCol = 'features')\n",
    "model = cv.fit(raw_words)\n",
    "countvectorizer_features = model.transform(raw_words)"
   ]
  },
  {
   "cell_type": "code",
   "execution_count": null,
   "metadata": {},
   "outputs": [
    {
     "name": "stdout",
     "output_type": "stream",
     "text": [
      "+----------+--------------------+-------------------+-----+--------------------+--------------------+--------------------+\n",
      "|      date|        reddit_title|        pcnt_change|class|    tokenized_titles|      tokremd_titles|            features|\n",
      "+----------+--------------------+-------------------+-----+--------------------+--------------------+--------------------+\n",
      "|2021-03-07|Bought some bitco...|0.13128700703731044|    1|[bought, some, bi...|[bought, bitcoin....|(10324,[16,26,61,...|\n",
      "|2021-03-08|Bitcoin to the mo...| 0.0973279798958635|    1|[bitcoin, to, the...|[bitcoin, moon,lo...|(10324,[0,1,15,30...|\n",
      "+----------+--------------------+-------------------+-----+--------------------+--------------------+--------------------+\n",
      "only showing top 2 rows\n",
      "\n"
     ]
    }
   ],
   "source": [
    "countvectorizer_features.show(2)"
   ]
  },
  {
   "cell_type": "code",
   "execution_count": null,
   "metadata": {},
   "outputs": [
    {
     "name": "stdout",
     "output_type": "stream",
     "text": [
      "+-----+\n",
      "|class|\n",
      "+-----+\n",
      "|    1|\n",
      "|    1|\n",
      "+-----+\n",
      "only showing top 2 rows\n",
      "\n"
     ]
    }
   ],
   "source": [
    "df.select(\"class\").show(2)"
   ]
  },
  {
   "cell_type": "markdown",
   "metadata": {},
   "source": [
    "# Workings 2"
   ]
  },
  {
   "cell_type": "code",
   "execution_count": null,
   "metadata": {},
   "outputs": [
    {
     "ename": "NameError",
     "evalue": "name 'json_response' is not defined",
     "output_type": "error",
     "traceback": [
      "\u001b[1;31m---------------------------------------------------------------------------\u001b[0m",
      "\u001b[1;31mNameError\u001b[0m                                 Traceback (most recent call last)",
      "\u001b[1;32m<ipython-input-17-5b5ae11f4325>\u001b[0m in \u001b[0;36m<module>\u001b[1;34m\u001b[0m\n\u001b[0;32m      1\u001b[0m \u001b[0mtitles\u001b[0m \u001b[1;33m=\u001b[0m \u001b[1;33m[\u001b[0m\u001b[1;33m]\u001b[0m\u001b[1;33m\u001b[0m\u001b[1;33m\u001b[0m\u001b[0m\n\u001b[0;32m      2\u001b[0m \u001b[0mdate\u001b[0m \u001b[1;33m=\u001b[0m \u001b[1;33m[\u001b[0m\u001b[1;33m]\u001b[0m\u001b[1;33m\u001b[0m\u001b[1;33m\u001b[0m\u001b[0m\n\u001b[1;32m----> 3\u001b[1;33m \u001b[1;32mfor\u001b[0m \u001b[0mdata\u001b[0m \u001b[1;32min\u001b[0m \u001b[0mjson_response\u001b[0m\u001b[1;33m[\u001b[0m\u001b[1;34m'data'\u001b[0m\u001b[1;33m]\u001b[0m\u001b[1;33m:\u001b[0m\u001b[1;33m\u001b[0m\u001b[1;33m\u001b[0m\u001b[0m\n\u001b[0m\u001b[0;32m      4\u001b[0m     \u001b[0mdate\u001b[0m\u001b[1;33m.\u001b[0m\u001b[0mappend\u001b[0m\u001b[1;33m(\u001b[0m\u001b[0mconvert_to_date\u001b[0m\u001b[1;33m(\u001b[0m\u001b[0mdata\u001b[0m\u001b[1;33m[\u001b[0m\u001b[1;34m'created_utc'\u001b[0m\u001b[1;33m]\u001b[0m\u001b[1;33m)\u001b[0m\u001b[1;33m)\u001b[0m\u001b[1;33m\u001b[0m\u001b[1;33m\u001b[0m\u001b[0m\n\u001b[0;32m      5\u001b[0m     \u001b[0mtitles\u001b[0m\u001b[1;33m.\u001b[0m\u001b[0mappend\u001b[0m\u001b[1;33m(\u001b[0m\u001b[0mdata\u001b[0m\u001b[1;33m[\u001b[0m\u001b[1;34m'title'\u001b[0m\u001b[1;33m]\u001b[0m\u001b[1;33m)\u001b[0m\u001b[1;33m\u001b[0m\u001b[1;33m\u001b[0m\u001b[0m\n",
      "\u001b[1;31mNameError\u001b[0m: name 'json_response' is not defined"
     ]
    }
   ],
   "source": [
    "titles = []\n",
    "date = []\n",
    "for data in json_response['data']:\n",
    "    date.append(convert_to_date(data['created_utc']))\n",
    "    titles.append(data['title'])\n",
    "df = pd.DataFrame(titles, index = date,columns = ['reddit_title'])\n",
    "df"
   ]
  },
  {
   "cell_type": "code",
   "execution_count": null,
   "metadata": {},
   "outputs": [
    {
     "data": {
      "text/plain": [
       "[2, 4, 6, 8]"
      ]
     },
     "execution_count": 218,
     "metadata": {},
     "output_type": "execute_result"
    }
   ],
   "source": [
    "list1 = [1,2,3,4]\n",
    "list2= map(lambda x:x*2,list1)\n",
    "list(list2)"
   ]
  },
  {
   "cell_type": "code",
   "execution_count": null,
   "metadata": {},
   "outputs": [
    {
     "data": {
      "text/plain": [
       "<AxesSubplot:title={'center':'BTCUSD'}, xlabel='Date'>"
      ]
     },
     "execution_count": 55,
     "metadata": {},
     "output_type": "execute_result"
    },
    {
     "data": {
      "image/png": "[encoded data removed]",
      "text/plain": [
       "<Figure size 864x576 with 1 Axes>"
      ]
     },
     "metadata": {
      "needs_background": "light"
     },
     "output_type": "display_data"
    }
   ],
   "source": [
    "df.plot(figsize = (12,8),title = 'BTCUSD')"
   ]
  },
  {
   "cell_type": "code",
   "execution_count": null,
   "metadata": {},
   "outputs": [
    {
     "name": "stdout",
     "output_type": "stream",
     "text": [
      "Row(id=4, text='spark i j k', probability=DenseVector([0.2661, 0.7339]), prediction=1.0)\n",
      "Row(id=5, text='l m n', probability=DenseVector([0.9209, 0.0791]), prediction=0.0)\n",
      "Row(id=6, text='mapreduce spark', probability=DenseVector([0.4429, 0.5571]), prediction=1.0)\n",
      "Row(id=7, text='apache hadoop', probability=DenseVector([0.8584, 0.1416]), prediction=0.0)\n"
     ]
    }
   ],
   "source": [
    "from pyspark.ml import Pipeline\n",
    "from pyspark.ml.classification import LogisticRegression\n",
    "from pyspark.ml.evaluation import BinaryClassificationEvaluator\n",
    "from pyspark.ml.feature import HashingTF, Tokenizer\n",
    "from pyspark.ml.tuning import CrossValidator, ParamGridBuilder\n",
    "\n",
    "# Prepare training documents, which are labeled.\n",
    "training = spark.createDataFrame([\n",
    "    (0, \"a b c d e spark\", 1.0),\n",
    "    (1, \"b d\", 0.0),\n",
    "    (2, \"spark f g h\", 1.0),\n",
    "    (3, \"hadoop mapreduce\", 0.0),\n",
    "    (4, \"b spark who\", 1.0),\n",
    "    (5, \"g d a y\", 0.0),\n",
    "    (6, \"spark fly\", 1.0),\n",
    "    (7, \"was mapreduce\", 0.0),\n",
    "    (8, \"e spark program\", 1.0),\n",
    "    (9, \"a e c l\", 0.0),\n",
    "    (10, \"spark compile\", 1.0),\n",
    "    (11, \"hadoop software\", 0.0)\n",
    "], [\"id\", \"text\", \"label\"])\n",
    "\n",
    "# Configure an ML pipeline, which consists of tree stages: tokenizer, hashingTF, and lr.\n",
    "tokenizer = Tokenizer(inputCol=\"text\", outputCol=\"words\")\n",
    "hashingTF = HashingTF(inputCol=tokenizer.getOutputCol(), outputCol=\"features\")\n",
    "lr = LogisticRegression(maxIter=10)\n",
    "pipeline = Pipeline(stages=[tokenizer, hashingTF, lr])\n",
    "\n",
    "# We now treat the Pipeline as an Estimator, wrapping it in a CrossValidator instance.\n",
    "# This will allow us to jointly choose parameters for all Pipeline stages.\n",
    "# A CrossValidator requires an Estimator, a set of Estimator ParamMaps, and an Evaluator.\n",
    "# We use a ParamGridBuilder to construct a grid of parameters to search over.\n",
    "# With 3 values for hashingTF.numFeatures and 2 values for lr.regParam,\n",
    "# this grid will have 3 x 2 = 6 parameter settings for CrossValidator to choose from.\n",
    "paramGrid = ParamGridBuilder() \\\n",
    "    .addGrid(hashingTF.numFeatures, [10, 100, 1000]) \\\n",
    "    .addGrid(lr.regParam, [0.1, 0.01]) \\\n",
    "    .build()\n",
    "\n",
    "crossval = CrossValidator(estimator=pipeline,\n",
    "                          estimatorParamMaps=paramGrid,\n",
    "                          evaluator=BinaryClassificationEvaluator(),\n",
    "                          numFolds=2)  # use 3+ folds in practice\n",
    "\n",
    "# Run cross-validation, and choose the best set of parameters.\n",
    "cvModel = crossval.fit(training)\n",
    "\n",
    "# Prepare test documents, which are unlabeled.\n",
    "test = spark.createDataFrame([\n",
    "    (4, \"spark i j k\"),\n",
    "    (5, \"l m n\"),\n",
    "    (6, \"mapreduce spark\"),\n",
    "    (7, \"apache hadoop\")\n",
    "], [\"id\", \"text\"])\n",
    "\n",
    "# Make predictions on test documents. cvModel uses the best model found (lrModel).\n",
    "prediction = cvModel.transform(test)\n",
    "selected = prediction.select(\"id\", \"text\", \"probability\", \"prediction\")\n",
    "for row in selected.collect():\n",
    "    print(row)"
   ]
  },
  {
   "cell_type": "code",
   "execution_count": null,
   "metadata": {},
   "outputs": [],
   "source": []
  }
 ],
 "metadata": {
  "interpreter": {
   "hash": "b3ba2566441a7c06988d0923437866b63cedc61552a5af99d1f4fb67d367b25f"
  },
  "kernelspec": {
   "display_name": "Python 3.8.8 ('base')",
   "language": "python",
   "name": "python3"
  },
  "language_info": {
   "codemirror_mode": {
    "name": "ipython",
    "version": 3
   },
   "file_extension": ".py",
   "mimetype": "text/x-python",
   "name": "python",
   "nbconvert_exporter": "python",
   "pygments_lexer": "ipython3",
   "version": "3.8.8"
  },
  "orig_nbformat": 4
 },
 "nbformat": 4,
 "nbformat_minor": 2
}
