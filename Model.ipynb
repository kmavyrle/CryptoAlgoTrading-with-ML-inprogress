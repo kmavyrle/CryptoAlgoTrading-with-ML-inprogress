{
 "cells": [
  {
   "cell_type": "code",
   "execution_count": 1,
   "metadata": {},
   "outputs": [],
   "source": [
    "import os\n",
    "import pandas as pd\n",
    "import matplotlib.pyplot as plt\n",
    "import praw\n",
    "import datetime as dt\n",
    "import requests\n",
    "import numpy as np\n",
    "import pytz\n",
    "import time\n",
    "import yfinance as yf\n",
    "\n",
    "\n"
   ]
  },
  {
   "cell_type": "markdown",
   "metadata": {},
   "source": [
    "# Convert from date to unix and unix to date"
   ]
  },
  {
   "cell_type": "code",
   "execution_count": 2,
   "metadata": {},
   "outputs": [],
   "source": [
    "def convert_to_unix(date):\n",
    "  unixd = dt.datetime.strptime(date,\"%Y-%m-%d\")\n",
    "  return time.mktime(unixd.timetuple())\n",
    "\n",
    "  \n",
    "def convert_to_date(timestamp):\n",
    "  return str(dt.datetime.fromtimestamp(int(timestamp)).date())"
   ]
  },
  {
   "cell_type": "code",
   "execution_count": 3,
   "metadata": {},
   "outputs": [
    {
     "name": "stdout",
     "output_type": "stream",
     "text": [
      "1582128000.0\n"
     ]
    }
   ],
   "source": [
    "print(convert_to_unix('2020-02-20'))"
   ]
  },
  {
   "cell_type": "markdown",
   "metadata": {},
   "source": [
    "# Use pushshift api to retrieve reddit data"
   ]
  },
  {
   "cell_type": "code",
   "execution_count": 4,
   "metadata": {},
   "outputs": [],
   "source": [
    "query = \"bitcoin\"\n",
    "subreddit=\"bitcoin\" #Define Your subreddit\n",
    "after=\"2d\"\n",
    "before = \"1d\"\n",
    "fields = \"title,created_utc\"\n",
    "sort_type = \"created_utc\" #score, num_comments, default=created_utc\n",
    "def get_data(query,\n",
    "            subreddit,\n",
    "            before,\n",
    "            after,\n",
    "            fields,\n",
    "            size,\n",
    "            sort_type):\n",
    "    url = f\"https://api.pushshift.io/reddit/search/submission/?q={query}&before={before}&after={after}&subreddit={subreddit}&fields={fields}&size={size}&sort_type={sort_type}\"\n",
    "    request = requests.get(url)\n",
    "    json_response = request.json()\n",
    "    return json_response['data']\n",
    "\n",
    "def multiple_data_call(lookback_period:int,\n",
    "                **kwargs):\n",
    "        df = pd.DataFrame(columns = ['date','reddit_title'])\n",
    "        for i in range(1,lookback_period+1):\n",
    "                try:\n",
    "                        after = str(i+1)+'d'\n",
    "                        before = str(i)+'d'\n",
    "                        response=get_data(query,subreddit,before,after,fields,size,sort_type)\n",
    "                        titles = []\n",
    "                        date = []         \n",
    "                        for line in response:\n",
    "                                date.append(convert_to_date(line['created_utc']))\n",
    "                                titles.append(line['title'])\n",
    "                        temp = pd.DataFrame(np.column_stack([date,titles]),columns = ['date','reddit_title'])\n",
    "                        df = pd.concat([df,temp])\n",
    "                except:\n",
    "                        print(f\"Error encountered for {convert_to_date(line['created_utc'])}\")\n",
    "                        continue\n",
    "        df.index = list(range(len(df)))\n",
    "        return df\n",
    "                \n"
   ]
  },
  {
   "cell_type": "code",
   "execution_count": 5,
   "metadata": {},
   "outputs": [
    {
     "name": "stdout",
     "output_type": "stream",
     "text": [
      "[*********************100%***********************]  1 of 1 completed\n",
      "BTCUSD price\n"
     ]
    },
    {
     "data": {
      "image/png": "[encoded data removed]",
      "text/plain": [
       "<Figure size 864x432 with 1 Axes>"
      ]
     },
     "metadata": {
      "needs_background": "light"
     },
     "output_type": "display_data"
    }
   ],
   "source": [
    "tickerlist = ['BTC-USD']\n",
    "df = yf.download(tickerlist, period = '1d', start = '2007-01-01',end = pd.Timestamp.today())\n",
    "columns = df.columns\n",
    "df = df.iloc[:,2]['2007':]\n",
    "df.plot(figsize = (12,6),title = 'BTCUSD')\n",
    "print('BTCUSD price')"
   ]
  },
  {
   "cell_type": "markdown",
   "metadata": {},
   "source": [
    "# Calculate rolling 7-day return "
   ]
  },
  {
   "cell_type": "code",
   "execution_count": 6,
   "metadata": {},
   "outputs": [
    {
     "data": {
      "text/html": [
       "<div>\n",
       "<style scoped>\n",
       "    .dataframe tbody tr th:only-of-type {\n",
       "        vertical-align: middle;\n",
       "    }\n",
       "\n",
       "    .dataframe tbody tr th {\n",
       "        vertical-align: top;\n",
       "    }\n",
       "\n",
       "    .dataframe thead th {\n",
       "        text-align: right;\n",
       "    }\n",
       "</style>\n",
       "<table border=\"1\" class=\"dataframe\">\n",
       "  <thead>\n",
       "    <tr style=\"text-align: right;\">\n",
       "      <th></th>\n",
       "      <th>pcnt_change</th>\n",
       "      <th>date</th>\n",
       "    </tr>\n",
       "    <tr>\n",
       "      <th>index</th>\n",
       "      <th></th>\n",
       "      <th></th>\n",
       "    </tr>\n",
       "  </thead>\n",
       "  <tbody>\n",
       "    <tr>\n",
       "      <th>0</th>\n",
       "      <td>-0.069161</td>\n",
       "      <td>2014-09-17</td>\n",
       "    </tr>\n",
       "    <tr>\n",
       "      <th>1</th>\n",
       "      <td>-0.069161</td>\n",
       "      <td>2014-09-18</td>\n",
       "    </tr>\n",
       "    <tr>\n",
       "      <th>2</th>\n",
       "      <td>-0.069161</td>\n",
       "      <td>2014-09-19</td>\n",
       "    </tr>\n",
       "    <tr>\n",
       "      <th>3</th>\n",
       "      <td>-0.069161</td>\n",
       "      <td>2014-09-20</td>\n",
       "    </tr>\n",
       "    <tr>\n",
       "      <th>4</th>\n",
       "      <td>-0.069161</td>\n",
       "      <td>2014-09-21</td>\n",
       "    </tr>\n",
       "    <tr>\n",
       "      <th>...</th>\n",
       "      <td>...</td>\n",
       "      <td>...</td>\n",
       "    </tr>\n",
       "    <tr>\n",
       "      <th>2740</th>\n",
       "      <td>0.072993</td>\n",
       "      <td>2022-03-19</td>\n",
       "    </tr>\n",
       "    <tr>\n",
       "      <th>2741</th>\n",
       "      <td>0.086848</td>\n",
       "      <td>2022-03-20</td>\n",
       "    </tr>\n",
       "    <tr>\n",
       "      <th>2742</th>\n",
       "      <td>0.079279</td>\n",
       "      <td>2022-03-21</td>\n",
       "    </tr>\n",
       "    <tr>\n",
       "      <th>2743</th>\n",
       "      <td>0.068861</td>\n",
       "      <td>2022-03-22</td>\n",
       "    </tr>\n",
       "    <tr>\n",
       "      <th>2744</th>\n",
       "      <td>0.073820</td>\n",
       "      <td>2022-03-23</td>\n",
       "    </tr>\n",
       "  </tbody>\n",
       "</table>\n",
       "<p>2745 rows × 2 columns</p>\n",
       "</div>"
      ],
      "text/plain": [
       "       pcnt_change        date\n",
       "index                         \n",
       "0        -0.069161  2014-09-17\n",
       "1        -0.069161  2014-09-18\n",
       "2        -0.069161  2014-09-19\n",
       "3        -0.069161  2014-09-20\n",
       "4        -0.069161  2014-09-21\n",
       "...            ...         ...\n",
       "2740      0.072993  2022-03-19\n",
       "2741      0.086848  2022-03-20\n",
       "2742      0.079279  2022-03-21\n",
       "2743      0.068861  2022-03-22\n",
       "2744      0.073820  2022-03-23\n",
       "\n",
       "[2745 rows x 2 columns]"
      ]
     },
     "execution_count": 6,
     "metadata": {},
     "output_type": "execute_result"
    }
   ],
   "source": [
    "pct_change = pd.DataFrame(df.pct_change(periods = 7).fillna(method = 'bfill'))\n",
    "pct_change.columns = ['pcnt_change']\n",
    "pct_change['date'] = pct_change.index.astype(str)\n",
    "pct_change['index'] = range(len(pct_change))\n",
    "pct_change.set_index('index',drop = True,inplace = True)\n",
    "pct_change"
   ]
  },
  {
   "cell_type": "code",
   "execution_count": 69,
   "metadata": {},
   "outputs": [
    {
     "name": "stdout",
     "output_type": "stream",
     "text": [
      "Error encountered for 2022-01-02\n"
     ]
    },
    {
     "data": {
      "text/html": [
       "<div>\n",
       "<style scoped>\n",
       "    .dataframe tbody tr th:only-of-type {\n",
       "        vertical-align: middle;\n",
       "    }\n",
       "\n",
       "    .dataframe tbody tr th {\n",
       "        vertical-align: top;\n",
       "    }\n",
       "\n",
       "    .dataframe thead th {\n",
       "        text-align: right;\n",
       "    }\n",
       "</style>\n",
       "<table border=\"1\" class=\"dataframe\">\n",
       "  <thead>\n",
       "    <tr style=\"text-align: right;\">\n",
       "      <th></th>\n",
       "      <th>date</th>\n",
       "      <th>reddit_title</th>\n",
       "    </tr>\n",
       "  </thead>\n",
       "  <tbody>\n",
       "    <tr>\n",
       "      <th>0</th>\n",
       "      <td>2022-03-22</td>\n",
       "      <td>I have found a new and easy way to make some b...</td>\n",
       "    </tr>\n",
       "    <tr>\n",
       "      <th>1</th>\n",
       "      <td>2022-03-22</td>\n",
       "      <td>DOGECOIN IS BETTER THAN BITCOIN BITCOIN BAD AN...</td>\n",
       "    </tr>\n",
       "    <tr>\n",
       "      <th>2</th>\n",
       "      <td>2022-03-22</td>\n",
       "      <td>Whenever you swap some fiat for bitcoin</td>\n",
       "    </tr>\n",
       "    <tr>\n",
       "      <th>3</th>\n",
       "      <td>2022-03-22</td>\n",
       "      <td>US SEC proposes companies disclose range of cl...</td>\n",
       "    </tr>\n",
       "    <tr>\n",
       "      <th>4</th>\n",
       "      <td>2022-03-22</td>\n",
       "      <td>UFC Fighter Matheus Nicolau Becomes the First-...</td>\n",
       "    </tr>\n",
       "    <tr>\n",
       "      <th>...</th>\n",
       "      <td>...</td>\n",
       "      <td>...</td>\n",
       "    </tr>\n",
       "    <tr>\n",
       "      <th>3665</th>\n",
       "      <td>2021-03-08</td>\n",
       "      <td>Bitcoin has a Xinjiang problem</td>\n",
       "    </tr>\n",
       "    <tr>\n",
       "      <th>3666</th>\n",
       "      <td>2021-03-08</td>\n",
       "      <td>With hindsight my happiest day in Bitcoin was ...</td>\n",
       "    </tr>\n",
       "    <tr>\n",
       "      <th>3667</th>\n",
       "      <td>2021-03-08</td>\n",
       "      <td>Who is paying people to mine? (Where does the ...</td>\n",
       "    </tr>\n",
       "    <tr>\n",
       "      <th>3668</th>\n",
       "      <td>2021-03-08</td>\n",
       "      <td>Norwegian Multinational Aker ASA to Invest in ...</td>\n",
       "    </tr>\n",
       "    <tr>\n",
       "      <th>3669</th>\n",
       "      <td>2021-03-08</td>\n",
       "      <td>Selling Bitcoin and taxes (USA)</td>\n",
       "    </tr>\n",
       "  </tbody>\n",
       "</table>\n",
       "<p>3670 rows × 2 columns</p>\n",
       "</div>"
      ],
      "text/plain": [
       "            date                                       reddit_title\n",
       "0     2022-03-22  I have found a new and easy way to make some b...\n",
       "1     2022-03-22  DOGECOIN IS BETTER THAN BITCOIN BITCOIN BAD AN...\n",
       "2     2022-03-22            Whenever you swap some fiat for bitcoin\n",
       "3     2022-03-22  US SEC proposes companies disclose range of cl...\n",
       "4     2022-03-22  UFC Fighter Matheus Nicolau Becomes the First-...\n",
       "...          ...                                                ...\n",
       "3665  2021-03-08                     Bitcoin has a Xinjiang problem\n",
       "3666  2021-03-08  With hindsight my happiest day in Bitcoin was ...\n",
       "3667  2021-03-08  Who is paying people to mine? (Where does the ...\n",
       "3668  2021-03-08  Norwegian Multinational Aker ASA to Invest in ...\n",
       "3669  2021-03-08                    Selling Bitcoin and taxes (USA)\n",
       "\n",
       "[3670 rows x 2 columns]"
      ]
     },
     "execution_count": 69,
     "metadata": {},
     "output_type": "execute_result"
    }
   ],
   "source": [
    "query = \"bitcoin\"\n",
    "subreddit=\"bitcoin\" #Define Your Query\n",
    "fields = \"title,created_utc\"\n",
    "size = 10\n",
    "sort_type = \"score\" #score, num_comments, default=created_utc\n",
    "data = multiple_data_call(lookback_period=380,\n",
    "            query = query,\n",
    "            subreddit=subreddit,\n",
    "            fields=fields,\n",
    "            sort_type=sort_type)\n",
    "data"
   ]
  },
  {
   "cell_type": "code",
   "execution_count": 108,
   "metadata": {},
   "outputs": [],
   "source": [
    "cleanedata1 = pd.DataFrame(data.groupby(['date'])['reddit_title'].apply(lambda x:','.join(x)))\n"
   ]
  },
  {
   "cell_type": "code",
   "execution_count": 137,
   "metadata": {},
   "outputs": [],
   "source": [
    "merged_data = cleanedata1.merge(pct_change, on='date',how = 'left')\n",
    "merged_data['class'] = [0 if x<0 else 1 for x in merged_data.pcnt_change]\n",
    "merged_data.to_csv('dataset_merged.csv')"
   ]
  },
  {
   "cell_type": "code",
   "execution_count": 138,
   "metadata": {},
   "outputs": [
    {
     "data": {
      "text/html": [
       "<div>\n",
       "<style scoped>\n",
       "    .dataframe tbody tr th:only-of-type {\n",
       "        vertical-align: middle;\n",
       "    }\n",
       "\n",
       "    .dataframe tbody tr th {\n",
       "        vertical-align: top;\n",
       "    }\n",
       "\n",
       "    .dataframe thead th {\n",
       "        text-align: right;\n",
       "    }\n",
       "</style>\n",
       "<table border=\"1\" class=\"dataframe\">\n",
       "  <thead>\n",
       "    <tr style=\"text-align: right;\">\n",
       "      <th></th>\n",
       "      <th>date</th>\n",
       "      <th>reddit_title</th>\n",
       "      <th>pcnt_change</th>\n",
       "      <th>class</th>\n",
       "    </tr>\n",
       "  </thead>\n",
       "  <tbody>\n",
       "    <tr>\n",
       "      <th>0</th>\n",
       "      <td>2021-03-08</td>\n",
       "      <td>looing to spend a lot of money in bit coin (1m...</td>\n",
       "      <td>0.097328</td>\n",
       "      <td>1</td>\n",
       "    </tr>\n",
       "    <tr>\n",
       "      <th>1</th>\n",
       "      <td>2021-03-09</td>\n",
       "      <td>Happy Women's Day to all the ladies who hodl b...</td>\n",
       "      <td>0.100637</td>\n",
       "      <td>1</td>\n",
       "    </tr>\n",
       "    <tr>\n",
       "      <th>2</th>\n",
       "      <td>2021-03-10</td>\n",
       "      <td>The Case for $70k Bitcoin by April,Loans that ...</td>\n",
       "      <td>0.103918</td>\n",
       "      <td>1</td>\n",
       "    </tr>\n",
       "    <tr>\n",
       "      <th>3</th>\n",
       "      <td>2021-03-11</td>\n",
       "      <td>When crash?,Price could drop to 40K before it ...</td>\n",
       "      <td>0.143267</td>\n",
       "      <td>1</td>\n",
       "    </tr>\n",
       "    <tr>\n",
       "      <th>4</th>\n",
       "      <td>2021-03-12</td>\n",
       "      <td>Are you demoralized for having less than 0.01 ...</td>\n",
       "      <td>0.189808</td>\n",
       "      <td>1</td>\n",
       "    </tr>\n",
       "    <tr>\n",
       "      <th>...</th>\n",
       "      <td>...</td>\n",
       "      <td>...</td>\n",
       "      <td>...</td>\n",
       "      <td>...</td>\n",
       "    </tr>\n",
       "    <tr>\n",
       "      <th>362</th>\n",
       "      <td>2022-03-18</td>\n",
       "      <td>You already missed the bus with bitcoin, don’t...</td>\n",
       "      <td>0.050980</td>\n",
       "      <td>1</td>\n",
       "    </tr>\n",
       "    <tr>\n",
       "      <th>363</th>\n",
       "      <td>2022-03-19</td>\n",
       "      <td>More Than $500,000 In Bitcoin Stolen From A Co...</td>\n",
       "      <td>0.072993</td>\n",
       "      <td>1</td>\n",
       "    </tr>\n",
       "    <tr>\n",
       "      <th>364</th>\n",
       "      <td>2022-03-20</td>\n",
       "      <td>La guerra es el óptimo examen de Bitcoin/crypt...</td>\n",
       "      <td>0.086848</td>\n",
       "      <td>1</td>\n",
       "    </tr>\n",
       "    <tr>\n",
       "      <th>365</th>\n",
       "      <td>2022-03-21</td>\n",
       "      <td>Bitcoin to 10 million dollars,Bitcoin and cryp...</td>\n",
       "      <td>0.079279</td>\n",
       "      <td>1</td>\n",
       "    </tr>\n",
       "    <tr>\n",
       "      <th>366</th>\n",
       "      <td>2022-03-22</td>\n",
       "      <td>I have found a new and easy way to make some b...</td>\n",
       "      <td>0.068861</td>\n",
       "      <td>1</td>\n",
       "    </tr>\n",
       "  </tbody>\n",
       "</table>\n",
       "<p>367 rows × 4 columns</p>\n",
       "</div>"
      ],
      "text/plain": [
       "           date                                       reddit_title  \\\n",
       "0    2021-03-08  looing to spend a lot of money in bit coin (1m...   \n",
       "1    2021-03-09  Happy Women's Day to all the ladies who hodl b...   \n",
       "2    2021-03-10  The Case for $70k Bitcoin by April,Loans that ...   \n",
       "3    2021-03-11  When crash?,Price could drop to 40K before it ...   \n",
       "4    2021-03-12  Are you demoralized for having less than 0.01 ...   \n",
       "..          ...                                                ...   \n",
       "362  2022-03-18  You already missed the bus with bitcoin, don’t...   \n",
       "363  2022-03-19  More Than $500,000 In Bitcoin Stolen From A Co...   \n",
       "364  2022-03-20  La guerra es el óptimo examen de Bitcoin/crypt...   \n",
       "365  2022-03-21  Bitcoin to 10 million dollars,Bitcoin and cryp...   \n",
       "366  2022-03-22  I have found a new and easy way to make some b...   \n",
       "\n",
       "     pcnt_change  class  \n",
       "0       0.097328      1  \n",
       "1       0.100637      1  \n",
       "2       0.103918      1  \n",
       "3       0.143267      1  \n",
       "4       0.189808      1  \n",
       "..           ...    ...  \n",
       "362     0.050980      1  \n",
       "363     0.072993      1  \n",
       "364     0.086848      1  \n",
       "365     0.079279      1  \n",
       "366     0.068861      1  \n",
       "\n",
       "[367 rows x 4 columns]"
      ]
     },
     "execution_count": 138,
     "metadata": {},
     "output_type": "execute_result"
    }
   ],
   "source": [
    "merged_data"
   ]
  },
  {
   "cell_type": "markdown",
   "metadata": {},
   "source": [
    "# Natural Language Processing with NLTK"
   ]
  },
  {
   "cell_type": "code",
   "execution_count": 139,
   "metadata": {},
   "outputs": [],
   "source": [
    "import pandas as pd\n",
    "import numpy as np\n",
    "from sklearn.preprocessing import LabelEncoder #Convert text into numerical form\n",
    "from sklearn.model_selection import train_test_split\n",
    "from sklearn.feature_extraction.text import CountVectorizer"
   ]
  },
  {
   "cell_type": "code",
   "execution_count": 140,
   "metadata": {},
   "outputs": [],
   "source": [
    "#Convert to lower case\n",
    "merged_data['reddit_title'] = merged_data['reddit_title'].str.strip().str.lower()\n"
   ]
  },
  {
   "cell_type": "code",
   "execution_count": 141,
   "metadata": {},
   "outputs": [
    {
     "name": "stderr",
     "output_type": "stream",
     "text": [
      "[nltk_data] Downloading package punkt to C:\\Users\\Kwan Yui\n",
      "[nltk_data]     Yang\\AppData\\Roaming\\nltk_data...\n",
      "[nltk_data]   Package punkt is already up-to-date!\n"
     ]
    },
    {
     "data": {
      "text/html": [
       "<div>\n",
       "<style scoped>\n",
       "    .dataframe tbody tr th:only-of-type {\n",
       "        vertical-align: middle;\n",
       "    }\n",
       "\n",
       "    .dataframe tbody tr th {\n",
       "        vertical-align: top;\n",
       "    }\n",
       "\n",
       "    .dataframe thead th {\n",
       "        text-align: right;\n",
       "    }\n",
       "</style>\n",
       "<table border=\"1\" class=\"dataframe\">\n",
       "  <thead>\n",
       "    <tr style=\"text-align: right;\">\n",
       "      <th></th>\n",
       "      <th>date</th>\n",
       "      <th>reddit_title</th>\n",
       "      <th>pcnt_change</th>\n",
       "      <th>class</th>\n",
       "    </tr>\n",
       "  </thead>\n",
       "  <tbody>\n",
       "    <tr>\n",
       "      <th>0</th>\n",
       "      <td>2021-03-08</td>\n",
       "      <td>[looing, to, spend, a, lot, of, money, in, bit...</td>\n",
       "      <td>0.097328</td>\n",
       "      <td>1</td>\n",
       "    </tr>\n",
       "    <tr>\n",
       "      <th>1</th>\n",
       "      <td>2021-03-09</td>\n",
       "      <td>[happy, women, 's, day, to, all, the, ladies, ...</td>\n",
       "      <td>0.100637</td>\n",
       "      <td>1</td>\n",
       "    </tr>\n",
       "    <tr>\n",
       "      <th>2</th>\n",
       "      <td>2021-03-10</td>\n",
       "      <td>[the, case, for, $, 70k, bitcoin, by, april, ,...</td>\n",
       "      <td>0.103918</td>\n",
       "      <td>1</td>\n",
       "    </tr>\n",
       "    <tr>\n",
       "      <th>3</th>\n",
       "      <td>2021-03-11</td>\n",
       "      <td>[when, crash, ?, ,, price, could, drop, to, 40...</td>\n",
       "      <td>0.143267</td>\n",
       "      <td>1</td>\n",
       "    </tr>\n",
       "    <tr>\n",
       "      <th>4</th>\n",
       "      <td>2021-03-12</td>\n",
       "      <td>[are, you, demoralized, for, having, less, tha...</td>\n",
       "      <td>0.189808</td>\n",
       "      <td>1</td>\n",
       "    </tr>\n",
       "    <tr>\n",
       "      <th>...</th>\n",
       "      <td>...</td>\n",
       "      <td>...</td>\n",
       "      <td>...</td>\n",
       "      <td>...</td>\n",
       "    </tr>\n",
       "    <tr>\n",
       "      <th>362</th>\n",
       "      <td>2022-03-18</td>\n",
       "      <td>[you, already, missed, the, bus, with, bitcoin...</td>\n",
       "      <td>0.050980</td>\n",
       "      <td>1</td>\n",
       "    </tr>\n",
       "    <tr>\n",
       "      <th>363</th>\n",
       "      <td>2022-03-19</td>\n",
       "      <td>[more, than, $, 500,000, in, bitcoin, stolen, ...</td>\n",
       "      <td>0.072993</td>\n",
       "      <td>1</td>\n",
       "    </tr>\n",
       "    <tr>\n",
       "      <th>364</th>\n",
       "      <td>2022-03-20</td>\n",
       "      <td>[la, guerra, es, el, óptimo, examen, de, bitco...</td>\n",
       "      <td>0.086848</td>\n",
       "      <td>1</td>\n",
       "    </tr>\n",
       "    <tr>\n",
       "      <th>365</th>\n",
       "      <td>2022-03-21</td>\n",
       "      <td>[bitcoin, to, 10, million, dollars, ,, bitcoin...</td>\n",
       "      <td>0.079279</td>\n",
       "      <td>1</td>\n",
       "    </tr>\n",
       "    <tr>\n",
       "      <th>366</th>\n",
       "      <td>2022-03-22</td>\n",
       "      <td>[i, have, found, a, new, and, easy, way, to, m...</td>\n",
       "      <td>0.068861</td>\n",
       "      <td>1</td>\n",
       "    </tr>\n",
       "  </tbody>\n",
       "</table>\n",
       "<p>367 rows × 4 columns</p>\n",
       "</div>"
      ],
      "text/plain": [
       "           date                                       reddit_title  \\\n",
       "0    2021-03-08  [looing, to, spend, a, lot, of, money, in, bit...   \n",
       "1    2021-03-09  [happy, women, 's, day, to, all, the, ladies, ...   \n",
       "2    2021-03-10  [the, case, for, $, 70k, bitcoin, by, april, ,...   \n",
       "3    2021-03-11  [when, crash, ?, ,, price, could, drop, to, 40...   \n",
       "4    2021-03-12  [are, you, demoralized, for, having, less, tha...   \n",
       "..          ...                                                ...   \n",
       "362  2022-03-18  [you, already, missed, the, bus, with, bitcoin...   \n",
       "363  2022-03-19  [more, than, $, 500,000, in, bitcoin, stolen, ...   \n",
       "364  2022-03-20  [la, guerra, es, el, óptimo, examen, de, bitco...   \n",
       "365  2022-03-21  [bitcoin, to, 10, million, dollars, ,, bitcoin...   \n",
       "366  2022-03-22  [i, have, found, a, new, and, easy, way, to, m...   \n",
       "\n",
       "     pcnt_change  class  \n",
       "0       0.097328      1  \n",
       "1       0.100637      1  \n",
       "2       0.103918      1  \n",
       "3       0.143267      1  \n",
       "4       0.189808      1  \n",
       "..           ...    ...  \n",
       "362     0.050980      1  \n",
       "363     0.072993      1  \n",
       "364     0.086848      1  \n",
       "365     0.079279      1  \n",
       "366     0.068861      1  \n",
       "\n",
       "[367 rows x 4 columns]"
      ]
     },
     "execution_count": 141,
     "metadata": {},
     "output_type": "execute_result"
    }
   ],
   "source": [
    "from nltk.tokenize import sent_tokenize, word_tokenize #import the sentence and word tokenizer\n",
    "import nltk\n",
    "#Punkt Sentence Tokenizer. This tokenizer divides a text into a list of sentences, by using an unsupervised algorithm \n",
    "#to build a model for abbreviation words, collocations, and words that start sentences.\n",
    "##Download the punkit\n",
    "nltk.download('punkt') \n",
    "merged_data['reddit_title'] = list(map(word_tokenize,merged_data['reddit_title']))\n",
    "merged_data"
   ]
  },
  {
   "cell_type": "code",
   "execution_count": 142,
   "metadata": {},
   "outputs": [
    {
     "name": "stderr",
     "output_type": "stream",
     "text": [
      "[nltk_data] Downloading package stopwords to C:\\Users\\Kwan Yui\n",
      "[nltk_data]     Yang\\AppData\\Roaming\\nltk_data...\n",
      "[nltk_data]   Package stopwords is already up-to-date!\n"
     ]
    },
    {
     "data": {
      "text/html": [
       "<div>\n",
       "<style scoped>\n",
       "    .dataframe tbody tr th:only-of-type {\n",
       "        vertical-align: middle;\n",
       "    }\n",
       "\n",
       "    .dataframe tbody tr th {\n",
       "        vertical-align: top;\n",
       "    }\n",
       "\n",
       "    .dataframe thead th {\n",
       "        text-align: right;\n",
       "    }\n",
       "</style>\n",
       "<table border=\"1\" class=\"dataframe\">\n",
       "  <thead>\n",
       "    <tr style=\"text-align: right;\">\n",
       "      <th></th>\n",
       "      <th>date</th>\n",
       "      <th>reddit_title</th>\n",
       "      <th>pcnt_change</th>\n",
       "      <th>class</th>\n",
       "    </tr>\n",
       "  </thead>\n",
       "  <tbody>\n",
       "    <tr>\n",
       "      <th>0</th>\n",
       "      <td>2021-03-08</td>\n",
       "      <td>[to, a, of, in, but, do, to, and, to, it, as, ...</td>\n",
       "      <td>0.097328</td>\n",
       "      <td>1</td>\n",
       "    </tr>\n",
       "    <tr>\n",
       "      <th>1</th>\n",
       "      <td>2021-03-09</td>\n",
       "      <td>[to, all, the, who, few, and, some, was, the, ...</td>\n",
       "      <td>0.100637</td>\n",
       "      <td>1</td>\n",
       "    </tr>\n",
       "    <tr>\n",
       "      <th>2</th>\n",
       "      <td>2021-03-10</td>\n",
       "      <td>[the, for, by, that, i, can, as, we, to, from,...</td>\n",
       "      <td>0.103918</td>\n",
       "      <td>1</td>\n",
       "    </tr>\n",
       "    <tr>\n",
       "      <th>3</th>\n",
       "      <td>2021-03-11</td>\n",
       "      <td>[when, to, before, it, how, can, in, if, it, t...</td>\n",
       "      <td>0.143267</td>\n",
       "      <td>1</td>\n",
       "    </tr>\n",
       "    <tr>\n",
       "      <th>4</th>\n",
       "      <td>2021-03-12</td>\n",
       "      <td>[are, you, for, having, than, at, the, has, no...</td>\n",
       "      <td>0.189808</td>\n",
       "      <td>1</td>\n",
       "    </tr>\n",
       "    <tr>\n",
       "      <th>...</th>\n",
       "      <td>...</td>\n",
       "      <td>...</td>\n",
       "      <td>...</td>\n",
       "      <td>...</td>\n",
       "    </tr>\n",
       "    <tr>\n",
       "      <th>362</th>\n",
       "      <td>2022-03-18</td>\n",
       "      <td>[you, the, with, don, t, on, these, is, to, an...</td>\n",
       "      <td>0.050980</td>\n",
       "      <td>1</td>\n",
       "    </tr>\n",
       "    <tr>\n",
       "      <th>363</th>\n",
       "      <td>2022-03-19</td>\n",
       "      <td>[more, than, in, from, a, is, and, by, the, on...</td>\n",
       "      <td>0.072993</td>\n",
       "      <td>1</td>\n",
       "    </tr>\n",
       "    <tr>\n",
       "      <th>364</th>\n",
       "      <td>2022-03-20</td>\n",
       "      <td>[so, it, s, not, his, of, the, was, too, and, ...</td>\n",
       "      <td>0.086848</td>\n",
       "      <td>1</td>\n",
       "    </tr>\n",
       "    <tr>\n",
       "      <th>365</th>\n",
       "      <td>2022-03-21</td>\n",
       "      <td>[to, and, it, is, to, in, which, you, has, whi...</td>\n",
       "      <td>0.079279</td>\n",
       "      <td>1</td>\n",
       "    </tr>\n",
       "    <tr>\n",
       "      <th>366</th>\n",
       "      <td>2022-03-22</td>\n",
       "      <td>[i, have, a, and, to, some, you, just, to, thi...</td>\n",
       "      <td>0.068861</td>\n",
       "      <td>1</td>\n",
       "    </tr>\n",
       "  </tbody>\n",
       "</table>\n",
       "<p>367 rows × 4 columns</p>\n",
       "</div>"
      ],
      "text/plain": [
       "           date                                       reddit_title  \\\n",
       "0    2021-03-08  [to, a, of, in, but, do, to, and, to, it, as, ...   \n",
       "1    2021-03-09  [to, all, the, who, few, and, some, was, the, ...   \n",
       "2    2021-03-10  [the, for, by, that, i, can, as, we, to, from,...   \n",
       "3    2021-03-11  [when, to, before, it, how, can, in, if, it, t...   \n",
       "4    2021-03-12  [are, you, for, having, than, at, the, has, no...   \n",
       "..          ...                                                ...   \n",
       "362  2022-03-18  [you, the, with, don, t, on, these, is, to, an...   \n",
       "363  2022-03-19  [more, than, in, from, a, is, and, by, the, on...   \n",
       "364  2022-03-20  [so, it, s, not, his, of, the, was, too, and, ...   \n",
       "365  2022-03-21  [to, and, it, is, to, in, which, you, has, whi...   \n",
       "366  2022-03-22  [i, have, a, and, to, some, you, just, to, thi...   \n",
       "\n",
       "     pcnt_change  class  \n",
       "0       0.097328      1  \n",
       "1       0.100637      1  \n",
       "2       0.103918      1  \n",
       "3       0.143267      1  \n",
       "4       0.189808      1  \n",
       "..           ...    ...  \n",
       "362     0.050980      1  \n",
       "363     0.072993      1  \n",
       "364     0.086848      1  \n",
       "365     0.079279      1  \n",
       "366     0.068861      1  \n",
       "\n",
       "[367 rows x 4 columns]"
      ]
     },
     "execution_count": 142,
     "metadata": {},
     "output_type": "execute_result"
    }
   ],
   "source": [
    "nltk.download('stopwords')\n",
    "from nltk.corpus import stopwords\n",
    "\n",
    "def remove_stopwords(sentence_list:list):\n",
    "    wordlist = [word for word in sentence_list if word in stopwords.words('english')]\n",
    "    return wordlist\n",
    "merged_data['reddit_title'] = list(map(remove_stopwords,merged_data['reddit_title']))\n",
    "merged_data\n",
    "    \n"
   ]
  },
  {
   "cell_type": "code",
   "execution_count": 143,
   "metadata": {},
   "outputs": [
    {
     "data": {
      "text/html": [
       "<div>\n",
       "<style scoped>\n",
       "    .dataframe tbody tr th:only-of-type {\n",
       "        vertical-align: middle;\n",
       "    }\n",
       "\n",
       "    .dataframe tbody tr th {\n",
       "        vertical-align: top;\n",
       "    }\n",
       "\n",
       "    .dataframe thead th {\n",
       "        text-align: right;\n",
       "    }\n",
       "</style>\n",
       "<table border=\"1\" class=\"dataframe\">\n",
       "  <thead>\n",
       "    <tr style=\"text-align: right;\">\n",
       "      <th></th>\n",
       "      <th>date</th>\n",
       "      <th>reddit_title</th>\n",
       "      <th>pcnt_change</th>\n",
       "      <th>class</th>\n",
       "    </tr>\n",
       "  </thead>\n",
       "  <tbody>\n",
       "    <tr>\n",
       "      <th>0</th>\n",
       "      <td>2021-03-08</td>\n",
       "      <td>[to, a, of, in, but, do, to, and, to, it, as, ...</td>\n",
       "      <td>0.097328</td>\n",
       "      <td>1</td>\n",
       "    </tr>\n",
       "    <tr>\n",
       "      <th>1</th>\n",
       "      <td>2021-03-09</td>\n",
       "      <td>[to, all, the, who, few, and, some, wa, the, a...</td>\n",
       "      <td>0.100637</td>\n",
       "      <td>1</td>\n",
       "    </tr>\n",
       "    <tr>\n",
       "      <th>2</th>\n",
       "      <td>2021-03-10</td>\n",
       "      <td>[the, for, by, that, i, can, as, we, to, from,...</td>\n",
       "      <td>0.103918</td>\n",
       "      <td>1</td>\n",
       "    </tr>\n",
       "    <tr>\n",
       "      <th>3</th>\n",
       "      <td>2021-03-11</td>\n",
       "      <td>[when, to, befor, it, how, can, in, if, it, th...</td>\n",
       "      <td>0.143267</td>\n",
       "      <td>1</td>\n",
       "    </tr>\n",
       "    <tr>\n",
       "      <th>4</th>\n",
       "      <td>2021-03-12</td>\n",
       "      <td>[are, you, for, have, than, at, the, ha, not, ...</td>\n",
       "      <td>0.189808</td>\n",
       "      <td>1</td>\n",
       "    </tr>\n",
       "    <tr>\n",
       "      <th>...</th>\n",
       "      <td>...</td>\n",
       "      <td>...</td>\n",
       "      <td>...</td>\n",
       "      <td>...</td>\n",
       "    </tr>\n",
       "    <tr>\n",
       "      <th>362</th>\n",
       "      <td>2022-03-18</td>\n",
       "      <td>[you, the, with, don, t, on, these, is, to, an...</td>\n",
       "      <td>0.050980</td>\n",
       "      <td>1</td>\n",
       "    </tr>\n",
       "    <tr>\n",
       "      <th>363</th>\n",
       "      <td>2022-03-19</td>\n",
       "      <td>[more, than, in, from, a, is, and, by, the, on...</td>\n",
       "      <td>0.072993</td>\n",
       "      <td>1</td>\n",
       "    </tr>\n",
       "    <tr>\n",
       "      <th>364</th>\n",
       "      <td>2022-03-20</td>\n",
       "      <td>[so, it, s, not, hi, of, the, wa, too, and, to...</td>\n",
       "      <td>0.086848</td>\n",
       "      <td>1</td>\n",
       "    </tr>\n",
       "    <tr>\n",
       "      <th>365</th>\n",
       "      <td>2022-03-21</td>\n",
       "      <td>[to, and, it, is, to, in, which, you, ha, whic...</td>\n",
       "      <td>0.079279</td>\n",
       "      <td>1</td>\n",
       "    </tr>\n",
       "    <tr>\n",
       "      <th>366</th>\n",
       "      <td>2022-03-22</td>\n",
       "      <td>[i, have, a, and, to, some, you, just, to, thi...</td>\n",
       "      <td>0.068861</td>\n",
       "      <td>1</td>\n",
       "    </tr>\n",
       "  </tbody>\n",
       "</table>\n",
       "<p>367 rows × 4 columns</p>\n",
       "</div>"
      ],
      "text/plain": [
       "           date                                       reddit_title  \\\n",
       "0    2021-03-08  [to, a, of, in, but, do, to, and, to, it, as, ...   \n",
       "1    2021-03-09  [to, all, the, who, few, and, some, wa, the, a...   \n",
       "2    2021-03-10  [the, for, by, that, i, can, as, we, to, from,...   \n",
       "3    2021-03-11  [when, to, befor, it, how, can, in, if, it, th...   \n",
       "4    2021-03-12  [are, you, for, have, than, at, the, ha, not, ...   \n",
       "..          ...                                                ...   \n",
       "362  2022-03-18  [you, the, with, don, t, on, these, is, to, an...   \n",
       "363  2022-03-19  [more, than, in, from, a, is, and, by, the, on...   \n",
       "364  2022-03-20  [so, it, s, not, hi, of, the, wa, too, and, to...   \n",
       "365  2022-03-21  [to, and, it, is, to, in, which, you, ha, whic...   \n",
       "366  2022-03-22  [i, have, a, and, to, some, you, just, to, thi...   \n",
       "\n",
       "     pcnt_change  class  \n",
       "0       0.097328      1  \n",
       "1       0.100637      1  \n",
       "2       0.103918      1  \n",
       "3       0.143267      1  \n",
       "4       0.189808      1  \n",
       "..           ...    ...  \n",
       "362     0.050980      1  \n",
       "363     0.072993      1  \n",
       "364     0.086848      1  \n",
       "365     0.079279      1  \n",
       "366     0.068861      1  \n",
       "\n",
       "[367 rows x 4 columns]"
      ]
     },
     "execution_count": 143,
     "metadata": {},
     "output_type": "execute_result"
    }
   ],
   "source": [
    "from nltk.stem.porter import PorterStemmer \n",
    "#We will use porter stemming method\n",
    "# There is also other types of stemming such as lancaster stemming\n",
    "port = PorterStemmer()\n",
    "def stem_words(wordlist:list):\n",
    "    stemmed_w_list = [port.stem(word) for word in wordlist]\n",
    "    return stemmed_w_list\n",
    "merged_data['reddit_title'] = list(map(stem_words,merged_data['reddit_title']))\n",
    "merged_data"
   ]
  },
  {
   "cell_type": "code",
   "execution_count": 144,
   "metadata": {},
   "outputs": [
    {
     "name": "stderr",
     "output_type": "stream",
     "text": [
      "[nltk_data] Downloading package wordnet to C:\\Users\\Kwan Yui\n",
      "[nltk_data]     Yang\\AppData\\Roaming\\nltk_data...\n",
      "[nltk_data]   Package wordnet is already up-to-date!\n"
     ]
    },
    {
     "data": {
      "text/html": [
       "<div>\n",
       "<style scoped>\n",
       "    .dataframe tbody tr th:only-of-type {\n",
       "        vertical-align: middle;\n",
       "    }\n",
       "\n",
       "    .dataframe tbody tr th {\n",
       "        vertical-align: top;\n",
       "    }\n",
       "\n",
       "    .dataframe thead th {\n",
       "        text-align: right;\n",
       "    }\n",
       "</style>\n",
       "<table border=\"1\" class=\"dataframe\">\n",
       "  <thead>\n",
       "    <tr style=\"text-align: right;\">\n",
       "      <th></th>\n",
       "      <th>date</th>\n",
       "      <th>reddit_title</th>\n",
       "      <th>pcnt_change</th>\n",
       "      <th>class</th>\n",
       "    </tr>\n",
       "  </thead>\n",
       "  <tbody>\n",
       "    <tr>\n",
       "      <th>0</th>\n",
       "      <td>2021-03-08</td>\n",
       "      <td>[to, a, of, in, but, do, to, and, to, it, a, a...</td>\n",
       "      <td>0.097328</td>\n",
       "      <td>1</td>\n",
       "    </tr>\n",
       "    <tr>\n",
       "      <th>1</th>\n",
       "      <td>2021-03-09</td>\n",
       "      <td>[to, all, the, who, few, and, some, wa, the, a...</td>\n",
       "      <td>0.100637</td>\n",
       "      <td>1</td>\n",
       "    </tr>\n",
       "    <tr>\n",
       "      <th>2</th>\n",
       "      <td>2021-03-10</td>\n",
       "      <td>[the, for, by, that, i, can, a, we, to, from, ...</td>\n",
       "      <td>0.103918</td>\n",
       "      <td>1</td>\n",
       "    </tr>\n",
       "    <tr>\n",
       "      <th>3</th>\n",
       "      <td>2021-03-11</td>\n",
       "      <td>[when, to, befor, it, how, can, in, if, it, th...</td>\n",
       "      <td>0.143267</td>\n",
       "      <td>1</td>\n",
       "    </tr>\n",
       "    <tr>\n",
       "      <th>4</th>\n",
       "      <td>2021-03-12</td>\n",
       "      <td>[are, you, for, have, than, at, the, ha, not, ...</td>\n",
       "      <td>0.189808</td>\n",
       "      <td>1</td>\n",
       "    </tr>\n",
       "    <tr>\n",
       "      <th>...</th>\n",
       "      <td>...</td>\n",
       "      <td>...</td>\n",
       "      <td>...</td>\n",
       "      <td>...</td>\n",
       "    </tr>\n",
       "    <tr>\n",
       "      <th>362</th>\n",
       "      <td>2022-03-18</td>\n",
       "      <td>[you, the, with, don, t, on, these, is, to, an...</td>\n",
       "      <td>0.050980</td>\n",
       "      <td>1</td>\n",
       "    </tr>\n",
       "    <tr>\n",
       "      <th>363</th>\n",
       "      <td>2022-03-19</td>\n",
       "      <td>[more, than, in, from, a, is, and, by, the, on...</td>\n",
       "      <td>0.072993</td>\n",
       "      <td>1</td>\n",
       "    </tr>\n",
       "    <tr>\n",
       "      <th>364</th>\n",
       "      <td>2022-03-20</td>\n",
       "      <td>[so, it, s, not, hi, of, the, wa, too, and, to...</td>\n",
       "      <td>0.086848</td>\n",
       "      <td>1</td>\n",
       "    </tr>\n",
       "    <tr>\n",
       "      <th>365</th>\n",
       "      <td>2022-03-21</td>\n",
       "      <td>[to, and, it, is, to, in, which, you, ha, whic...</td>\n",
       "      <td>0.079279</td>\n",
       "      <td>1</td>\n",
       "    </tr>\n",
       "    <tr>\n",
       "      <th>366</th>\n",
       "      <td>2022-03-22</td>\n",
       "      <td>[i, have, a, and, to, some, you, just, to, thi...</td>\n",
       "      <td>0.068861</td>\n",
       "      <td>1</td>\n",
       "    </tr>\n",
       "  </tbody>\n",
       "</table>\n",
       "<p>367 rows × 4 columns</p>\n",
       "</div>"
      ],
      "text/plain": [
       "           date                                       reddit_title  \\\n",
       "0    2021-03-08  [to, a, of, in, but, do, to, and, to, it, a, a...   \n",
       "1    2021-03-09  [to, all, the, who, few, and, some, wa, the, a...   \n",
       "2    2021-03-10  [the, for, by, that, i, can, a, we, to, from, ...   \n",
       "3    2021-03-11  [when, to, befor, it, how, can, in, if, it, th...   \n",
       "4    2021-03-12  [are, you, for, have, than, at, the, ha, not, ...   \n",
       "..          ...                                                ...   \n",
       "362  2022-03-18  [you, the, with, don, t, on, these, is, to, an...   \n",
       "363  2022-03-19  [more, than, in, from, a, is, and, by, the, on...   \n",
       "364  2022-03-20  [so, it, s, not, hi, of, the, wa, too, and, to...   \n",
       "365  2022-03-21  [to, and, it, is, to, in, which, you, ha, whic...   \n",
       "366  2022-03-22  [i, have, a, and, to, some, you, just, to, thi...   \n",
       "\n",
       "     pcnt_change  class  \n",
       "0       0.097328      1  \n",
       "1       0.100637      1  \n",
       "2       0.103918      1  \n",
       "3       0.143267      1  \n",
       "4       0.189808      1  \n",
       "..           ...    ...  \n",
       "362     0.050980      1  \n",
       "363     0.072993      1  \n",
       "364     0.086848      1  \n",
       "365     0.079279      1  \n",
       "366     0.068861      1  \n",
       "\n",
       "[367 rows x 4 columns]"
      ]
     },
     "execution_count": 144,
     "metadata": {},
     "output_type": "execute_result"
    }
   ],
   "source": [
    "from nltk.stem.wordnet import WordNetLemmatizer\n",
    "wnet = WordNetLemmatizer()\n",
    "nltk.download('wordnet')#Download wordnet\n",
    "def lem_words(wordlist:list):\n",
    "    lemmed_w_list = [wnet.lemmatize(word) for word in wordlist]\n",
    "    return lemmed_w_list\n",
    "\n",
    "merged_data['reddit_title'] = list(map(lem_words,merged_data['reddit_title']))\n",
    "merged_data\n"
   ]
  },
  {
   "cell_type": "code",
   "execution_count": 148,
   "metadata": {},
   "outputs": [
    {
     "data": {
      "text/html": [
       "<div>\n",
       "<style scoped>\n",
       "    .dataframe tbody tr th:only-of-type {\n",
       "        vertical-align: middle;\n",
       "    }\n",
       "\n",
       "    .dataframe tbody tr th {\n",
       "        vertical-align: top;\n",
       "    }\n",
       "\n",
       "    .dataframe thead th {\n",
       "        text-align: right;\n",
       "    }\n",
       "</style>\n",
       "<table border=\"1\" class=\"dataframe\">\n",
       "  <thead>\n",
       "    <tr style=\"text-align: right;\">\n",
       "      <th></th>\n",
       "      <th>date</th>\n",
       "      <th>reddit_title</th>\n",
       "      <th>pcnt_change</th>\n",
       "      <th>class</th>\n",
       "    </tr>\n",
       "  </thead>\n",
       "  <tbody>\n",
       "    <tr>\n",
       "      <th>0</th>\n",
       "      <td>2021-03-08</td>\n",
       "      <td>to a of in but do to and to it a a by in wa ho...</td>\n",
       "      <td>0.097328</td>\n",
       "      <td>1</td>\n",
       "    </tr>\n",
       "    <tr>\n",
       "      <th>1</th>\n",
       "      <td>2021-03-09</td>\n",
       "      <td>to all the who few and some wa the a the can c...</td>\n",
       "      <td>0.100637</td>\n",
       "      <td>1</td>\n",
       "    </tr>\n",
       "    <tr>\n",
       "      <th>2</th>\n",
       "      <td>2021-03-10</td>\n",
       "      <td>the for by that i can a we to from the if you ...</td>\n",
       "      <td>0.103918</td>\n",
       "      <td>1</td>\n",
       "    </tr>\n",
       "    <tr>\n",
       "      <th>3</th>\n",
       "      <td>2021-03-11</td>\n",
       "      <td>when to befor it how can in if it the from a i...</td>\n",
       "      <td>0.143267</td>\n",
       "      <td>1</td>\n",
       "    </tr>\n",
       "    <tr>\n",
       "      <th>4</th>\n",
       "      <td>2021-03-12</td>\n",
       "      <td>are you for have than at the ha not onli me it...</td>\n",
       "      <td>0.189808</td>\n",
       "      <td>1</td>\n",
       "    </tr>\n",
       "    <tr>\n",
       "      <th>...</th>\n",
       "      <td>...</td>\n",
       "      <td>...</td>\n",
       "      <td>...</td>\n",
       "      <td>...</td>\n",
       "    </tr>\n",
       "    <tr>\n",
       "      <th>362</th>\n",
       "      <td>2022-03-18</td>\n",
       "      <td>you the with don t on these is to and on all i...</td>\n",
       "      <td>0.050980</td>\n",
       "      <td>1</td>\n",
       "    </tr>\n",
       "    <tr>\n",
       "      <th>363</th>\n",
       "      <td>2022-03-19</td>\n",
       "      <td>more than in from a is and by the on in ha in ...</td>\n",
       "      <td>0.072993</td>\n",
       "      <td>1</td>\n",
       "    </tr>\n",
       "    <tr>\n",
       "      <th>364</th>\n",
       "      <td>2022-03-20</td>\n",
       "      <td>so it s not hi of the wa too and too into how ...</td>\n",
       "      <td>0.086848</td>\n",
       "      <td>1</td>\n",
       "    </tr>\n",
       "    <tr>\n",
       "      <th>365</th>\n",
       "      <td>2022-03-21</td>\n",
       "      <td>to and it is to in which you ha which wa the a...</td>\n",
       "      <td>0.079279</td>\n",
       "      <td>1</td>\n",
       "    </tr>\n",
       "    <tr>\n",
       "      <th>366</th>\n",
       "      <td>2022-03-22</td>\n",
       "      <td>i have a and to some you just to thi on and yo...</td>\n",
       "      <td>0.068861</td>\n",
       "      <td>1</td>\n",
       "    </tr>\n",
       "  </tbody>\n",
       "</table>\n",
       "<p>367 rows × 4 columns</p>\n",
       "</div>"
      ],
      "text/plain": [
       "           date                                       reddit_title  \\\n",
       "0    2021-03-08  to a of in but do to and to it a a by in wa ho...   \n",
       "1    2021-03-09  to all the who few and some wa the a the can c...   \n",
       "2    2021-03-10  the for by that i can a we to from the if you ...   \n",
       "3    2021-03-11  when to befor it how can in if it the from a i...   \n",
       "4    2021-03-12  are you for have than at the ha not onli me it...   \n",
       "..          ...                                                ...   \n",
       "362  2022-03-18  you the with don t on these is to and on all i...   \n",
       "363  2022-03-19  more than in from a is and by the on in ha in ...   \n",
       "364  2022-03-20  so it s not hi of the wa too and too into how ...   \n",
       "365  2022-03-21  to and it is to in which you ha which wa the a...   \n",
       "366  2022-03-22  i have a and to some you just to thi on and yo...   \n",
       "\n",
       "     pcnt_change  class  \n",
       "0       0.097328      1  \n",
       "1       0.100637      1  \n",
       "2       0.103918      1  \n",
       "3       0.143267      1  \n",
       "4       0.189808      1  \n",
       "..           ...    ...  \n",
       "362     0.050980      1  \n",
       "363     0.072993      1  \n",
       "364     0.086848      1  \n",
       "365     0.079279      1  \n",
       "366     0.068861      1  \n",
       "\n",
       "[367 rows x 4 columns]"
      ]
     },
     "execution_count": 148,
     "metadata": {},
     "output_type": "execute_result"
    }
   ],
   "source": [
    "def to_string(wlist:list):\n",
    "    strng = ' '.join([str(item) for item in wlist])\n",
    "    return strng\n",
    "for i in merged_data.index:\n",
    "    merged_data.loc[i,'reddit_title'] = to_string(merged_data.loc[i,'reddit_title'])\n",
    "merged_data"
   ]
  },
  {
   "cell_type": "code",
   "execution_count": 149,
   "metadata": {},
   "outputs": [],
   "source": [
    "X = merged_data['reddit_title']\n",
    "Y = merged_data['class']\n",
    "x_train, x_test, y_train, y_test = train_test_split(X,Y, test_size=0.2, random_state=42)\n",
    "# Vectorize text reviews to numbers\n",
    "vec = CountVectorizer(stop_words='english')\n",
    "x_train = vec.fit_transform(x_train).toarray()\n",
    "x_test = vec.transform(x_test).toarray()"
   ]
  },
  {
   "cell_type": "code",
   "execution_count": 150,
   "metadata": {},
   "outputs": [
    {
     "data": {
      "text/plain": [
       "array([[0, 0, 0, ..., 0, 0, 1],\n",
       "       [0, 0, 0, ..., 0, 1, 0],\n",
       "       [0, 0, 0, ..., 0, 0, 0],\n",
       "       ...,\n",
       "       [0, 0, 0, ..., 0, 0, 0],\n",
       "       [0, 0, 0, ..., 0, 0, 0],\n",
       "       [0, 0, 0, ..., 1, 1, 0]], dtype=int64)"
      ]
     },
     "execution_count": 150,
     "metadata": {},
     "output_type": "execute_result"
    }
   ],
   "source": [
    "x_train"
   ]
  },
  {
   "cell_type": "code",
   "execution_count": 152,
   "metadata": {},
   "outputs": [
    {
     "data": {
      "text/plain": [
       "MultinomialNB()"
      ]
     },
     "execution_count": 152,
     "metadata": {},
     "output_type": "execute_result"
    }
   ],
   "source": [
    "from sklearn.naive_bayes import MultinomialNB\n",
    "\n",
    "model = MultinomialNB()\n",
    "model.fit(x_train, y_train)"
   ]
  },
  {
   "cell_type": "code",
   "execution_count": 153,
   "metadata": {},
   "outputs": [
    {
     "data": {
      "text/plain": [
       "0.43243243243243246"
      ]
     },
     "execution_count": 153,
     "metadata": {},
     "output_type": "execute_result"
    }
   ],
   "source": [
    "model.score(x_test, y_test)"
   ]
  },
  {
   "cell_type": "code",
   "execution_count": null,
   "metadata": {},
   "outputs": [],
   "source": []
  },
  {
   "cell_type": "code",
   "execution_count": null,
   "metadata": {},
   "outputs": [],
   "source": []
  },
  {
   "cell_type": "code",
   "execution_count": null,
   "metadata": {},
   "outputs": [],
   "source": []
  },
  {
   "cell_type": "code",
   "execution_count": null,
   "metadata": {},
   "outputs": [],
   "source": []
  },
  {
   "cell_type": "code",
   "execution_count": null,
   "metadata": {},
   "outputs": [],
   "source": []
  },
  {
   "cell_type": "code",
   "execution_count": null,
   "metadata": {},
   "outputs": [],
   "source": []
  },
  {
   "cell_type": "code",
   "execution_count": null,
   "metadata": {},
   "outputs": [],
   "source": []
  },
  {
   "cell_type": "code",
   "execution_count": null,
   "metadata": {},
   "outputs": [],
   "source": []
  },
  {
   "cell_type": "code",
   "execution_count": null,
   "metadata": {},
   "outputs": [],
   "source": []
  },
  {
   "cell_type": "markdown",
   "metadata": {},
   "source": [
    "# Natural Language Processing with Pyspark (Failed)"
   ]
  },
  {
   "cell_type": "code",
   "execution_count": 11,
   "metadata": {},
   "outputs": [],
   "source": [
    "# PySpark applications start with initializing SparkSession which is the entry point of PySpark as below\n",
    "import os\n",
    "os.environ[\"JAVA_HOME\"] = \"C:/Progra~1/Java/jdk1.8.0_321\"\n",
    "\n",
    "import findspark\n",
    "findspark.init()\n",
    "import pyspark\n",
    "from pyspark.sql import SparkSession\n",
    "\n",
    "spark = SparkSession.builder.getOrCreate()\n"
   ]
  },
  {
   "cell_type": "code",
   "execution_count": 12,
   "metadata": {},
   "outputs": [
    {
     "data": {
      "text/html": [
       "<div>\n",
       "<style scoped>\n",
       "    .dataframe tbody tr th:only-of-type {\n",
       "        vertical-align: middle;\n",
       "    }\n",
       "\n",
       "    .dataframe tbody tr th {\n",
       "        vertical-align: top;\n",
       "    }\n",
       "\n",
       "    .dataframe thead th {\n",
       "        text-align: right;\n",
       "    }\n",
       "</style>\n",
       "<table border=\"1\" class=\"dataframe\">\n",
       "  <thead>\n",
       "    <tr style=\"text-align: right;\">\n",
       "      <th></th>\n",
       "      <th>label</th>\n",
       "      <th>reddit_title</th>\n",
       "    </tr>\n",
       "  </thead>\n",
       "  <tbody>\n",
       "    <tr>\n",
       "      <th>0</th>\n",
       "      <td>1</td>\n",
       "      <td>Bitcoin to the moon,looing to spend a lot of m...</td>\n",
       "    </tr>\n",
       "    <tr>\n",
       "      <th>1</th>\n",
       "      <td>1</td>\n",
       "      <td>Happy Women's Day to all the ladies who hodl b...</td>\n",
       "    </tr>\n",
       "    <tr>\n",
       "      <th>2</th>\n",
       "      <td>1</td>\n",
       "      <td>The Case for $70k Bitcoin by April,Loans that ...</td>\n",
       "    </tr>\n",
       "    <tr>\n",
       "      <th>3</th>\n",
       "      <td>1</td>\n",
       "      <td>Sovereign Wealth Funds Are Ready to Buy Bitcoi...</td>\n",
       "    </tr>\n",
       "    <tr>\n",
       "      <th>4</th>\n",
       "      <td>1</td>\n",
       "      <td>Keiser Report: Jonathan Chester CEO of Bitwage...</td>\n",
       "    </tr>\n",
       "    <tr>\n",
       "      <th>...</th>\n",
       "      <td>...</td>\n",
       "      <td>...</td>\n",
       "    </tr>\n",
       "    <tr>\n",
       "      <th>363</th>\n",
       "      <td>1</td>\n",
       "      <td>My Biggest Regret (story and advice from a sil...</td>\n",
       "    </tr>\n",
       "    <tr>\n",
       "      <th>364</th>\n",
       "      <td>1</td>\n",
       "      <td>March 19, 2013: Bitcoin and me (Hal Finney),Mo...</td>\n",
       "    </tr>\n",
       "    <tr>\n",
       "      <th>365</th>\n",
       "      <td>1</td>\n",
       "      <td>Apple co-founder explaining #Bitcoin not crypt...</td>\n",
       "    </tr>\n",
       "    <tr>\n",
       "      <th>366</th>\n",
       "      <td>1</td>\n",
       "      <td>A Progressive View of Bitcoin with Margot Paez...</td>\n",
       "    </tr>\n",
       "    <tr>\n",
       "      <th>367</th>\n",
       "      <td>1</td>\n",
       "      <td>I have found a new and easy way to make some b...</td>\n",
       "    </tr>\n",
       "  </tbody>\n",
       "</table>\n",
       "<p>368 rows × 2 columns</p>\n",
       "</div>"
      ],
      "text/plain": [
       "     label                                       reddit_title\n",
       "0        1  Bitcoin to the moon,looing to spend a lot of m...\n",
       "1        1  Happy Women's Day to all the ladies who hodl b...\n",
       "2        1  The Case for $70k Bitcoin by April,Loans that ...\n",
       "3        1  Sovereign Wealth Funds Are Ready to Buy Bitcoi...\n",
       "4        1  Keiser Report: Jonathan Chester CEO of Bitwage...\n",
       "..     ...                                                ...\n",
       "363      1  My Biggest Regret (story and advice from a sil...\n",
       "364      1  March 19, 2013: Bitcoin and me (Hal Finney),Mo...\n",
       "365      1  Apple co-founder explaining #Bitcoin not crypt...\n",
       "366      1  A Progressive View of Bitcoin with Margot Paez...\n",
       "367      1  I have found a new and easy way to make some b...\n",
       "\n",
       "[368 rows x 2 columns]"
      ]
     },
     "execution_count": 12,
     "metadata": {},
     "output_type": "execute_result"
    }
   ],
   "source": [
    "proc_data = merged_data[['class','reddit_title']]\n",
    "proc_data.columns = ['label','reddit_title']\n",
    "proc_data"
   ]
  },
  {
   "cell_type": "code",
   "execution_count": 13,
   "metadata": {},
   "outputs": [
    {
     "name": "stdout",
     "output_type": "stream",
     "text": [
      "+-----+--------------------+\n",
      "|label|        reddit_title|\n",
      "+-----+--------------------+\n",
      "|    1|Bitcoin to the mo...|\n",
      "|    1|Happy Women's Day...|\n",
      "|    1|The Case for $70k...|\n",
      "|    1|Sovereign Wealth ...|\n",
      "|    1|Keiser Report: Jo...|\n",
      "|    1|Website that i ca...|\n",
      "|    1|When Will All Of ...|\n",
      "|    1|QUESTION about in...|\n",
      "|    1|Bitcoin as piggy ...|\n",
      "|    1|BTC,Not sending B...|\n",
      "+-----+--------------------+\n",
      "only showing top 10 rows\n",
      "\n"
     ]
    }
   ],
   "source": [
    "df = spark.createDataFrame(proc_data)\n",
    "df.show(10)"
   ]
  },
  {
   "cell_type": "code",
   "execution_count": 14,
   "metadata": {},
   "outputs": [],
   "source": [
    "#Tokenizer\n",
    "from pyspark.ml.feature import Tokenizer, RegexTokenizer,StopWordsRemover,CountVectorizer,VectorAssembler\n",
    "from pyspark.sql.functions import col,udf\n",
    "from pyspark.sql.types import IntegerType\n",
    "from pyspark.ml.classification import NaiveBayes\n"
   ]
  },
  {
   "cell_type": "code",
   "execution_count": 15,
   "metadata": {},
   "outputs": [],
   "source": [
    "stages = []\n",
    "\n",
    "regexTok = RegexTokenizer(inputCol='reddit_title',outputCol = 'tokenized_titles',pattern = \"\\\\W\")\n",
    "stages+=[regexTok]\n",
    "\n",
    "remover = StopWordsRemover(inputCol = 'tokenized_titles',outputCol = 'tokremd_titles')\n",
    "stages +=[remover]\n",
    "\n",
    "cv = CountVectorizer(inputCol='tokremd_titles',outputCol = 'data_features')\n",
    "stages+=[cv]\n",
    "\n",
    "vecAssembler = VectorAssembler(inputCols=['data_features'],outputCol=\"features\")\n",
    "stages+=[vecAssembler]"
   ]
  },
  {
   "cell_type": "code",
   "execution_count": 16,
   "metadata": {},
   "outputs": [],
   "source": [
    "from pyspark.ml import Pipeline\n",
    "pipeline = Pipeline(stages=stages)\n",
    "data = pipeline.fit(df).transform(df)"
   ]
  },
  {
   "cell_type": "code",
   "execution_count": 17,
   "metadata": {},
   "outputs": [
    {
     "name": "stdout",
     "output_type": "stream",
     "text": [
      "+-----+--------------------+--------------------+--------------------+--------------------+--------------------+\n",
      "|label|        reddit_title|    tokenized_titles|      tokremd_titles|       data_features|            features|\n",
      "+-----+--------------------+--------------------+--------------------+--------------------+--------------------+\n",
      "|    1|Bitcoin to the mo...|[bitcoin, to, the...|[bitcoin, moon, l...|(6114,[0,12,18,25...|(6114,[0,12,18,25...|\n",
      "|    1|Happy Women's Day...|[happy, women, s,...|[happy, women, da...|(6114,[0,1,2,7,9,...|(6114,[0,1,2,7,9,...|\n",
      "+-----+--------------------+--------------------+--------------------+--------------------+--------------------+\n",
      "only showing top 2 rows\n",
      "\n"
     ]
    }
   ],
   "source": [
    "data.show(2)"
   ]
  },
  {
   "cell_type": "code",
   "execution_count": 25,
   "metadata": {},
   "outputs": [
    {
     "data": {
      "text/html": [
       "<div>\n",
       "<style scoped>\n",
       "    .dataframe tbody tr th:only-of-type {\n",
       "        vertical-align: middle;\n",
       "    }\n",
       "\n",
       "    .dataframe tbody tr th {\n",
       "        vertical-align: top;\n",
       "    }\n",
       "\n",
       "    .dataframe thead th {\n",
       "        text-align: right;\n",
       "    }\n",
       "</style>\n",
       "<table border=\"1\" class=\"dataframe\">\n",
       "  <thead>\n",
       "    <tr style=\"text-align: right;\">\n",
       "      <th></th>\n",
       "      <th>label</th>\n",
       "      <th>features</th>\n",
       "    </tr>\n",
       "  </thead>\n",
       "  <tbody>\n",
       "    <tr>\n",
       "      <th>0</th>\n",
       "      <td>1</td>\n",
       "      <td>(7.0, 0.0, 0.0, 0.0, 0.0, 0.0, 0.0, 0.0, 0.0, ...</td>\n",
       "    </tr>\n",
       "    <tr>\n",
       "      <th>1</th>\n",
       "      <td>1</td>\n",
       "      <td>(8.0, 1.0, 1.0, 0.0, 0.0, 0.0, 0.0, 1.0, 0.0, ...</td>\n",
       "    </tr>\n",
       "    <tr>\n",
       "      <th>2</th>\n",
       "      <td>1</td>\n",
       "      <td>(10.0, 1.0, 0.0, 0.0, 0.0, 0.0, 0.0, 4.0, 0.0,...</td>\n",
       "    </tr>\n",
       "    <tr>\n",
       "      <th>3</th>\n",
       "      <td>1</td>\n",
       "      <td>(12.0, 0.0, 2.0, 1.0, 1.0, 0.0, 0.0, 1.0, 0.0,...</td>\n",
       "    </tr>\n",
       "    <tr>\n",
       "      <th>4</th>\n",
       "      <td>1</td>\n",
       "      <td>(6.0, 0.0, 2.0, 0.0, 0.0, 0.0, 0.0, 1.0, 0.0, ...</td>\n",
       "    </tr>\n",
       "    <tr>\n",
       "      <th>...</th>\n",
       "      <td>...</td>\n",
       "      <td>...</td>\n",
       "    </tr>\n",
       "    <tr>\n",
       "      <th>363</th>\n",
       "      <td>1</td>\n",
       "      <td>(9.0, 0.0, 0.0, 0.0, 0.0, 0.0, 0.0, 0.0, 1.0, ...</td>\n",
       "    </tr>\n",
       "    <tr>\n",
       "      <th>364</th>\n",
       "      <td>1</td>\n",
       "      <td>(9.0, 0.0, 0.0, 0.0, 2.0, 0.0, 0.0, 1.0, 0.0, ...</td>\n",
       "    </tr>\n",
       "    <tr>\n",
       "      <th>365</th>\n",
       "      <td>1</td>\n",
       "      <td>(7.0, 2.0, 1.0, 0.0, 1.0, 0.0, 0.0, 0.0, 1.0, ...</td>\n",
       "    </tr>\n",
       "    <tr>\n",
       "      <th>366</th>\n",
       "      <td>1</td>\n",
       "      <td>(9.0, 1.0, 0.0, 0.0, 0.0, 0.0, 0.0, 0.0, 0.0, ...</td>\n",
       "    </tr>\n",
       "    <tr>\n",
       "      <th>367</th>\n",
       "      <td>1</td>\n",
       "      <td>(12.0, 2.0, 0.0, 0.0, 0.0, 0.0, 2.0, 0.0, 0.0,...</td>\n",
       "    </tr>\n",
       "  </tbody>\n",
       "</table>\n",
       "<p>368 rows × 2 columns</p>\n",
       "</div>"
      ],
      "text/plain": [
       "     label                                           features\n",
       "0        1  (7.0, 0.0, 0.0, 0.0, 0.0, 0.0, 0.0, 0.0, 0.0, ...\n",
       "1        1  (8.0, 1.0, 1.0, 0.0, 0.0, 0.0, 0.0, 1.0, 0.0, ...\n",
       "2        1  (10.0, 1.0, 0.0, 0.0, 0.0, 0.0, 0.0, 4.0, 0.0,...\n",
       "3        1  (12.0, 0.0, 2.0, 1.0, 1.0, 0.0, 0.0, 1.0, 0.0,...\n",
       "4        1  (6.0, 0.0, 2.0, 0.0, 0.0, 0.0, 0.0, 1.0, 0.0, ...\n",
       "..     ...                                                ...\n",
       "363      1  (9.0, 0.0, 0.0, 0.0, 0.0, 0.0, 0.0, 0.0, 1.0, ...\n",
       "364      1  (9.0, 0.0, 0.0, 0.0, 2.0, 0.0, 0.0, 1.0, 0.0, ...\n",
       "365      1  (7.0, 2.0, 1.0, 0.0, 1.0, 0.0, 0.0, 0.0, 1.0, ...\n",
       "366      1  (9.0, 1.0, 0.0, 0.0, 0.0, 0.0, 0.0, 0.0, 0.0, ...\n",
       "367      1  (12.0, 2.0, 0.0, 0.0, 0.0, 0.0, 2.0, 0.0, 0.0,...\n",
       "\n",
       "[368 rows x 2 columns]"
      ]
     },
     "execution_count": 25,
     "metadata": {},
     "output_type": "execute_result"
    }
   ],
   "source": [
    "dfnew = data.toPandas()\n",
    "dfnew = dfnew[['label','features']]\n",
    "dfnew"
   ]
  },
  {
   "cell_type": "code",
   "execution_count": 28,
   "metadata": {},
   "outputs": [],
   "source": [
    "X = dfnew[['features']]\n",
    "Y = dfnew['label']"
   ]
  },
  {
   "cell_type": "code",
   "execution_count": 29,
   "metadata": {},
   "outputs": [],
   "source": [
    "#Split data into train and test\n",
    "x_train,x_test, y_train,y_test = train_test_split(X,Y,test_size = 0.20, random_state = 42)"
   ]
  },
  {
   "cell_type": "code",
   "execution_count": 30,
   "metadata": {},
   "outputs": [],
   "source": [
    "## Posterior Probability\n",
    "### Going to need likelihood and prior probability\n",
    "\n",
    "#For prior probability\n",
    "def prior_probability(y_train, label):\n",
    "    #label refers to x and 0 values\n",
    "    m = y.shape[0]\n",
    "    s= np.sum(y_train == label)\n",
    "    return m/s\n",
    "\n",
    "def cond_probability(x_train,y_train, feature_col, feature_val, label):\n",
    "    \n",
    "    x_filtered = x_train[y_train == label]\n",
    "    num = np.sum(x_filtered[:,feature_col]==feature_val)\n",
    "    \n",
    "    denom = x_filtered.shape[0]\n",
    "    return float(num/denom)\n",
    "\n",
    "def predict(x_train,y_train,x_test):\n",
    "    classes = np.unique(y_train)\n",
    "    n_features = x_train.shape[1]\n",
    "    \n",
    "    posterior_prob = []\n",
    "    for label in classes:\n",
    "        likelihood = 1.0 #initialise a mf value\n",
    "        for fea in range(n_features):\n",
    "            #go through each feature column\n",
    "            cond = cond_probability(x_train,y_train,fea, x_test[fea],label)\n",
    "            likelihood = likelihood*cond\n",
    "            \n",
    "        prior = prior_probability(y_train,label) #find prior probabiity by calling the prior prob function\n",
    "        post = likelihood * prior\n",
    "        \n",
    "        posterior_prob.append(post)\n",
    "        \n",
    "        pred = np.argmax(posterior_prob)\n",
    "        \n",
    "        return pred\n",
    "    \n",
    "def accuracy(x_train,y_train,x_test,y_test):\n",
    "    pred = []\n",
    "    for i in range(x_test.shape[0]):\n",
    "        p = predict(x_train,y_train,x_test[i])\n",
    "        pred.append(p)\n",
    "    y_pred = np.array(pred)\n",
    "    acc= np.sum(y_pred==y_test)/y_test.shape[0] #Compare predicted value with value we alr know accurate prediction/actual\n",
    "    \n",
    "    return acc"
   ]
  },
  {
   "cell_type": "code",
   "execution_count": 31,
   "metadata": {},
   "outputs": [
    {
     "ename": "KeyError",
     "evalue": "0",
     "output_type": "error",
     "traceback": [
      "\u001b[1;31m---------------------------------------------------------------------------\u001b[0m",
      "\u001b[1;31mKeyError\u001b[0m                                  Traceback (most recent call last)",
      "\u001b[1;32mC:\\ProgramData\\Anaconda3\\lib\\site-packages\\pandas\\core\\indexes\\base.py\u001b[0m in \u001b[0;36mget_loc\u001b[1;34m(self, key, method, tolerance)\u001b[0m\n\u001b[0;32m   3079\u001b[0m             \u001b[1;32mtry\u001b[0m\u001b[1;33m:\u001b[0m\u001b[1;33m\u001b[0m\u001b[1;33m\u001b[0m\u001b[0m\n\u001b[1;32m-> 3080\u001b[1;33m                 \u001b[1;32mreturn\u001b[0m \u001b[0mself\u001b[0m\u001b[1;33m.\u001b[0m\u001b[0m_engine\u001b[0m\u001b[1;33m.\u001b[0m\u001b[0mget_loc\u001b[0m\u001b[1;33m(\u001b[0m\u001b[0mcasted_key\u001b[0m\u001b[1;33m)\u001b[0m\u001b[1;33m\u001b[0m\u001b[1;33m\u001b[0m\u001b[0m\n\u001b[0m\u001b[0;32m   3081\u001b[0m             \u001b[1;32mexcept\u001b[0m \u001b[0mKeyError\u001b[0m \u001b[1;32mas\u001b[0m \u001b[0merr\u001b[0m\u001b[1;33m:\u001b[0m\u001b[1;33m\u001b[0m\u001b[1;33m\u001b[0m\u001b[0m\n",
      "\u001b[1;32mpandas\\_libs\\index.pyx\u001b[0m in \u001b[0;36mpandas._libs.index.IndexEngine.get_loc\u001b[1;34m()\u001b[0m\n",
      "\u001b[1;32mpandas\\_libs\\index.pyx\u001b[0m in \u001b[0;36mpandas._libs.index.IndexEngine.get_loc\u001b[1;34m()\u001b[0m\n",
      "\u001b[1;32mpandas\\_libs\\hashtable_class_helper.pxi\u001b[0m in \u001b[0;36mpandas._libs.hashtable.PyObjectHashTable.get_item\u001b[1;34m()\u001b[0m\n",
      "\u001b[1;32mpandas\\_libs\\hashtable_class_helper.pxi\u001b[0m in \u001b[0;36mpandas._libs.hashtable.PyObjectHashTable.get_item\u001b[1;34m()\u001b[0m\n",
      "\u001b[1;31mKeyError\u001b[0m: 0",
      "\nThe above exception was the direct cause of the following exception:\n",
      "\u001b[1;31mKeyError\u001b[0m                                  Traceback (most recent call last)",
      "\u001b[1;32m<ipython-input-31-2fae1887a741>\u001b[0m in \u001b[0;36m<module>\u001b[1;34m\u001b[0m\n\u001b[1;32m----> 1\u001b[1;33m \u001b[0macc\u001b[0m \u001b[1;33m=\u001b[0m \u001b[0maccuracy\u001b[0m\u001b[1;33m(\u001b[0m\u001b[0mx_train\u001b[0m\u001b[1;33m,\u001b[0m\u001b[0my_train\u001b[0m\u001b[1;33m,\u001b[0m\u001b[0mx_test\u001b[0m\u001b[1;33m,\u001b[0m\u001b[0my_test\u001b[0m\u001b[1;33m)\u001b[0m\u001b[1;33m\u001b[0m\u001b[1;33m\u001b[0m\u001b[0m\n\u001b[0m",
      "\u001b[1;32m<ipython-input-30-ee3487e110c2>\u001b[0m in \u001b[0;36maccuracy\u001b[1;34m(x_train, y_train, x_test, y_test)\u001b[0m\n\u001b[0;32m     41\u001b[0m     \u001b[0mpred\u001b[0m \u001b[1;33m=\u001b[0m \u001b[1;33m[\u001b[0m\u001b[1;33m]\u001b[0m\u001b[1;33m\u001b[0m\u001b[1;33m\u001b[0m\u001b[0m\n\u001b[0;32m     42\u001b[0m     \u001b[1;32mfor\u001b[0m \u001b[0mi\u001b[0m \u001b[1;32min\u001b[0m \u001b[0mrange\u001b[0m\u001b[1;33m(\u001b[0m\u001b[0mx_test\u001b[0m\u001b[1;33m.\u001b[0m\u001b[0mshape\u001b[0m\u001b[1;33m[\u001b[0m\u001b[1;36m0\u001b[0m\u001b[1;33m]\u001b[0m\u001b[1;33m)\u001b[0m\u001b[1;33m:\u001b[0m\u001b[1;33m\u001b[0m\u001b[1;33m\u001b[0m\u001b[0m\n\u001b[1;32m---> 43\u001b[1;33m         \u001b[0mp\u001b[0m \u001b[1;33m=\u001b[0m \u001b[0mpredict\u001b[0m\u001b[1;33m(\u001b[0m\u001b[0mx_train\u001b[0m\u001b[1;33m,\u001b[0m\u001b[0my_train\u001b[0m\u001b[1;33m,\u001b[0m\u001b[0mx_test\u001b[0m\u001b[1;33m[\u001b[0m\u001b[0mi\u001b[0m\u001b[1;33m]\u001b[0m\u001b[1;33m)\u001b[0m\u001b[1;33m\u001b[0m\u001b[1;33m\u001b[0m\u001b[0m\n\u001b[0m\u001b[0;32m     44\u001b[0m         \u001b[0mpred\u001b[0m\u001b[1;33m.\u001b[0m\u001b[0mappend\u001b[0m\u001b[1;33m(\u001b[0m\u001b[0mp\u001b[0m\u001b[1;33m)\u001b[0m\u001b[1;33m\u001b[0m\u001b[1;33m\u001b[0m\u001b[0m\n\u001b[0;32m     45\u001b[0m     \u001b[0my_pred\u001b[0m \u001b[1;33m=\u001b[0m \u001b[0mnp\u001b[0m\u001b[1;33m.\u001b[0m\u001b[0marray\u001b[0m\u001b[1;33m(\u001b[0m\u001b[0mpred\u001b[0m\u001b[1;33m)\u001b[0m\u001b[1;33m\u001b[0m\u001b[1;33m\u001b[0m\u001b[0m\n",
      "\u001b[1;32mC:\\ProgramData\\Anaconda3\\lib\\site-packages\\pandas\\core\\frame.py\u001b[0m in \u001b[0;36m__getitem__\u001b[1;34m(self, key)\u001b[0m\n\u001b[0;32m   3022\u001b[0m             \u001b[1;32mif\u001b[0m \u001b[0mself\u001b[0m\u001b[1;33m.\u001b[0m\u001b[0mcolumns\u001b[0m\u001b[1;33m.\u001b[0m\u001b[0mnlevels\u001b[0m \u001b[1;33m>\u001b[0m \u001b[1;36m1\u001b[0m\u001b[1;33m:\u001b[0m\u001b[1;33m\u001b[0m\u001b[1;33m\u001b[0m\u001b[0m\n\u001b[0;32m   3023\u001b[0m                 \u001b[1;32mreturn\u001b[0m \u001b[0mself\u001b[0m\u001b[1;33m.\u001b[0m\u001b[0m_getitem_multilevel\u001b[0m\u001b[1;33m(\u001b[0m\u001b[0mkey\u001b[0m\u001b[1;33m)\u001b[0m\u001b[1;33m\u001b[0m\u001b[1;33m\u001b[0m\u001b[0m\n\u001b[1;32m-> 3024\u001b[1;33m             \u001b[0mindexer\u001b[0m \u001b[1;33m=\u001b[0m \u001b[0mself\u001b[0m\u001b[1;33m.\u001b[0m\u001b[0mcolumns\u001b[0m\u001b[1;33m.\u001b[0m\u001b[0mget_loc\u001b[0m\u001b[1;33m(\u001b[0m\u001b[0mkey\u001b[0m\u001b[1;33m)\u001b[0m\u001b[1;33m\u001b[0m\u001b[1;33m\u001b[0m\u001b[0m\n\u001b[0m\u001b[0;32m   3025\u001b[0m             \u001b[1;32mif\u001b[0m \u001b[0mis_integer\u001b[0m\u001b[1;33m(\u001b[0m\u001b[0mindexer\u001b[0m\u001b[1;33m)\u001b[0m\u001b[1;33m:\u001b[0m\u001b[1;33m\u001b[0m\u001b[1;33m\u001b[0m\u001b[0m\n\u001b[0;32m   3026\u001b[0m                 \u001b[0mindexer\u001b[0m \u001b[1;33m=\u001b[0m \u001b[1;33m[\u001b[0m\u001b[0mindexer\u001b[0m\u001b[1;33m]\u001b[0m\u001b[1;33m\u001b[0m\u001b[1;33m\u001b[0m\u001b[0m\n",
      "\u001b[1;32mC:\\ProgramData\\Anaconda3\\lib\\site-packages\\pandas\\core\\indexes\\base.py\u001b[0m in \u001b[0;36mget_loc\u001b[1;34m(self, key, method, tolerance)\u001b[0m\n\u001b[0;32m   3080\u001b[0m                 \u001b[1;32mreturn\u001b[0m \u001b[0mself\u001b[0m\u001b[1;33m.\u001b[0m\u001b[0m_engine\u001b[0m\u001b[1;33m.\u001b[0m\u001b[0mget_loc\u001b[0m\u001b[1;33m(\u001b[0m\u001b[0mcasted_key\u001b[0m\u001b[1;33m)\u001b[0m\u001b[1;33m\u001b[0m\u001b[1;33m\u001b[0m\u001b[0m\n\u001b[0;32m   3081\u001b[0m             \u001b[1;32mexcept\u001b[0m \u001b[0mKeyError\u001b[0m \u001b[1;32mas\u001b[0m \u001b[0merr\u001b[0m\u001b[1;33m:\u001b[0m\u001b[1;33m\u001b[0m\u001b[1;33m\u001b[0m\u001b[0m\n\u001b[1;32m-> 3082\u001b[1;33m                 \u001b[1;32mraise\u001b[0m \u001b[0mKeyError\u001b[0m\u001b[1;33m(\u001b[0m\u001b[0mkey\u001b[0m\u001b[1;33m)\u001b[0m \u001b[1;32mfrom\u001b[0m \u001b[0merr\u001b[0m\u001b[1;33m\u001b[0m\u001b[1;33m\u001b[0m\u001b[0m\n\u001b[0m\u001b[0;32m   3083\u001b[0m \u001b[1;33m\u001b[0m\u001b[0m\n\u001b[0;32m   3084\u001b[0m         \u001b[1;32mif\u001b[0m \u001b[0mtolerance\u001b[0m \u001b[1;32mis\u001b[0m \u001b[1;32mnot\u001b[0m \u001b[1;32mNone\u001b[0m\u001b[1;33m:\u001b[0m\u001b[1;33m\u001b[0m\u001b[1;33m\u001b[0m\u001b[0m\n",
      "\u001b[1;31mKeyError\u001b[0m: 0"
     ]
    }
   ],
   "source": [
    "acc = accuracy(x_train,y_train,x_test,y_test)"
   ]
  },
  {
   "cell_type": "code",
   "execution_count": null,
   "metadata": {},
   "outputs": [],
   "source": []
  },
  {
   "cell_type": "code",
   "execution_count": null,
   "metadata": {},
   "outputs": [],
   "source": []
  },
  {
   "cell_type": "code",
   "execution_count": null,
   "metadata": {},
   "outputs": [],
   "source": []
  },
  {
   "cell_type": "code",
   "execution_count": null,
   "metadata": {},
   "outputs": [],
   "source": []
  },
  {
   "cell_type": "code",
   "execution_count": null,
   "metadata": {},
   "outputs": [],
   "source": []
  },
  {
   "cell_type": "code",
   "execution_count": 18,
   "metadata": {},
   "outputs": [
    {
     "name": "stdout",
     "output_type": "stream",
     "text": [
      "+-----+----------+--------------------+\n",
      "|label|prediction|         probability|\n",
      "+-----+----------+--------------------+\n",
      "|    0|       1.0|[0.05284979934518...|\n",
      "|    0|       0.0|[0.92050844526483...|\n",
      "|    0|       1.0|[0.00195356909158...|\n",
      "|    1|       1.0|[0.02105633070022...|\n",
      "|    1|       1.0|[0.39960354989059...|\n",
      "|    1|       0.0|[0.99974417517645...|\n",
      "|    1|       0.0|[0.95143222605546...|\n",
      "|    1|       1.0|[0.04209346228278...|\n",
      "|    1|       0.0|[0.66674946084089...|\n",
      "|    1|       1.0|[1.65364046508820...|\n",
      "|    1|       0.0|[0.59930542439513...|\n",
      "|    1|       1.0|[0.45687719690929...|\n",
      "|    1|       1.0|[0.46675487186268...|\n",
      "|    0|       1.0|[0.03369314453907...|\n",
      "|    0|       0.0|[0.99969332327233...|\n",
      "|    0|       1.0|[0.32405154502906...|\n",
      "|    0|       0.0|[0.96418574325924...|\n",
      "|    0|       1.0|[0.00110827150997...|\n",
      "|    0|       1.0|[0.48200266705006...|\n",
      "|    0|       0.0|[0.50337907757583...|\n",
      "+-----+----------+--------------------+\n",
      "only showing top 20 rows\n",
      "\n"
     ]
    }
   ],
   "source": [
    "train, test = data.randomSplit([0.7, 0.3], seed = 2)\n",
    "from pyspark.ml.classification import NaiveBayes\n",
    "# Initialise the model\n",
    "nb = NaiveBayes(smoothing=1.0, modelType=\"multinomial\")\n",
    "# Fit the model\n",
    "model = nb.fit(train)\n",
    "# Make predictions on test data\n",
    "predictions = model.transform(test)\n",
    "predictions.select(\"label\", \"prediction\", \"probability\").show()"
   ]
  },
  {
   "cell_type": "code",
   "execution_count": 19,
   "metadata": {},
   "outputs": [
    {
     "name": "stdout",
     "output_type": "stream",
     "text": [
      "+-----+----------+--------------------+\n",
      "|label|prediction|        reddit_title|\n",
      "+-----+----------+--------------------+\n",
      "|    0|       1.0|Bitcoin/Crypto Po...|\n",
      "|    0|       0.0|How it feels to H...|\n",
      "|    0|       1.0|Will a lot change...|\n",
      "|    1|       1.0|Apple is investin...|\n",
      "|    1|       1.0|Bitcoin to the mo...|\n",
      "|    1|       0.0|Is Bitcoin the on...|\n",
      "|    1|       0.0|Microsoft ION's D...|\n",
      "|    1|       1.0|New to Bitcoin --...|\n",
      "|    1|       0.0|Possible Unpopula...|\n",
      "|    1|       1.0|Seed Phrase?,You ...|\n",
      "|    1|       0.0|There wont be ano...|\n",
      "|    1|       1.0|Website that i ca...|\n",
      "|    1|       1.0|Why is the crypto...|\n",
      "|    0|       1.0|Bitcoin 1 million...|\n",
      "|    0|       0.0|Bitcoin BUY Signa...|\n",
      "|    0|       1.0|Bitcoin,Elon Musk...|\n",
      "|    0|       0.0|Do I have to pay ...|\n",
      "|    0|       1.0|EV start-up Fiske...|\n",
      "|    0|       1.0|How To Protect Yo...|\n",
      "|    0|       0.0|How can i access ...|\n",
      "+-----+----------+--------------------+\n",
      "only showing top 20 rows\n",
      "\n"
     ]
    }
   ],
   "source": [
    "predictions.select(\"label\",\"prediction\",\"reddit_title\").show(20)"
   ]
  },
  {
   "cell_type": "code",
   "execution_count": 20,
   "metadata": {},
   "outputs": [
    {
     "name": "stdout",
     "output_type": "stream",
     "text": [
      "+-----+----------+--------------------+\n",
      "|label|prediction|        reddit_title|\n",
      "+-----+----------+--------------------+\n",
      "|    0|       1.0|Bitcoin/Crypto Po...|\n",
      "|    0|       0.0|How it feels to H...|\n",
      "|    0|       1.0|Will a lot change...|\n",
      "|    1|       1.0|Apple is investin...|\n",
      "|    1|       1.0|Bitcoin to the mo...|\n",
      "|    1|       0.0|Is Bitcoin the on...|\n",
      "|    1|       0.0|Microsoft ION's D...|\n",
      "|    1|       1.0|New to Bitcoin --...|\n",
      "|    1|       0.0|Possible Unpopula...|\n",
      "|    1|       1.0|Seed Phrase?,You ...|\n",
      "|    1|       0.0|There wont be ano...|\n",
      "|    1|       1.0|Website that i ca...|\n",
      "|    1|       1.0|Why is the crypto...|\n",
      "|    0|       1.0|Bitcoin 1 million...|\n",
      "|    0|       0.0|Bitcoin BUY Signa...|\n",
      "|    0|       1.0|Bitcoin,Elon Musk...|\n",
      "|    0|       0.0|Do I have to pay ...|\n",
      "|    0|       1.0|EV start-up Fiske...|\n",
      "|    0|       1.0|How To Protect Yo...|\n",
      "|    0|       0.0|How can i access ...|\n",
      "+-----+----------+--------------------+\n",
      "only showing top 20 rows\n",
      "\n",
      "None\n"
     ]
    }
   ],
   "source": [
    "print(predictions.select(\"label\",\"prediction\",\"reddit_title\").show(20))"
   ]
  },
  {
   "cell_type": "markdown",
   "metadata": {},
   "source": [
    "# Testing Model Accuracy"
   ]
  },
  {
   "cell_type": "code",
   "execution_count": 21,
   "metadata": {},
   "outputs": [
    {
     "name": "stdout",
     "output_type": "stream",
     "text": [
      "Model Accuracy:  54.754901960784316 %\n"
     ]
    }
   ],
   "source": [
    "from pyspark.ml.evaluation import BinaryClassificationEvaluator\n",
    "evaluator = BinaryClassificationEvaluator(rawPredictionCol=\"prediction\")\n",
    "accuracy = evaluator.evaluate(predictions)\n",
    "print (\"Model Accuracy: \", accuracy*100,\"%\")"
   ]
  },
  {
   "cell_type": "code",
   "execution_count": null,
   "metadata": {},
   "outputs": [],
   "source": []
  },
  {
   "cell_type": "code",
   "execution_count": null,
   "metadata": {},
   "outputs": [],
   "source": []
  },
  {
   "cell_type": "code",
   "execution_count": null,
   "metadata": {},
   "outputs": [],
   "source": []
  },
  {
   "cell_type": "markdown",
   "metadata": {},
   "source": [
    "# Workings"
   ]
  },
  {
   "cell_type": "code",
   "execution_count": 22,
   "metadata": {},
   "outputs": [
    {
     "ename": "NameError",
     "evalue": "name 'toked' is not defined",
     "output_type": "error",
     "traceback": [
      "\u001b[1;31m---------------------------------------------------------------------------\u001b[0m",
      "\u001b[1;31mNameError\u001b[0m                                 Traceback (most recent call last)",
      "\u001b[1;32m<ipython-input-22-a3dde5da1d3c>\u001b[0m in \u001b[0;36m<module>\u001b[1;34m\u001b[0m\n\u001b[1;32m----> 1\u001b[1;33m \u001b[0mtoked\u001b[0m\u001b[1;33m.\u001b[0m\u001b[0mshow\u001b[0m\u001b[1;33m(\u001b[0m\u001b[1;36m2\u001b[0m\u001b[1;33m)\u001b[0m\u001b[1;33m\u001b[0m\u001b[1;33m\u001b[0m\u001b[0m\n\u001b[0m",
      "\u001b[1;31mNameError\u001b[0m: name 'toked' is not defined"
     ]
    }
   ],
   "source": [
    "toked.show(2)"
   ]
  },
  {
   "cell_type": "markdown",
   "metadata": {},
   "source": [
    "# Remove stopwords\n"
   ]
  },
  {
   "cell_type": "code",
   "execution_count": null,
   "metadata": {},
   "outputs": [],
   "source": [
    "remover = StopWordsRemover(inputCol = 'tokenized_titles',outputCol = 'tokremd_titles')\n",
    "raw_words = remover.transform(toked)"
   ]
  },
  {
   "cell_type": "code",
   "execution_count": null,
   "metadata": {},
   "outputs": [
    {
     "name": "stdout",
     "output_type": "stream",
     "text": [
      "+----------+--------------------+-------------------+-----+--------------------+--------------------+\n",
      "|      date|        reddit_title|        pcnt_change|class|    tokenized_titles|      tokremd_titles|\n",
      "+----------+--------------------+-------------------+-----+--------------------+--------------------+\n",
      "|2021-03-07|Bought some bitco...|0.13128700703731044|    1|[bought, some, bi...|[bought, bitcoin....|\n",
      "|2021-03-08|Bitcoin to the mo...| 0.0973279798958635|    1|[bitcoin, to, the...|[bitcoin, moon,lo...|\n",
      "|2021-03-09|Happy Women's Day...|0.10063740510797503|    1|[happy, women's, ...|[happy, women's, ...|\n",
      "+----------+--------------------+-------------------+-----+--------------------+--------------------+\n",
      "only showing top 3 rows\n",
      "\n"
     ]
    }
   ],
   "source": [
    "raw_words.show(3)"
   ]
  },
  {
   "cell_type": "code",
   "execution_count": null,
   "metadata": {},
   "outputs": [],
   "source": [
    "cv= CountVectorizer(inputCol='tokremd_titles',outputCol = 'features')\n",
    "model = cv.fit(raw_words)\n",
    "countvectorizer_features = model.transform(raw_words)"
   ]
  },
  {
   "cell_type": "code",
   "execution_count": null,
   "metadata": {},
   "outputs": [
    {
     "name": "stdout",
     "output_type": "stream",
     "text": [
      "+----------+--------------------+-------------------+-----+--------------------+--------------------+--------------------+\n",
      "|      date|        reddit_title|        pcnt_change|class|    tokenized_titles|      tokremd_titles|            features|\n",
      "+----------+--------------------+-------------------+-----+--------------------+--------------------+--------------------+\n",
      "|2021-03-07|Bought some bitco...|0.13128700703731044|    1|[bought, some, bi...|[bought, bitcoin....|(10324,[16,26,61,...|\n",
      "|2021-03-08|Bitcoin to the mo...| 0.0973279798958635|    1|[bitcoin, to, the...|[bitcoin, moon,lo...|(10324,[0,1,15,30...|\n",
      "+----------+--------------------+-------------------+-----+--------------------+--------------------+--------------------+\n",
      "only showing top 2 rows\n",
      "\n"
     ]
    }
   ],
   "source": [
    "countvectorizer_features.show(2)"
   ]
  },
  {
   "cell_type": "code",
   "execution_count": null,
   "metadata": {},
   "outputs": [
    {
     "name": "stdout",
     "output_type": "stream",
     "text": [
      "+-----+\n",
      "|class|\n",
      "+-----+\n",
      "|    1|\n",
      "|    1|\n",
      "+-----+\n",
      "only showing top 2 rows\n",
      "\n"
     ]
    }
   ],
   "source": [
    "df.select(\"class\").show(2)"
   ]
  },
  {
   "cell_type": "markdown",
   "metadata": {},
   "source": [
    "# Workings 2"
   ]
  },
  {
   "cell_type": "code",
   "execution_count": null,
   "metadata": {},
   "outputs": [
    {
     "ename": "NameError",
     "evalue": "name 'json_response' is not defined",
     "output_type": "error",
     "traceback": [
      "\u001b[1;31m---------------------------------------------------------------------------\u001b[0m",
      "\u001b[1;31mNameError\u001b[0m                                 Traceback (most recent call last)",
      "\u001b[1;32m<ipython-input-17-5b5ae11f4325>\u001b[0m in \u001b[0;36m<module>\u001b[1;34m\u001b[0m\n\u001b[0;32m      1\u001b[0m \u001b[0mtitles\u001b[0m \u001b[1;33m=\u001b[0m \u001b[1;33m[\u001b[0m\u001b[1;33m]\u001b[0m\u001b[1;33m\u001b[0m\u001b[1;33m\u001b[0m\u001b[0m\n\u001b[0;32m      2\u001b[0m \u001b[0mdate\u001b[0m \u001b[1;33m=\u001b[0m \u001b[1;33m[\u001b[0m\u001b[1;33m]\u001b[0m\u001b[1;33m\u001b[0m\u001b[1;33m\u001b[0m\u001b[0m\n\u001b[1;32m----> 3\u001b[1;33m \u001b[1;32mfor\u001b[0m \u001b[0mdata\u001b[0m \u001b[1;32min\u001b[0m \u001b[0mjson_response\u001b[0m\u001b[1;33m[\u001b[0m\u001b[1;34m'data'\u001b[0m\u001b[1;33m]\u001b[0m\u001b[1;33m:\u001b[0m\u001b[1;33m\u001b[0m\u001b[1;33m\u001b[0m\u001b[0m\n\u001b[0m\u001b[0;32m      4\u001b[0m     \u001b[0mdate\u001b[0m\u001b[1;33m.\u001b[0m\u001b[0mappend\u001b[0m\u001b[1;33m(\u001b[0m\u001b[0mconvert_to_date\u001b[0m\u001b[1;33m(\u001b[0m\u001b[0mdata\u001b[0m\u001b[1;33m[\u001b[0m\u001b[1;34m'created_utc'\u001b[0m\u001b[1;33m]\u001b[0m\u001b[1;33m)\u001b[0m\u001b[1;33m)\u001b[0m\u001b[1;33m\u001b[0m\u001b[1;33m\u001b[0m\u001b[0m\n\u001b[0;32m      5\u001b[0m     \u001b[0mtitles\u001b[0m\u001b[1;33m.\u001b[0m\u001b[0mappend\u001b[0m\u001b[1;33m(\u001b[0m\u001b[0mdata\u001b[0m\u001b[1;33m[\u001b[0m\u001b[1;34m'title'\u001b[0m\u001b[1;33m]\u001b[0m\u001b[1;33m)\u001b[0m\u001b[1;33m\u001b[0m\u001b[1;33m\u001b[0m\u001b[0m\n",
      "\u001b[1;31mNameError\u001b[0m: name 'json_response' is not defined"
     ]
    }
   ],
   "source": [
    "titles = []\n",
    "date = []\n",
    "for data in json_response['data']:\n",
    "    date.append(convert_to_date(data['created_utc']))\n",
    "    titles.append(data['title'])\n",
    "df = pd.DataFrame(titles, index = date,columns = ['reddit_title'])\n",
    "df"
   ]
  },
  {
   "cell_type": "code",
   "execution_count": null,
   "metadata": {},
   "outputs": [
    {
     "data": {
      "text/plain": [
       "[2, 4, 6, 8]"
      ]
     },
     "execution_count": 218,
     "metadata": {},
     "output_type": "execute_result"
    }
   ],
   "source": [
    "list1 = [1,2,3,4]\n",
    "list2= map(lambda x:x*2,list1)\n",
    "list(list2)"
   ]
  },
  {
   "cell_type": "code",
   "execution_count": null,
   "metadata": {},
   "outputs": [
    {
     "data": {
      "text/plain": [
       "<AxesSubplot:title={'center':'BTCUSD'}, xlabel='Date'>"
      ]
     },
     "execution_count": 55,
     "metadata": {},
     "output_type": "execute_result"
    },
    {
     "data": {
      "image/png": "[encoded data removed]",
      "text/plain": [
       "<Figure size 864x576 with 1 Axes>"
      ]
     },
     "metadata": {
      "needs_background": "light"
     },
     "output_type": "display_data"
    }
   ],
   "source": [
    "df.plot(figsize = (12,8),title = 'BTCUSD')"
   ]
  },
  {
   "cell_type": "code",
   "execution_count": null,
   "metadata": {},
   "outputs": [
    {
     "name": "stdout",
     "output_type": "stream",
     "text": [
      "Row(id=4, text='spark i j k', probability=DenseVector([0.2661, 0.7339]), prediction=1.0)\n",
      "Row(id=5, text='l m n', probability=DenseVector([0.9209, 0.0791]), prediction=0.0)\n",
      "Row(id=6, text='mapreduce spark', probability=DenseVector([0.4429, 0.5571]), prediction=1.0)\n",
      "Row(id=7, text='apache hadoop', probability=DenseVector([0.8584, 0.1416]), prediction=0.0)\n"
     ]
    }
   ],
   "source": [
    "from pyspark.ml import Pipeline\n",
    "from pyspark.ml.classification import LogisticRegression\n",
    "from pyspark.ml.evaluation import BinaryClassificationEvaluator\n",
    "from pyspark.ml.feature import HashingTF, Tokenizer\n",
    "from pyspark.ml.tuning import CrossValidator, ParamGridBuilder\n",
    "\n",
    "# Prepare training documents, which are labeled.\n",
    "training = spark.createDataFrame([\n",
    "    (0, \"a b c d e spark\", 1.0),\n",
    "    (1, \"b d\", 0.0),\n",
    "    (2, \"spark f g h\", 1.0),\n",
    "    (3, \"hadoop mapreduce\", 0.0),\n",
    "    (4, \"b spark who\", 1.0),\n",
    "    (5, \"g d a y\", 0.0),\n",
    "    (6, \"spark fly\", 1.0),\n",
    "    (7, \"was mapreduce\", 0.0),\n",
    "    (8, \"e spark program\", 1.0),\n",
    "    (9, \"a e c l\", 0.0),\n",
    "    (10, \"spark compile\", 1.0),\n",
    "    (11, \"hadoop software\", 0.0)\n",
    "], [\"id\", \"text\", \"label\"])\n",
    "\n",
    "# Configure an ML pipeline, which consists of tree stages: tokenizer, hashingTF, and lr.\n",
    "tokenizer = Tokenizer(inputCol=\"text\", outputCol=\"words\")\n",
    "hashingTF = HashingTF(inputCol=tokenizer.getOutputCol(), outputCol=\"features\")\n",
    "lr = LogisticRegression(maxIter=10)\n",
    "pipeline = Pipeline(stages=[tokenizer, hashingTF, lr])\n",
    "\n",
    "# We now treat the Pipeline as an Estimator, wrapping it in a CrossValidator instance.\n",
    "# This will allow us to jointly choose parameters for all Pipeline stages.\n",
    "# A CrossValidator requires an Estimator, a set of Estimator ParamMaps, and an Evaluator.\n",
    "# We use a ParamGridBuilder to construct a grid of parameters to search over.\n",
    "# With 3 values for hashingTF.numFeatures and 2 values for lr.regParam,\n",
    "# this grid will have 3 x 2 = 6 parameter settings for CrossValidator to choose from.\n",
    "paramGrid = ParamGridBuilder() \\\n",
    "    .addGrid(hashingTF.numFeatures, [10, 100, 1000]) \\\n",
    "    .addGrid(lr.regParam, [0.1, 0.01]) \\\n",
    "    .build()\n",
    "\n",
    "crossval = CrossValidator(estimator=pipeline,\n",
    "                          estimatorParamMaps=paramGrid,\n",
    "                          evaluator=BinaryClassificationEvaluator(),\n",
    "                          numFolds=2)  # use 3+ folds in practice\n",
    "\n",
    "# Run cross-validation, and choose the best set of parameters.\n",
    "cvModel = crossval.fit(training)\n",
    "\n",
    "# Prepare test documents, which are unlabeled.\n",
    "test = spark.createDataFrame([\n",
    "    (4, \"spark i j k\"),\n",
    "    (5, \"l m n\"),\n",
    "    (6, \"mapreduce spark\"),\n",
    "    (7, \"apache hadoop\")\n",
    "], [\"id\", \"text\"])\n",
    "\n",
    "# Make predictions on test documents. cvModel uses the best model found (lrModel).\n",
    "prediction = cvModel.transform(test)\n",
    "selected = prediction.select(\"id\", \"text\", \"probability\", \"prediction\")\n",
    "for row in selected.collect():\n",
    "    print(row)"
   ]
  },
  {
   "cell_type": "code",
   "execution_count": null,
   "metadata": {},
   "outputs": [],
   "source": []
  }
 ],
 "metadata": {
  "interpreter": {
   "hash": "b3ba2566441a7c06988d0923437866b63cedc61552a5af99d1f4fb67d367b25f"
  },
  "kernelspec": {
   "display_name": "Python 3.8.8 ('base')",
   "language": "python",
   "name": "python3"
  },
  "language_info": {
   "codemirror_mode": {
    "name": "ipython",
    "version": 3
   },
   "file_extension": ".py",
   "mimetype": "text/x-python",
   "name": "python",
   "nbconvert_exporter": "python",
   "pygments_lexer": "ipython3",
   "version": "3.8.8"
  },
  "orig_nbformat": 4
 },
 "nbformat": 4,
 "nbformat_minor": 2
}
